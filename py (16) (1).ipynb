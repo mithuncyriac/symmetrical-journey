{
 "cells": [
  {
   "cell_type": "markdown",
   "id": "0e9d2e41",
   "metadata": {},
   "source": [
    "### Key features\n",
    "Python has many reasons for being popular and in demand. A few of the reasons are mentioned below.\n",
    "\n",
    "* Emphasis on code readability, shorter codes, ease of writing.\n",
    "* Programmers can express logical concepts in fewer lines of code in comparison to languages such as C++ or Java.\n",
    "* Python supports multiple programming paradigms, like object-oriented, imperative and functional programming or procedural.\n",
    "* It provides extensive support libraries(Django for web development, Pandas for data analytics etc)\n",
    "* Dynamically typed language(Data type is based on value assigned)\n",
    "* Philosophy is “Simplicity is the best”."
   ]
  },
  {
   "cell_type": "markdown",
   "id": "5d2b148f",
   "metadata": {},
   "source": [
    " ### check Python already exists?  \n",
    " \n",
    " * python3 --version"
   ]
  },
  {
   "cell_type": "code",
   "execution_count": null,
   "id": "93d4b9ac",
   "metadata": {},
   "outputs": [],
   "source": []
  },
  {
   "cell_type": "markdown",
   "id": "79729bb6",
   "metadata": {},
   "source": [
    "## simple Hello World Program.\n",
    "\n",
    "#### Python program to print\n",
    "#### Hello World\n",
    " \n",
    "print(\"Hello World\")"
   ]
  },
  {
   "cell_type": "markdown",
   "id": "2bbbb872",
   "metadata": {},
   "source": []
  },
  {
   "cell_type": "markdown",
   "id": "1805931c",
   "metadata": {},
   "source": [
    "#### Generally, there are two ways to run a Python program.\n",
    "\n",
    "* Using IDEs: You can use various IDEs(Pycharm, Jupyter Notebook, etc.) which can be used to run Python programs.\n",
    "* Using Command-Line: You can also use command line options to run a Python program. Below steps demonstrate how to run a Python program on Command line \n",
    "\n",
    "Windows/Unix Operating System:\n",
    "\n",
    "<br>\n",
    "Open Commandline and then to compile the code type python HelloWorld.py. If your code has no error then it will execute properly and output will be displayed.\n",
    "\n"
   ]
  },
  {
   "cell_type": "markdown",
   "id": "f51f1e2f",
   "metadata": {},
   "source": [
    "#### Statements\n",
    "Instructions written in the source code for execution are called statements. There are different types of statements in the Python programming language like Assignment statements, Conditional statements, Looping statements, etc. These all help the user to get the required output.\n",
    "For example, n = 50 is an assignment statement.<br>\n",
    "Multi-Line Statements: Statements in Python can be extended to one or more lines using parentheses (), braces {}, square brackets [], semi-colon (;), continuation character slash (\\). When the programmer needs to do long calculations and cannot fit his statements into one line, one can make use of these characters. "
   ]
  },
  {
   "cell_type": "code",
   "execution_count": null,
   "id": "766fd34e",
   "metadata": {},
   "outputs": [],
   "source": [
    "# Declared using Continuation Character (\\):\n",
    "s = 1 + 2 + 3 + \\\n",
    "    4 + 5 + 6 + \\\n",
    "    7 + 8 + 9\n",
    "\n",
    "# Declared using parentheses () :\n",
    "n = (1 * 2 * 3 + 7 + 8 + 9)\n",
    "\n",
    "# Declared using square brackets [] :\n",
    "footballer = ['MESSI',\n",
    "          'NEYMAR',\n",
    "          'SUAREZ']\n",
    "\n",
    "# Declared using braces {} :\n",
    "x = {1 + 2 + 3 + 4 + 5 + 6 +\n",
    "     7 + 8 + 9}\n",
    "\n",
    "# Declared using semicolons(;) :\n",
    "flag = 2; ropes = 3; pole = 4"
   ]
  },
  {
   "cell_type": "code",
   "execution_count": null,
   "id": "d2fe8c80",
   "metadata": {},
   "outputs": [],
   "source": [
    "flag = 5;ropes = 3 "
   ]
  },
  {
   "cell_type": "markdown",
   "id": "142a320a",
   "metadata": {},
   "source": [
    "#### Comments\n",
    "Python developers often make use of the comment system as, without the use of it, things can get real confusing, real fast. Comments are the useful information that the developers provide to make the reader understand the source code. It explains the logic or a part of it used in the code. Comments are usually helpful to someone maintaining or enhancing your code when you are no longer around to answer questions about it. These are often cited as a useful programming convention that does not take part in the output of the program but improves the readability of the whole program. There are two types of comments in Python: "
   ]
  },
  {
   "cell_type": "markdown",
   "id": "e610ff15",
   "metadata": {},
   "source": [
    "**Single line comments**:\n",
    "Python single line comment starts with hashtag symbol with no white spaces (#) and lasts till the end of the line. If the comment exceeds one line then put a hashtag on the next line and continue the comment. Python’s single-line comments are proved useful for supplying short explanations for variables, function declarations, and expressions. See the following code snippet demonstrating single line comment:"
   ]
  },
  {
   "cell_type": "code",
   "execution_count": null,
   "id": "1c64a9ee",
   "metadata": {},
   "outputs": [],
   "source": [
    "\n",
    "a, b = 1, 3 # Declaring two integers\n",
    "sum = a + b # adding two integers\n",
    "print(sum) # displaying the output"
   ]
  },
  {
   "cell_type": "markdown",
   "id": "0e7fa34a",
   "metadata": {},
   "source": [
    "**Multi-line string as a comment**: Python multi-line comment is a piece of text enclosed in a delimiter (\"\"\") on each end of the comment. Again there should be no white space between delimiter (\"\"\"). They are useful when the comment text does not fit into one line; therefore need to span across lines. Multi-line comments or paragraphs serve as documentation for others reading your code. See the following code snippet demonstrating multi-line comment:"
   ]
  },
  {
   "cell_type": "code",
   "execution_count": null,
   "id": "8797cf96",
   "metadata": {},
   "outputs": [],
   "source": [
    "\n",
    "\"\"\"\n",
    "This would be a multiline comment in Python that\n",
    "spans several lines and describes a portal .\n",
    " It contains\n",
    "well written, well thought\n",
    "and well-explained comments.\n",
    "…\n",
    "\"\"\"\n",
    "print(\"hello\")"
   ]
  },
  {
   "cell_type": "markdown",
   "id": "0da78e52",
   "metadata": {},
   "source": [
    "#### Python Variables\n",
    "\n",
    "Python is not “statically typed”. We do not need to declare variables before using them or declare their type. A variable is created the moment we first assign a value to it. A variable is a name given to a memory location. It is the basic unit of storage in a program.\n",
    "\n",
    "* The value stored in a variable can be changed during program execution.\n",
    "* A variable is only a name given to a memory location, all the operations done on the variable effects that memory location.\n",
    "\n",
    "**Rules for creating variables in Python:**\n",
    "*  A variable name must start with a letter or the underscore character.\n",
    "*  A variable name cannot start with a number.\n",
    "*  A variable name can only contain alpha-numeric characters and underscores (A-z, 0-9, and _ ).\n",
    "*  Variable names are case-sensitive (name, Name and NAME are three different variables).\n",
    "*  The reserved words(keywords) cannot be used naming the variable."
   ]
  },
  {
   "cell_type": "markdown",
   "id": "fd7008ff",
   "metadata": {},
   "source": [
    "### Declare the Variable\n",
    "\n",
    "##### display :\n",
    "print(\"Before declare: \", Number)\n",
    "###### declaring the var :\n",
    "Number = 100 \n",
    "##### display :\n",
    "print(\"After declare: \", Number) \n",
    "##### re-declare the var :\n",
    "Number = 120.3  \n",
    "print(\"After re-declare:\", Number)\n",
    "##### Assigning a single value to multiple variables:  :\n",
    "a = b = c = 10\n",
    "  \n",
    "print(a)\n",
    "print(b)\n",
    "print(c)\n",
    "##### Assigning different values to multiple variables:\n",
    "a, b, c = 1, 20.2, \"Quest\"\n",
    "  \n",
    "print(a)\n",
    "print(b)\n",
    "print(c)\n",
    "#####  we use the same name, the variable starts referring to a new value and type :\n",
    "a = 10\n",
    "a = \"Quest\"\n",
    "  \n",
    "print(a)\n",
    "##### How does + operator work with variables? \n",
    "a = 10\n",
    "b = 20\n",
    "print(a+b)\n",
    "  \n",
    "a = \"Quest\"\n",
    "b = \"give wings to your dreams\"\n",
    "print(a+b)\n",
    "##### use + for different types also\n",
    "a = 10\n",
    "b = \"Geeks\"\n",
    "print(a+b)\n",
    "\n"
   ]
  },
  {
   "cell_type": "code",
   "execution_count": null,
   "id": "d473dfd6",
   "metadata": {},
   "outputs": [],
   "source": []
  },
  {
   "cell_type": "markdown",
   "id": "da922cbf",
   "metadata": {},
   "source": [
    "**Variable type in Python:**\n",
    "Data types are the classification or categorization of data items. It represents the kind of value that tells what operations can be performed on a particular data. Since everything is an object in Python programming, data types are actually classes and variables are instance (object) of these classes.\n",
    "\n",
    "standard or built-in data type of Python:\n",
    "\n",
    "* Numeric\n",
    "* Sequence Type\n",
    "* Boolean\n",
    "* Set\n",
    "* Dictionary"
   ]
  },
  {
   "cell_type": "code",
   "execution_count": null,
   "id": "d39f4b3d",
   "metadata": {},
   "outputs": [],
   "source": [
    "\n",
    "# numberic\n",
    "var = 123\n",
    "print(\"Numbric data : \", var)\n",
    "  \n",
    "# Sequence Type\n",
    "String1 = 'Welcome to the World'\n",
    "print(\"String with the use of Single Quotes: \")\n",
    "print(String1)\n",
    "  \n",
    "# Boolean\n",
    "print(type(True))\n",
    "print(type(False))\n",
    "  \n",
    "# Creating a Set with\n",
    "# the use of a String\n",
    "set1 = set(\"Quest\")\n",
    "print(\"\\nSet with the use of String: \")\n",
    "print(set1)\n",
    "  \n",
    "# Creating a Dictionary\n",
    "# with Integer Keys\n",
    "Dict = {1: 'wings', 2: 'of', 3: 'Fire'}\n",
    "print(\"\\nDictionary with the use of Integer Keys: \")\n",
    "print(Dict)"
   ]
  },
  {
   "cell_type": "code",
   "execution_count": null,
   "id": "52d05476",
   "metadata": {},
   "outputs": [],
   "source": []
  },
  {
   "cell_type": "markdown",
   "id": "67538f4e",
   "metadata": {},
   "source": [
    "**Object References:**\n",
    "Let, we assign a variable x to value 5, and another variable y to the variable x.<br>\n",
    "x = 5\n",
    "y = x"
   ]
  },
  {
   "cell_type": "markdown",
   "id": "cc719292",
   "metadata": {},
   "source": [
    "When Python looks at the first statement, what it does is that, first, it creates an object to represent the value 5. Then, it creates the variable x if it doesn’t exist and made it a reference to this new object 5. The second line causes Python to create the variable y, and it is not assigned with x, rather it is made to reference that object that x does. The net effect is that the variables x and y wind up referencing the same object. This situation, with multiple names referencing the same object, is called a Shared Reference in Python"
   ]
  },
  {
   "cell_type": "code",
   "execution_count": null,
   "id": "0734976b",
   "metadata": {},
   "outputs": [],
   "source": [
    "#x = 'new world'\n",
    "#This statement makes a new object to represent ‘Geeks’ and makes x to reference this new object"
   ]
  },
  {
   "cell_type": "markdown",
   "id": "e8664ed9",
   "metadata": {},
   "source": [
    "### Python Operators \n",
    "Python Operators in general are used to perform operations on values and variables. These are standard symbols used for the purpose of logical and arithmetic operations"
   ]
  },
  {
   "cell_type": "markdown",
   "id": "61b4c574",
   "metadata": {},
   "source": [
    "**Arithmetic Operators**\n",
    "Arithmetic operators are used to performing mathematical operations like addition, subtraction, multiplication, and division.\n",
    "\n"
   ]
  },
  {
   "cell_type": "code",
   "execution_count": null,
   "id": "381d94e3",
   "metadata": {},
   "outputs": [],
   "source": []
  },
  {
   "cell_type": "code",
   "execution_count": null,
   "id": "5a8c3917",
   "metadata": {},
   "outputs": [],
   "source": [
    "# Examples of Arithmetic Operator\n",
    "a = 9\n",
    "b = 4\n",
    " \n",
    "# Addition of numbers\n",
    "add = a + b\n",
    " \n",
    "# Subtraction of numbers\n",
    "sub = a - b\n",
    " \n",
    "# Multiplication of number\n",
    "mul = a * b\n",
    " \n",
    "# Division(float) of number\n",
    "div1 = a / b\n",
    " \n",
    "# Division(floor) of number\n",
    "div2 = a // b\n",
    " \n",
    "# Modulo of both number\n",
    "mod = a % b\n",
    " \n",
    "# Power\n",
    "p = a ** b\n",
    " \n",
    "# # print results\n",
    "print(add)\n",
    "print(sub)\n",
    "print(mul)\n",
    "print(div1)\n",
    "print(div2)\n",
    "print(mod)\n",
    "print(p)"
   ]
  },
  {
   "cell_type": "markdown",
   "id": "c468b86e",
   "metadata": {},
   "source": [
    "#### Benefits of Double Division Operator over Single Division Operator in Python\n",
    "The Double Division operator in Python returns the floor value for both integer and floating-point arguments after division."
   ]
  },
  {
   "cell_type": "code",
   "execution_count": null,
   "id": "fda9c579",
   "metadata": {},
   "outputs": [],
   "source": [
    "# # A Python program to demonstrate use of  \n",
    "# # \"//\" for both integers and floating points\n",
    "  \n",
    "# print(5//2)\n",
    "# print(-5//2)\n",
    "# print(5.0//2)\n",
    "\n",
    "# The single division operator behaves abnormally generally for very large numbers. Consider the following example"
   ]
  },
  {
   "cell_type": "code",
   "execution_count": null,
   "id": "1d6f93b8",
   "metadata": {},
   "outputs": [],
   "source": [
    "# # single division\n",
    "# print(1000000000000002/2)\n",
    "# print()\n",
    "# # # Gives wrong output\n",
    "# print(int(((10 ** 17) + 2)/2))\n",
    "# print()\n",
    "  \n",
    "# # # Gives Correct output\n",
    "# print(((10 ** 17) + 2)//2)"
   ]
  },
  {
   "cell_type": "code",
   "execution_count": null,
   "id": "9c9032c0",
   "metadata": {},
   "outputs": [],
   "source": [
    "\n",
    "# x = 10000000000000000000006\n",
    "# if int(x / 2) == x // 2:\n",
    "#     print(\"Hello\")\n",
    "# else:\n",
    "#     print(\"World\")\n",
    "\n",
    "# The Output should have been Hello if the single division operator behaved normally because 2 properly divides x. But the output is World because \n",
    "# The results after Single Division Operator and Double Division Operator ARE NOT THE SAME."
   ]
  },
  {
   "cell_type": "code",
   "execution_count": null,
   "id": "fec6e444",
   "metadata": {},
   "outputs": [],
   "source": [
    "# # This fact can be used for programs such as finding the sum of first n numbers for a large n.\n",
    "\n",
    "\n",
    "n = 10000000000\n",
    "  \n",
    "s1 = int(n * (n + 1) / 2)\n",
    "s2 = n * (n + 1) // 2\n",
    "  \n",
    "print(\"Sum using single division operator : \", s1)\n",
    "print(\"Sum using double division operator : \", s2)\n",
    "\n",
    "# # Thus the result found by using the single division operator is Wrong, while the result found by using the double division operator is Correct.\n",
    "# # This is a huge benefit of Double Division Operator over Single Division Operator in Python."
   ]
  },
  {
   "cell_type": "markdown",
   "id": "1df3011f",
   "metadata": {},
   "source": [
    "**Relational Operators in Python**"
   ]
  },
  {
   "cell_type": "code",
   "execution_count": null,
   "id": "69b99f16",
   "metadata": {},
   "outputs": [],
   "source": [
    "Relational operators are used for comparing the values. It either returns True or False according to the condition. These operators are also known as Comparison Operators."
   ]
  },
  {
   "cell_type": "code",
   "execution_count": null,
   "id": "b2ab3c24",
   "metadata": {},
   "outputs": [],
   "source": [
    "# Examples of Relational Operators\n",
    "a = 13\n",
    "b = 33\n",
    " \n",
    "# a > b is False\n",
    "print(a > b)\n",
    " \n",
    "# a < b is True\n",
    "print(a < b)\n",
    " \n",
    "# a == b is False\n",
    "print(a == b)\n",
    " \n",
    "# a != b is True\n",
    "print(a != b)\n",
    " \n",
    "# a >= b is False\n",
    "print(a >= b)\n",
    " \n",
    "# a <= b is True\n",
    "print(a <= b)"
   ]
  },
  {
   "cell_type": "code",
   "execution_count": null,
   "id": "a27f240f",
   "metadata": {},
   "outputs": [],
   "source": []
  },
  {
   "cell_type": "code",
   "execution_count": null,
   "id": "f8583e23",
   "metadata": {},
   "outputs": [],
   "source": [
    "# Examples of Logical Operator\n",
    "a = True\n",
    "b = False\n",
    " \n",
    "# Print a and b is False\n",
    "print(a and b)\n",
    " \n",
    "# Print a or b is True\n",
    "print(a or b)\n",
    " \n",
    "# Print not a is False\n",
    "print(not a)"
   ]
  },
  {
   "cell_type": "code",
   "execution_count": null,
   "id": "394a51a3",
   "metadata": {},
   "outputs": [],
   "source": [
    "\n",
    "# Python program to demonstrate\n",
    "# logical and operator\n",
    "  \n",
    "a = 10\n",
    "b = 10\n",
    "c = -10\n",
    "  \n",
    "# if a > 0 and b > 0:\n",
    "#     print(\"The numbers are greater than 0\")\n",
    "#   \n",
    "if a > 0 and b > 0 and c > 0:\n",
    "    print(\"The numbers are greater than 0\")\n",
    "else:\n",
    "    print(\"Atleast one number is not greater than 0\")"
   ]
  },
  {
   "cell_type": "code",
   "execution_count": null,
   "id": "8c3e9c9e",
   "metadata": {},
   "outputs": [],
   "source": [
    "\n",
    "# Python program to demonstrate\n",
    "# logical and operator\n",
    "  \n",
    "a = 10\n",
    "b = 12\n",
    "c = 6  # ,\"\",0,None--->False\n",
    "  \n",
    "if a and b and c:\n",
    "    print(\"All the numbers have boolean value as True\")\n",
    "else:\n",
    "    print(\"Atleast one number has boolean value as False\")"
   ]
  },
  {
   "cell_type": "code",
   "execution_count": null,
   "id": "45bdf6fa",
   "metadata": {},
   "outputs": [],
   "source": []
  },
  {
   "cell_type": "code",
   "execution_count": null,
   "id": "f3c34d60",
   "metadata": {},
   "outputs": [],
   "source": [
    "\n",
    "# Python program to demonstrate\n",
    "# logical or operator\n",
    "  \n",
    "a = 10\n",
    "b = -10\n",
    "c = 0\n",
    "  \n",
    "if a > 0 or b > 0:\n",
    "    print(\"Either of the number is greater than 0\")\n",
    "else:\n",
    "    print(\"No number is greater than 0\")\n",
    "  \n",
    "if b > 0 or c > 0:\n",
    "     print(\"Either of the number is greater than 0\")\n",
    "else:\n",
    "     print(\"No number is greater than 0\")"
   ]
  },
  {
   "cell_type": "code",
   "execution_count": null,
   "id": "54485f67",
   "metadata": {},
   "outputs": [],
   "source": [
    "# Python program to demonstrate\n",
    "# logical and operator\n",
    "  \n",
    "a = 10\n",
    "b = 12\n",
    "c = 0\n",
    "  \n",
    "if a or b or c:\n",
    "    print(\"Atleast one number has boolean value as True\")\n",
    "else:\n",
    "    print(\"All the numbers have boolean value as False\")"
   ]
  },
  {
   "cell_type": "code",
   "execution_count": null,
   "id": "d2652604",
   "metadata": {},
   "outputs": [],
   "source": []
  },
  {
   "cell_type": "code",
   "execution_count": null,
   "id": "4d655b3e",
   "metadata": {},
   "outputs": [],
   "source": [
    "\n",
    "# Python program to demonstrate\n",
    "# logical not operator\n",
    "  \n",
    "a = 10\n",
    "  \n",
    "if not a:\n",
    "    print(\"Boolean value of a is True\")\n",
    "  \n",
    "if not (a%3 == 0 or a%5 == 0):\n",
    "    print(\"10 is not divisible by either 3 or 5\")\n",
    "else:\n",
    "    print(\"10 is divisible by either 3 or 5\")"
   ]
  },
  {
   "cell_type": "code",
   "execution_count": null,
   "id": "d78a1a27",
   "metadata": {},
   "outputs": [],
   "source": []
  },
  {
   "cell_type": "markdown",
   "id": "8f900978",
   "metadata": {},
   "source": [
    "#####  Order of evaluation of logical operators\n",
    "In the case of multiple operators, Python always evaluates the expression from left to right. "
   ]
  },
  {
   "cell_type": "code",
   "execution_count": null,
   "id": "1d6770a2",
   "metadata": {},
   "outputs": [],
   "source": [
    "if a(-1) or b(5) or c(10):\n",
    "    print(\"Atleast one of the number is positive\")"
   ]
  },
  {
   "cell_type": "markdown",
   "id": "90739061",
   "metadata": {},
   "source": [
    "### Python Bitwise Operators\n",
    "In Python, bitwise operators are used to performing bitwise calculations on integers. The integers are first converted into binary and then operations are performed on bit by bit, hence the name bitwise operators. Then the result is returned in decimal format. Python bitwise operators work only on integers"
   ]
  },
  {
   "cell_type": "raw",
   "id": "e741a4fb",
   "metadata": {},
   "source": [
    "Bitwise AND operator: Returns 1 if both the bits are 1 else 0.\n",
    "Example: \n",
    "    a = 10 = 1010 (Binary)\n",
    "    b = 4 =  0100 (Binary)\n",
    "\n",
    "a & b = 1010\n",
    "         &\n",
    "        0100\n",
    "      = 0000\n",
    "      = 0 (Decimal)\n",
    "Bitwise or operator: Returns 1 if either of the bit is 1 else 0.\n",
    "Example:\n",
    "\n",
    "a = 10 = 1010 (Binary)\n",
    "b = 4 =  0100 (Binary)\n",
    "\n",
    "a | b = 1010\n",
    "         |\n",
    "        0100\n",
    "      = 1110\n",
    "      = 14 (Decimal)\n",
    "Bitwise not operator: Returns one’s complement of the number.\n",
    "Example:\n",
    "\n",
    "a = 10 = 1010 (Binary)\n",
    "\n",
    "~a = ~1010\n",
    "   = -(1010 + 1)\n",
    "   = -(1011)\n",
    "   = -11 (Decimal)\n",
    "Bitwise xor operator: Returns 1 if one of the bits is 1 and the other is 0 else returns false.\n",
    "Example:\n",
    "\n",
    "a = 10 = 1010 (Binary)\n",
    "b = 4 =  0100 (Binary)\n",
    "\n",
    "a ^ b = 1010\n",
    "         ^\n",
    "        0100\n",
    "      = 1110\n",
    "      = 14 (Decimal)"
   ]
  },
  {
   "cell_type": "code",
   "execution_count": null,
   "id": "594a85b2",
   "metadata": {},
   "outputs": [],
   "source": [
    "# Python program to show\n",
    "# bitwise operators\n",
    " \n",
    "a = 10\n",
    "b = 4\n",
    " \n",
    "# Print bitwise AND operation\n",
    "print(\"a & b =\", a & b)\n",
    " \n",
    "# Print bitwise OR operation\n",
    "print(\"a | b =\", a | b)\n",
    " \n",
    "# Print bitwise NOT operation\n",
    "print(\"~a =\", ~a)\n",
    " \n",
    "# print bitwise XOR operation\n",
    "print(\"a ^ b =\", a ^ b)\n",
    "\n",
    "\n",
    "\n"
   ]
  },
  {
   "cell_type": "markdown",
   "id": "414fd314",
   "metadata": {},
   "source": [
    "### Shift Operators\n",
    "These operators are used to shift the bits of a number left or right thereby multiplying or dividing the number by two respectively. They can be used when we have to multiply or divide a number by two. \n",
    "Bitwise right shift: Shifts the bits of the number to the right and fills 0 on voids left( fills 1 in the case of a negative number) as a result. Similar effect as of dividing the number with some power of two."
   ]
  },
  {
   "cell_type": "raw",
   "id": "d1e68ae9",
   "metadata": {},
   "source": [
    "Example: \n",
    "\n",
    "Example 1:\n",
    "a = 10 = 0000 1010 (Binary)\n",
    "a >> 1 = 0000 0101 = 5\n",
    "\n",
    "Example 2:\n",
    "a = -10 = 1111 0110 (Binary)\n",
    "a >> 1 = 1111 1011 = -5 \n",
    "Bitwise left shift: Shifts the bits of the number to the left and fills 0 on voids right as a result. Similar effect as of multiplying the number with some power of two.\n",
    "Example: \n",
    "\n",
    "Example 1:\n",
    "a = 5 = 0000 0101 (Binary)\n",
    "a << 1 = 0000 1010 = 10\n",
    "a << 2 = 0001 0100 = 20 \n",
    "\n",
    "Example 2:\n",
    "b = -10 = 1111 0110 (Binary)\n",
    "b << 1 = 1110 1100 = -20\n",
    "b << 2 = 1101 1000 = -40 "
   ]
  },
  {
   "cell_type": "code",
   "execution_count": null,
   "id": "e9e87cc3",
   "metadata": {},
   "outputs": [],
   "source": [
    "# Python program to show\n",
    "# shift operators\n",
    " \n",
    "a = 10\n",
    "b = -10\n",
    " \n",
    "# print bitwise right shift operator (equals to divide by 2)\n",
    "print(\"a >> 1 =\", a >> 1)\n",
    "print(\"b >> 1 =\", b >> 1)\n",
    " \n",
    "a = 5\n",
    "b = -10\n",
    " \n",
    "# print bitwise left shift operator(equals to multipling by 2)\n",
    "print(\"a << 1 =\", a << 1)\n",
    "print(\"b << 1 =\", b << 1)"
   ]
  },
  {
   "cell_type": "code",
   "execution_count": null,
   "id": "dbcff2aa",
   "metadata": {},
   "outputs": [],
   "source": [
    "'a' + 'b' "
   ]
  },
  {
   "cell_type": "code",
   "execution_count": null,
   "id": "83b91c43",
   "metadata": {},
   "outputs": [],
   "source": [
    "1 + 2"
   ]
  },
  {
   "cell_type": "markdown",
   "id": "0a41976b",
   "metadata": {},
   "source": [
    "#### Operator Overloading in Python\n",
    "\n",
    "Operator Overloading means giving extended meaning beyond their predefined operational meaning. For example operator + is used to add two integers as well as join two strings and merge two lists. It is achievable because ‘+’ operator is overloaded by int class and str class. You might have noticed that the same built-in operator or function shows different behavior for objects of different classes, this is called Operator Overloading. "
   ]
  },
  {
   "cell_type": "code",
   "execution_count": null,
   "id": "2ef00617",
   "metadata": {},
   "outputs": [],
   "source": []
  },
  {
   "attachments": {
    "Python-data-structure1-2.jpg": {
     "image/jpeg": "[encoded data removed]"
    }
   },
   "cell_type": "markdown",
   "id": "f8a0c4f0",
   "metadata": {},
   "source": [
    "![Python-data-structure1-2.jpg](attachment:Python-data-structure1-2.jpg)"
   ]
  },
  {
   "cell_type": "code",
   "execution_count": null,
   "id": "cd73ddd6",
   "metadata": {},
   "outputs": [],
   "source": []
  },
  {
   "cell_type": "code",
   "execution_count": null,
   "id": "d2f3a888",
   "metadata": {},
   "outputs": [],
   "source": [
    "type(5)"
   ]
  },
  {
   "cell_type": "code",
   "execution_count": null,
   "id": "12ea4876",
   "metadata": {},
   "outputs": [],
   "source": [
    "type(5.0)"
   ]
  },
  {
   "cell_type": "code",
   "execution_count": null,
   "id": "ab099604",
   "metadata": {},
   "outputs": [],
   "source": [
    "c = 2 + 4j\n",
    "print(type(c))"
   ]
  },
  {
   "cell_type": "code",
   "execution_count": null,
   "id": "71c45421",
   "metadata": {},
   "outputs": [],
   "source": [
    "#immurable data type\n",
    "'Analyt'\n",
    "\"asd\"\n",
    "\"\"\"welcome\"\"\"\n",
    "\n",
    "type('h')\n",
    "\n",
    "a = \"Analyst\"\n",
    "\n",
    "# print(a[-1])\n",
    "\n",
    "string1 = \"hai \"\n",
    "\n",
    "# string1[0:5]\n",
    "\n",
    "string1[0] = 'b'\n",
    "# string1 = 'bai'\n",
    "string1"
   ]
  },
  {
   "cell_type": "code",
   "execution_count": null,
   "id": "cf1bf675",
   "metadata": {},
   "outputs": [],
   "source": [
    "string = \"hello, l am new here\"\n",
    "string[0::2]"
   ]
  },
  {
   "cell_type": "code",
   "execution_count": null,
   "id": "38fb957a",
   "metadata": {},
   "outputs": [],
   "source": [
    "string = 'I\\'m new \"here\"'\n",
    "print(string)"
   ]
  },
  {
   "cell_type": "code",
   "execution_count": null,
   "id": "d51f7086",
   "metadata": {},
   "outputs": [],
   "source": [
    "string1 = \"c:\\\\python\\\\geeks\" \n",
    "print(string1)"
   ]
  },
  {
   "cell_type": "code",
   "execution_count": null,
   "id": "b3d9d3d8",
   "metadata": {},
   "outputs": [],
   "source": [
    "string2 = r\" this is a new line symbol --> \\t\\t hai\" \n",
    "print(string2) "
   ]
  },
  {
   "cell_type": "code",
   "execution_count": null,
   "id": "66f370f9",
   "metadata": {},
   "outputs": [],
   "source": [
    "#string formatting\n",
    "\n",
    "a = \"welcome\" \n",
    "b = \"to \"\n",
    "c = \"string formatting\"\n",
    "\n",
    "String24 = \"{} {} {}\".format(\"hai\",b,c)\n",
    "print(String24)"
   ]
  },
  {
   "cell_type": "code",
   "execution_count": null,
   "id": "c5aee591",
   "metadata": {},
   "outputs": [],
   "source": [
    "j = int(input(\"enter the age\")) \n",
    "str2 = \" my brother is of age {}\".format(j)\n",
    "print(str2) "
   ]
  },
  {
   "cell_type": "code",
   "execution_count": null,
   "id": "a4966867",
   "metadata": {},
   "outputs": [],
   "source": [
    "a = \"welcome\" \n",
    "b = \"to \"\n",
    "c = \"string formatting\"\n",
    "\n",
    "String24 = \"{2} {0} {1}\".format(a,b,c) \n",
    "print(String24)"
   ]
  },
  {
   "cell_type": "code",
   "execution_count": null,
   "id": "0ca7ae08",
   "metadata": {},
   "outputs": [],
   "source": [
    "a = \"welcome\" \n",
    "b = \"to \"\n",
    "c = \"string formatting\" \n",
    "\n",
    "String24 = \"{0} {0} {0}\".format(a,b,c) \n",
    "print(String24)"
   ]
  },
  {
   "cell_type": "code",
   "execution_count": null,
   "id": "15888cf1",
   "metadata": {},
   "outputs": [],
   "source": [
    "a = \"welcome\" \n",
    "b = \"to \"\n",
    "c = \"string formatting\"\n",
    "\n",
    "String24 = \"{c} {b} {a}\".format(a=\"hai\" ,b=\"newcomer\",c=\"bye\")  \n",
    "print(String24)\n",
    "print(a)"
   ]
  },
  {
   "cell_type": "code",
   "execution_count": null,
   "id": "806bb85e",
   "metadata": {},
   "outputs": [],
   "source": [
    "# binary conversion\n",
    "string1 = \"{0:b} {1:b}\".format(10,16)\n",
    "print(string1)"
   ]
  },
  {
   "cell_type": "code",
   "execution_count": null,
   "id": "abffc803",
   "metadata": {},
   "outputs": [],
   "source": [
    "string2  = \"{:.5f}\".format(15789/7)\n",
    "print(string2)"
   ]
  },
  {
   "cell_type": "code",
   "execution_count": null,
   "id": "bfa7979a",
   "metadata": {},
   "outputs": [],
   "source": [
    "string_placement = '[{:<8}#{:^15}@{:>10}]'.format('python','for','all')   \n",
    "print(string_placement) "
   ]
  },
  {
   "cell_type": "code",
   "execution_count": null,
   "id": "beb4276d",
   "metadata": {},
   "outputs": [],
   "source": [
    "print(f\"hai all {'welcome'.upper():^50}\") "
   ]
  },
  {
   "cell_type": "code",
   "execution_count": null,
   "id": "3110103b",
   "metadata": {},
   "outputs": [],
   "source": [
    "a = 'new' \n",
    "print(f\"hai all {a.upper():>15}\") "
   ]
  },
  {
   "cell_type": "code",
   "execution_count": null,
   "id": "f91a0506",
   "metadata": {},
   "outputs": [],
   "source": [
    "string1 = 'hello'\n",
    "print(id(string1))"
   ]
  },
  {
   "cell_type": "code",
   "execution_count": null,
   "id": "fab2631c",
   "metadata": {},
   "outputs": [],
   "source": [
    "string2 = \"hello\"\n",
    "print(id(string2))"
   ]
  },
  {
   "cell_type": "code",
   "execution_count": null,
   "id": "c224a0ff",
   "metadata": {},
   "outputs": [],
   "source": [
    "string1 = 'hello'\n",
    "print(id(string1))\n",
    "string1 += 'world'\n",
    "print(string1)\n",
    "print(id(string1))\n",
    "\n"
   ]
  },
  {
   "cell_type": "code",
   "execution_count": null,
   "id": "aea6d759",
   "metadata": {},
   "outputs": [],
   "source": [
    "# common string methods\n",
    "\n",
    "# find(\"substring\",beg,end):\n",
    "\n",
    "str =  \"to be or not to be that is the question\"\n",
    "print(str.find('i'))  \n",
    "print(str.find('or'))\n",
    "print(str.find('be',4,15)) \n",
    "print()  \n",
    "print(len(str))\n",
    "print()\n",
    "#rfind\n",
    "print(str.rfind('i'))  \n",
    "print(str.rfind('or'))   \n",
    "print(str.rfind('be',4,15)) \n"
   ]
  },
  {
   "cell_type": "code",
   "execution_count": null,
   "id": "638f0ee3",
   "metadata": {},
   "outputs": [],
   "source": [
    "# startswith(\"substring\",beg,end):\n",
    "print(str.startswith('be'))\n",
    "print(str.startswith('to'))\n",
    "print(str.startswith('t'))\n",
    "print()\n",
    "print(str.endswith('question'))\n",
    "print(str.endswith('tion'))\n",
    "print(str.endswith('quest'))"
   ]
  },
  {
   "cell_type": "code",
   "execution_count": null,
   "id": "3d961209",
   "metadata": {},
   "outputs": [],
   "source": [
    "str1 = \"Welcome to python world\"\n",
    "print(str1.isupper()) \n",
    "print(str1.islower()) \n",
    "print(str1.upper())\n",
    "j =  str1.upper()\n",
    "print(j.isupper()) \n",
    "k = str1.lower()\n",
    "print(k.islower())\n",
    "\n",
    "str2 = 'he said \"GET OUT\" '\n",
    "s2 = str2.swapcase() \n",
    "print()\n",
    "print(str2)\n",
    "print(s2) \n",
    "\n",
    "print(str2.title())\n",
    "print(str2.capitalizep())\n"
   ]
  },
  {
   "cell_type": "code",
   "execution_count": null,
   "id": "448d1698",
   "metadata": {},
   "outputs": [],
   "source": [
    "str11 =  \"to be or not to be that is the question\"\n",
    "print(len(str11))\n",
    "print(str11.count(\"to\"))\n",
    "print(str11.count(\"be\",4,15))"
   ]
  },
  {
   "cell_type": "code",
   "execution_count": null,
   "id": "516749ec",
   "metadata": {},
   "outputs": [],
   "source": [
    "str12 = 'newworld'\n",
    "print(str12.center(20,'*'))\n",
    "print(str12.ljust(20,'#'))\n",
    "print(str12.rjust(20,'!')) "
   ]
  },
  {
   "cell_type": "code",
   "execution_count": null,
   "id": "82a6182c",
   "metadata": {},
   "outputs": [],
   "source": [
    "str13 = 'python'\n",
    "# print(str13.isalpha())\n",
    "# print(str13.isalnum()) \n",
    "# print(str13.isspace())\n",
    "# print(str13.isnumeric())"
   ]
  },
  {
   "cell_type": "code",
   "execution_count": null,
   "id": "0d596ee6",
   "metadata": {},
   "outputs": [],
   "source": [
    "str14 = ('welcom',\"to\",\"python\") \n",
    "print(\"-\".join(str14))"
   ]
  },
  {
   "cell_type": "code",
   "execution_count": null,
   "id": "f841abd3",
   "metadata": {},
   "outputs": [],
   "source": [
    "str12 = 'newworld'\n",
    "k1 = str12.center(20,'*')\n",
    "k2 = str12.ljust(20,'#')\n",
    "k3 = str12.rjust(20,'!')\n"
   ]
  },
  {
   "cell_type": "code",
   "execution_count": null,
   "id": "81d05c99",
   "metadata": {},
   "outputs": [],
   "source": [
    "k = str12.center(20,'*')\n",
    "print(k.strip('*'))\n",
    "print(k.lstrip('*')) \n",
    "print(k.rstrip('*'))  \n",
    "\n",
    "\n"
   ]
  },
  {
   "cell_type": "code",
   "execution_count": null,
   "id": "7aae2c3b",
   "metadata": {},
   "outputs": [],
   "source": [
    "print(ord('A'))\n",
    "print(ord('a'))\n",
    "print(ord(' '))\n",
    "\n",
    "new = \"Welcome to python world\"\n",
    "\n",
    "print(min(new)) \n",
    "print(max(new)) \n",
    "print(new.index('to'))\n",
    "# print(new.index('z'))\n",
    "\n",
    "str23 =  \" to be or not to be\"\n",
    "print(str23.replace('to','have'))\n",
    "print(str23.replace('to','have',1))\n",
    "\n"
   ]
  },
  {
   "cell_type": "code",
   "execution_count": null,
   "id": "1606dd6c",
   "metadata": {},
   "outputs": [],
   "source": [
    "# Python code to illustrate expandtabs()\n",
    "string = 'V\\tFOR\\tVictory'\n",
    "print(string)\n",
    "  \n",
    "# No parameters, by default size is 8\n",
    "print (string.expandtabs())\n",
    "  \n",
    "# tab size taken as 2\n",
    "print(string.expandtabs(2)) \n",
    "  \n",
    "# tab size taken as 5\n",
    "print(string.expandtabs(5))\n",
    "\n",
    "str = \"crazy lama\"\n",
    "\n",
    "print()\n",
    "print(ord('c'))\n",
    "print(ord('l'))\n",
    "print()\n",
    "  \n",
    "str1 = \"ca\"\n",
    "str2 = \"lj\"\n",
    "\n",
    "maketrans = str.maketrans( str1, str2 )\n",
    "print(maketrans)\n",
    "  \n",
    "# using maktrans() to map elements of str2 with str1\n",
    "# mapped = maketrans( str1, str2 )\n",
    "  \n",
    "# using translate() to translate using the mapping\n",
    "# print (\"The string after translation using mapped elements is : \")\n",
    "\n",
    "print  (str.translate(maketrans) )"
   ]
  },
  {
   "cell_type": "code",
   "execution_count": null,
   "id": "cadaf056",
   "metadata": {},
   "outputs": [],
   "source": [
    "str = \"crazy lama\"\n",
    "\n",
    "print()\n",
    "print(ord('c'))\n",
    "print(ord('l'))\n",
    "print()\n",
    "  \n",
    "str1 = \"ca\"\n",
    "str2 = \"lj\"\n",
    "\n",
    "maketrans = str.maketrans( str1, str2 )\n",
    "print(maketrans)\n",
    "  \n",
    "# using maktrans() to map elements of str2 with str1\n",
    "# mapped = maketrans( str1, str2 )\n",
    "  \n",
    "# using translate() to translate using the mapping\n",
    "# print (\"The string after translation using mapped elements is : \")\n",
    "\n",
    "print  (str.translate(maketrans) )"
   ]
  },
  {
   "cell_type": "code",
   "execution_count": null,
   "id": "03ae3717",
   "metadata": {},
   "outputs": [],
   "source": [
    "k = list()\n",
    "j = [4,5,6,8]\n",
    "print(j)\n",
    "j[0] = 'hai' #mutable\n",
    "print(j)"
   ]
  },
  {
   "cell_type": "code",
   "execution_count": null,
   "id": "e7e71fe4",
   "metadata": {},
   "outputs": [],
   "source": [
    "j.append(4)\n",
    "print(j)\n",
    "j.append([50,78,36,94])\n",
    "print(j)\n",
    "j.extend([4,7,8,9])\n",
    "print(j)\n",
    "#j.extend('hai','bai')\n",
    "#print(j)\n",
    "j.append('hai')\n",
    "print(j)\n",
    "j.extend('bai')\n",
    "print(j)\n",
    "j.append(78)\n",
    "print(j)\n",
    "j.extend([87])\n",
    "print(j)"
   ]
  },
  {
   "cell_type": "code",
   "execution_count": null,
   "id": "9e121f77",
   "metadata": {},
   "outputs": [],
   "source": [
    "# inseret ---> to insert value into a list in the desired position\n",
    "\n",
    "k = [7,8,9,15,7]\n",
    "print(\"k-->\",k)\n",
    "k.insert(2,\"cat\")\n",
    "print(\"k-->\",k)\n"
   ]
  },
  {
   "cell_type": "code",
   "execution_count": null,
   "id": "b316dfbf",
   "metadata": {},
   "outputs": [],
   "source": [
    "k.remove(78)"
   ]
  },
  {
   "cell_type": "code",
   "execution_count": null,
   "id": "ea092c11",
   "metadata": {},
   "outputs": [],
   "source": [
    "k.append(15)\n",
    "print(\"k-->\",k) \n",
    "k.remove(15)\n",
    "print(\"k-->\",k)"
   ]
  },
  {
   "cell_type": "code",
   "execution_count": null,
   "id": "fae00656",
   "metadata": {},
   "outputs": [],
   "source": [
    "k.append(89)\n",
    "print(k)\n",
    "j = k.pop()\n",
    "print(j) \n",
    "print(k)"
   ]
  },
  {
   "cell_type": "code",
   "execution_count": null,
   "id": "531779af",
   "metadata": {},
   "outputs": [],
   "source": []
  },
  {
   "cell_type": "code",
   "execution_count": null,
   "id": "f2fdd2c5",
   "metadata": {},
   "outputs": [],
   "source": []
  },
  {
   "cell_type": "code",
   "execution_count": null,
   "id": "60113bb3",
   "metadata": {},
   "outputs": [],
   "source": [
    "j = k.pop(2)\n",
    "print(j) \n",
    "print(k)"
   ]
  },
  {
   "cell_type": "code",
   "execution_count": null,
   "id": "5783ac4f",
   "metadata": {},
   "outputs": [],
   "source": [
    "li = list(range(10)) "
   ]
  },
  {
   "cell_type": "code",
   "execution_count": null,
   "id": "f2025e86",
   "metadata": {},
   "outputs": [],
   "source": [
    "li"
   ]
  },
  {
   "cell_type": "code",
   "execution_count": null,
   "id": "987d5e00",
   "metadata": {},
   "outputs": [],
   "source": [
    "del li[2:9]"
   ]
  },
  {
   "cell_type": "code",
   "execution_count": null,
   "id": "f839d850",
   "metadata": {},
   "outputs": [],
   "source": [
    "li"
   ]
  },
  {
   "cell_type": "code",
   "execution_count": 12,
   "id": "67d9fee7",
   "metadata": {},
   "outputs": [],
   "source": [
    "# print(sum(j))\n",
    "k = [9, 8, 7, 4, 5, 6, 1, 2, 3,3,3,3,3]\n",
    "z =['welcome','hai','b','a','a','a','i']\n"
   ]
  },
  {
   "cell_type": "code",
   "execution_count": null,
   "id": "6c504bc1",
   "metadata": {},
   "outputs": [],
   "source": [
    "Decision Making"
   ]
  },
  {
   "cell_type": "code",
   "execution_count": null,
   "id": "ee62d55c",
   "metadata": {},
   "outputs": [],
   "source": [
    "Decision Making in programming is similar to decision making in real life. \n",
    "A programming language uses control statements to control the flow of execution\n",
    "of the program based on certain conditions. \n",
    "These are used to cause the flow of execution to advance\n",
    "and branch based on changes to the state of a program."
   ]
  },
  {
   "cell_type": "code",
   "execution_count": null,
   "id": "3bbb42d0",
   "metadata": {},
   "outputs": [],
   "source": [
    "if statement :\n",
    "    if statement is the most simple decision-making statement.\n",
    "    It is used to decide whether a certain statement or block \n",
    "    of statements will be executed or not i.e if a certain condition is true \n",
    "    then a block of statement is executed otherwise not.\n",
    "    "
   ]
  },
  {
   "cell_type": "code",
   "execution_count": null,
   "id": "6c3860a3",
   "metadata": {},
   "outputs": [],
   "source": [
    "Syntax: \n",
    "\n",
    "if condition:\n",
    "   # Statements to execute if\n",
    "   # condition is true"
   ]
  },
  {
   "cell_type": "code",
   "execution_count": null,
   "id": "a6e2e91d",
   "metadata": {},
   "outputs": [],
   "source": [
    "\n",
    "i = 10\n",
    " \n",
    "if (i > 15):\n",
    "    print(\"10 is less than 15\")\n",
    "print(\"I am Not in if\")"
   ]
  },
  {
   "cell_type": "code",
   "execution_count": null,
   "id": "18c9aa0c",
   "metadata": {},
   "outputs": [],
   "source": [
    "if-else  :\n",
    "    The if statement alone tells us that if a condition is true it will execute\n",
    "    a block of statements and if the condition is false it won’t.\n",
    "    But what if we want to do something else if the condition is false. \n",
    "    Here comes the else statement. \n",
    "    We can use the else statement with if statement to execute a block of code \n",
    "    when the condition is false."
   ]
  },
  {
   "cell_type": "code",
   "execution_count": null,
   "id": "7a07aedd",
   "metadata": {},
   "outputs": [],
   "source": [
    "Syntax: \n",
    "\n",
    "if (condition):\n",
    "    # Executes this block if\n",
    "    # condition is true\n",
    "else:\n",
    "    # Executes this block if\n",
    "    # condition is false"
   ]
  },
  {
   "cell_type": "code",
   "execution_count": null,
   "id": "83da88ae",
   "metadata": {},
   "outputs": [],
   "source": [
    "i = 20\n",
    "if (i < 15):\n",
    "    print(\"i is smaller than 15\")\n",
    "    print(\"i'm in if Block\")\n",
    "else:\n",
    "    print(\"i is greater than 15\")\n",
    "    print(\"i'm in else Block\")\n",
    "print(\"i'm not in if and not in else Block\")"
   ]
  },
  {
   "cell_type": "code",
   "execution_count": null,
   "id": "26c8e2ba",
   "metadata": {},
   "outputs": [],
   "source": [
    "nested-if:\n",
    "    A nested if is an if statement that is the target of another if statement. \n",
    "    Nested if statements mean an if statement inside another if statement. \n",
    "    Yes, Python allows us to nest if statements within if statements. \n",
    "    i.e, we can place an if statement inside another if statement."
   ]
  },
  {
   "cell_type": "code",
   "execution_count": null,
   "id": "d7e8fd36",
   "metadata": {},
   "outputs": [],
   "source": [
    "Syntax: \n",
    "\n",
    "if (condition1):\n",
    "   # Executes when condition1 is true\n",
    "   if (condition2): \n",
    "      # Executes when condition2 is true\n",
    "   # if Block is end here\n",
    "# if Block is end here"
   ]
  },
  {
   "cell_type": "code",
   "execution_count": null,
   "id": "403cc6fe",
   "metadata": {},
   "outputs": [],
   "source": [
    "i = 10\n",
    "if (i == 10):\n",
    "   \n",
    "    #  First if statement\n",
    "    if (i < 15):\n",
    "        print(\"i is smaller than 15\")\n",
    "         \n",
    "    # Nested - if statement\n",
    "    # Will only be executed if statement above\n",
    "    # it is true\n",
    "    if (i < 12):\n",
    "        print(\"i is smaller than 12 too\")\n",
    "    else:\n",
    "        print(\"i is greater than 15\")"
   ]
  },
  {
   "cell_type": "code",
   "execution_count": null,
   "id": "5c4abd0e",
   "metadata": {},
   "outputs": [],
   "source": [
    "if-elif-else ladder :\n",
    "    Here, a user can decide among multiple options. \n",
    "    The if statements are executed from the top down. \n",
    "    As soon as one of the conditions controlling the if is true, \n",
    "    the statement associated with that if is executed, and \n",
    "    the rest of the ladder is bypassed. If none of the conditions is true, \n",
    "    then the final else statement will be executed."
   ]
  },
  {
   "cell_type": "code",
   "execution_count": null,
   "id": "de957aa8",
   "metadata": {},
   "outputs": [],
   "source": [
    "Syntax: \n",
    "\n",
    "if (condition):\n",
    "    statement\n",
    "elif (condition):\n",
    "    statement\n",
    ".\n",
    ".\n",
    "else:\n",
    "    statement"
   ]
  },
  {
   "cell_type": "code",
   "execution_count": null,
   "id": "bfe3af56",
   "metadata": {},
   "outputs": [],
   "source": [
    "i = 20\n",
    "if (i == 10):\n",
    "    print(\"i is 10\")\n",
    "elif (i == 15):\n",
    "    print(\"i is 15\")\n",
    "elif (i == 20):\n",
    "    print(\"i is 20\")\n",
    "else:\n",
    "    print(\"i is not present\")"
   ]
  },
  {
   "cell_type": "code",
   "execution_count": null,
   "id": "854dd638",
   "metadata": {},
   "outputs": [],
   "source": [
    "Short Hand if statement\n",
    "Whenever there is only a single statement to be executed inside the \n",
    "if block then shorthand if can be used. \n",
    "The statement can be put on the same line as the if statement"
   ]
  },
  {
   "cell_type": "code",
   "execution_count": null,
   "id": "65137dc1",
   "metadata": {},
   "outputs": [],
   "source": [
    "Syntax: \n",
    "\n",
    "if condition: statement"
   ]
  },
  {
   "cell_type": "code",
   "execution_count": null,
   "id": "d6ca9115",
   "metadata": {},
   "outputs": [],
   "source": [
    "\n",
    "i = 10\n",
    "if i < 15:\n",
    "    print(\"i is less than 15\")"
   ]
  },
  {
   "cell_type": "code",
   "execution_count": null,
   "id": "0a8b1923",
   "metadata": {},
   "outputs": [],
   "source": [
    "Short Hand if-else statement\n",
    "This can be used to write the if-else statements in a single line \n",
    "where there is only one statement to be \n",
    "executed in both if and else block. "
   ]
  },
  {
   "cell_type": "code",
   "execution_count": null,
   "id": "4a8fa6f6",
   "metadata": {},
   "outputs": [],
   "source": [
    "Syntax:\n",
    "\n",
    "statement_when_True if condition else statement_when_False"
   ]
  },
  {
   "cell_type": "code",
   "execution_count": null,
   "id": "5a158311",
   "metadata": {},
   "outputs": [],
   "source": [
    "i = 10\n",
    "print(True) if i < 15 else print(False)"
   ]
  },
  {
   "cell_type": "code",
   "execution_count": null,
   "id": "13a85aeb",
   "metadata": {},
   "outputs": [],
   "source": []
  },
  {
   "cell_type": "code",
   "execution_count": null,
   "id": "1839cd18",
   "metadata": {},
   "outputs": [],
   "source": [
    "loops in python"
   ]
  },
  {
   "cell_type": "code",
   "execution_count": null,
   "id": "c6a9540f",
   "metadata": {},
   "outputs": [],
   "source": [
    "Python programming language provides following types of loops to handle looping requirements.\n",
    "Python provides three ways for executing the loops.\n",
    "While all the ways provide similar basic functionality, \n",
    "they differ in their syntax and condition checking time."
   ]
  },
  {
   "cell_type": "code",
   "execution_count": null,
   "id": "ae3ae85b",
   "metadata": {},
   "outputs": [],
   "source": [
    "Syntax: \n",
    "\n",
    "while expression:\n",
    "    statement(s)"
   ]
  },
  {
   "cell_type": "code",
   "execution_count": null,
   "id": "faa50542",
   "metadata": {},
   "outputs": [],
   "source": [
    "count = 0\n",
    "while (count < 3):\n",
    "    count = count + 1\n",
    "    print(\"Hello\")"
   ]
  },
  {
   "cell_type": "code",
   "execution_count": null,
   "id": "5a8ee1dd",
   "metadata": {},
   "outputs": [],
   "source": [
    "a = [1, 2, 3, 4]\n",
    " \n",
    "while a:\n",
    "    print(a.pop())"
   ]
  },
  {
   "cell_type": "code",
   "execution_count": null,
   "id": "167b4bb6",
   "metadata": {},
   "outputs": [],
   "source": [
    "Single statement while block\n",
    "Just like the if block, if the while block consists of a single statement \n",
    "we can declare the entire loop in a single line.\n",
    "If there are multiple statements in the block that makes up the loop body,\n",
    "they can be separated by semicolons (;). "
   ]
  },
  {
   "cell_type": "code",
   "execution_count": null,
   "id": "644baecf",
   "metadata": {},
   "outputs": [],
   "source": [
    "count = 0\n",
    "while (count < 5): count += 1; print(\"Hello Geek\")"
   ]
  },
  {
   "cell_type": "code",
   "execution_count": null,
   "id": "0103f1aa",
   "metadata": {},
   "outputs": [],
   "source": [
    "Loop Control Statements\n",
    "Loop control statements change execution from its normal sequence.\n",
    "When execution leaves a scope, all automatic objects that were created in \n",
    "that scope are destroyed. \n",
    "Python supports the following control statements."
   ]
  },
  {
   "cell_type": "code",
   "execution_count": null,
   "id": "5dcbcbf3",
   "metadata": {},
   "outputs": [],
   "source": [
    "Continue Statement\n",
    "Python Continue Statement returns the control to the beginning of the loop."
   ]
  },
  {
   "cell_type": "code",
   "execution_count": null,
   "id": "c13f3489",
   "metadata": {},
   "outputs": [],
   "source": [
    "\n"
   ]
  },
  {
   "cell_type": "code",
   "execution_count": null,
   "id": "80a48f2f",
   "metadata": {},
   "outputs": [],
   "source": [
    "Break Statement\n",
    "It brings control out of the loop"
   ]
  },
  {
   "cell_type": "code",
   "execution_count": null,
   "id": "492a0430",
   "metadata": {},
   "outputs": [],
   "source": []
  },
  {
   "cell_type": "code",
   "execution_count": null,
   "id": "5b1d54f0",
   "metadata": {},
   "outputs": [],
   "source": [
    "Pass Statement\n",
    "We use pass statement to write empty loops. \n",
    "Pass is also used for empty control statement, function and classes."
   ]
  },
  {
   "cell_type": "code",
   "execution_count": null,
   "id": "f620fdc3",
   "metadata": {},
   "outputs": [],
   "source": []
  },
  {
   "cell_type": "code",
   "execution_count": null,
   "id": "87892674",
   "metadata": {},
   "outputs": [],
   "source": [
    "While loop with else:\n",
    "    The else clause is only executed when your while condition becomes false. \n",
    "    If you break out of the loop, or if an exception is raised, \n",
    "    it won’t be executed.\n",
    "\n",
    "Note: The else block just after for/while is executed only when the loop is NOT terminated by a break statement. "
   ]
  },
  {
   "cell_type": "code",
   "execution_count": null,
   "id": "9e7a45d3",
   "metadata": {},
   "outputs": [],
   "source": [
    "i = 0\n",
    "while i < 4:\n",
    "    i += 1\n",
    "    print(i)\n",
    "else:  # Executed because no break in for\n",
    "    print(\"No Break\\n\")"
   ]
  },
  {
   "cell_type": "code",
   "execution_count": null,
   "id": "762eadb4",
   "metadata": {},
   "outputs": [],
   "source": [
    "i = 0\n",
    "while i < 4:\n",
    "    i += 1\n",
    "    print(i)\n",
    "    break\n",
    "else:  # Not executed as there is a break\n",
    "    print(\"No Break\")"
   ]
  },
  {
   "cell_type": "code",
   "execution_count": null,
   "id": "d94cfbbc",
   "metadata": {},
   "outputs": [],
   "source": []
  },
  {
   "cell_type": "code",
   "execution_count": null,
   "id": "892e5e28",
   "metadata": {},
   "outputs": [],
   "source": [
    "Python For Loops"
   ]
  },
  {
   "cell_type": "code",
   "execution_count": null,
   "id": "d7deb165",
   "metadata": {},
   "outputs": [],
   "source": [
    "Python For loop is used for sequential traversal i.e. \n",
    "it is used for iterating over an iterable like string, tuple, list, etc.\n",
    "It falls under the category of definite iteration. \n",
    "Definite iterations mean the number of repetitions is specified explicitly\n",
    "in advance."
   ]
  },
  {
   "cell_type": "code",
   "execution_count": null,
   "id": "996d8ee7",
   "metadata": {},
   "outputs": [],
   "source": [
    "Syntax:\n",
    "\n",
    "for var in iterable:\n",
    "    # statements"
   ]
  },
  {
   "cell_type": "code",
   "execution_count": null,
   "id": "3f6a4e4f",
   "metadata": {},
   "outputs": [],
   "source": [
    "Here the iterable is a collection of objects like lists, tuples. \n",
    "The indented statements inside the for loops are executed once for each item in an iterable. \n",
    "The variable var takes the value of the next item of the iterable each time through the loop."
   ]
  },
  {
   "cell_type": "code",
   "execution_count": null,
   "id": "bffffc55",
   "metadata": {},
   "outputs": [],
   "source": [
    "\n",
    "# Python program to illustrate\n",
    "# Iterating over a list\n",
    "print(\"List Iteration\")\n",
    "l = [1,2,3]\n",
    "for i in l:\n",
    "    print(i)"
   ]
  },
  {
   "cell_type": "code",
   "execution_count": null,
   "id": "d75b7e03",
   "metadata": {},
   "outputs": [],
   "source": [
    "# Iterating over a String\n",
    "print(\"\\nString Iteration\")\n",
    "s = \"python\"\n",
    "for i in s:\n",
    "    print(i)\n",
    " "
   ]
  },
  {
   "cell_type": "code",
   "execution_count": null,
   "id": "901ab4be",
   "metadata": {},
   "outputs": [],
   "source": [
    "Nested Loops: Python programming language allows to use one loop \n",
    "    inside another loop.\n",
    "Syntax: \n",
    "    for iterator_var in sequence:\n",
    "        for iterator_var in sequence:\n",
    "            statements(s)\n",
    "            statements(s)"
   ]
  },
  {
   "cell_type": "code",
   "execution_count": null,
   "id": "0a52ab9c",
   "metadata": {},
   "outputs": [],
   "source": [
    "Syntax: \n",
    "    while expression:\n",
    "        while expression:\n",
    "            statement(s)\n",
    "            statement(s)"
   ]
  },
  {
   "cell_type": "code",
   "execution_count": null,
   "id": "104fb52e",
   "metadata": {},
   "outputs": [],
   "source": [
    "range() function\n",
    "Python range() is a built-in function that is used when a user needs to perform an action a specific number of times.\n",
    "The range() function is used to generate a sequence of numbers. \n",
    "Depending on how many arguments user is passing to the function, \n",
    "user can decide where that series of numbers will begin and end as well as\n",
    "how big the difference will be between one number and the next.\n",
    "range() takes mainly three arguments. \n",
    "\n",
    "start: integer starting from which the sequence of integers is to be returned\n",
    "stop: integer before which the sequence of integers is to be returned. \n",
    "The range of integers end at stop – 1.\n",
    "step: integer value which determines the increment between each integer in the sequence \n",
    "    \n",
    "    \n",
    "The step value must not be zero. If a step is zero python raises a ValueError exception."
   ]
  },
  {
   "cell_type": "code",
   "execution_count": null,
   "id": "62a6dd47",
   "metadata": {},
   "outputs": [],
   "source": [
    "for i in range(10):\n",
    "    print(i, end=\" \")\n",
    "print()\n",
    " \n",
    "# using range for iteration\n",
    "l = [10, 20, 30, 40]\n",
    "for i in range(len(l)):\n",
    "    print(l[i], end=\" \")\n",
    "print()\n",
    " \n",
    "# performing sum of first 10 numbers\n",
    "sum = 0\n",
    "for i in range(1, 10):\n",
    "    sum = sum + i\n",
    "print(\"Sum of first 10 numbers :\", sum)"
   ]
  },
  {
   "cell_type": "code",
   "execution_count": null,
   "id": "259ab849",
   "metadata": {},
   "outputs": [],
   "source": [
    "for i in range(3.3):\n",
    "    print(i)\n",
    " \n",
    "# using a float number\n",
    "for i in range(5.5):\n",
    "    print(i)"
   ]
  },
  {
   "cell_type": "code",
   "execution_count": null,
   "id": "86368d9a",
   "metadata": {},
   "outputs": [],
   "source": [
    "Python for loop with else :\n",
    "    The else block just after for/while is executed only when the loop is NOT terminated by a break statement "
   ]
  },
  {
   "cell_type": "code",
   "execution_count": null,
   "id": "3273f231",
   "metadata": {},
   "outputs": [],
   "source": [
    "for i in range(1, 4):\n",
    "    print(i)\n",
    "else:  # Executed because no break in for\n",
    "    print(\"No Break\\n\")\n",
    " \n",
    "for i in range(1, 4):\n",
    "    print(i)\n",
    "    break\n",
    "else:  # Not executed as there is a break\n",
    "    print(\"No Break\")"
   ]
  },
  {
   "cell_type": "code",
   "execution_count": 6,
   "id": "d4a3ebfe",
   "metadata": {},
   "outputs": [
    {
     "data": {
      "text/plain": [
       "[]"
      ]
     },
     "execution_count": 6,
     "metadata": {},
     "output_type": "execute_result"
    }
   ],
   "source": [
    "numList = [0, 1, 2, 3, 4]\n",
    "squares = (n**2 for n in numList)\n",
    "16 in squares\n",
    "list(squares)"
   ]
  },
  {
   "cell_type": "code",
   "execution_count": null,
   "id": "d5c9c3a5",
   "metadata": {},
   "outputs": [],
   "source": [
    "Backward iteration in Python"
   ]
  },
  {
   "cell_type": "code",
   "execution_count": null,
   "id": "8f734e9d",
   "metadata": {},
   "outputs": [],
   "source": [
    "Method #1 : Using reversed()\n",
    "    The simplest way to perform this is to use the reversed function for the for loop and the \n",
    "    iteration will start occurring from the rear side than the conventional counting."
   ]
  },
  {
   "cell_type": "code",
   "execution_count": null,
   "id": "f572159d",
   "metadata": {},
   "outputs": [],
   "source": [
    "N = 6\n",
    "print (\"The reversed numbers are : \", end = \"\")\n",
    "for num in reversed(range(N + 1)) :\n",
    "    print (num, end = \" \")"
   ]
  },
  {
   "cell_type": "code",
   "execution_count": null,
   "id": "e17ed322",
   "metadata": {},
   "outputs": [],
   "source": [
    "Method #2 : Using range(N, -1, -1)\n",
    "\n",
    "N = 6\n",
    "  \n",
    "# using reversed() to perform the back iteration\n",
    "print (\"The reversed numbers are : \", end = \"\")\n",
    "for num in range(N, -1, -1) :\n",
    "    print (num, end = \" \")"
   ]
  },
  {
   "cell_type": "code",
   "execution_count": null,
   "id": "fb221311",
   "metadata": {},
   "outputs": [],
   "source": [
    "# incremented by -2\n",
    "for i in range(25, 2, -2):\n",
    "    print(i, end=\" \")\n",
    "print()\n",
    " \n",
    "# incremented by -4\n",
    "for i in range(30, 1, -4):\n",
    "    print(i, end=\" \")\n",
    "print()\n",
    " \n",
    "# incremented by -3\n",
    "for i in range(25, -6, -3):\n",
    "    print(i, end=\" \")"
   ]
  },
  {
   "cell_type": "code",
   "execution_count": null,
   "id": "8695093a",
   "metadata": {},
   "outputs": [],
   "source": []
  },
  {
   "cell_type": "code",
   "execution_count": null,
   "id": "7c66f57a",
   "metadata": {},
   "outputs": [],
   "source": [
    "from itertools import chain\n",
    " \n",
    "# Using chain method\n",
    "print(\"Concatenating the result\")\n",
    "res = chain(range(5), range(10, 20, 2))\n",
    " \n",
    "for i in res:\n",
    "    print(i, end=\" \")"
   ]
  },
  {
   "cell_type": "code",
   "execution_count": 8,
   "id": "06eb265d",
   "metadata": {},
   "outputs": [
    {
     "name": "stdout",
     "output_type": "stream",
     "text": [
      "First element: 0\n"
     ]
    }
   ],
   "source": [
    "ele = range(10)[0]\n",
    "print(\"First element:\", ele)"
   ]
  },
  {
   "cell_type": "code",
   "execution_count": null,
   "id": "206a3879",
   "metadata": {},
   "outputs": [],
   "source": []
  },
  {
   "cell_type": "code",
   "execution_count": null,
   "id": "b69467b4",
   "metadata": {},
   "outputs": [],
   "source": [
    "print(sum(k))\n",
    "# print(sum(z)) \n",
    "\n",
    "print(k.count(3)) \n",
    "print(z.count('a'))  \n",
    "\n",
    "print(k.index(3,9,12))\n",
    "# print(k.find(3))\n",
    "\n",
    "\n",
    "# print(j)\n",
    "# print(min(j))\n",
    "print(k)\n",
    "print(min(k))\n",
    "print(z)\n",
    "print(min(z)) \n",
    "# max\n",
    "\n",
    "# print(k.sort())\n",
    "print(k.sort(reverse=True))  \n",
    "\n",
    "print(k)\n",
    "#k.pop()\n",
    "#k.remove()\n",
    "#k.clear() \n",
    "#del k\n",
    "\n",
    "print(k)\n",
    "k.clear() \n",
    "print(k)"
   ]
  },
  {
   "cell_type": "code",
   "execution_count": null,
   "id": "36781997",
   "metadata": {},
   "outputs": [],
   "source": []
  },
  {
   "cell_type": "code",
   "execution_count": null,
   "id": "e9699a25",
   "metadata": {},
   "outputs": [],
   "source": []
  },
  {
   "cell_type": "code",
   "execution_count": null,
   "id": "54909d41",
   "metadata": {},
   "outputs": [],
   "source": []
  },
  {
   "cell_type": "code",
   "execution_count": null,
   "id": "da9133de",
   "metadata": {},
   "outputs": [],
   "source": []
  },
  {
   "cell_type": "code",
   "execution_count": null,
   "id": "a8e2c918",
   "metadata": {},
   "outputs": [],
   "source": []
  },
  {
   "cell_type": "code",
   "execution_count": null,
   "id": "5748f7ac",
   "metadata": {},
   "outputs": [],
   "source": []
  },
  {
   "cell_type": "code",
   "execution_count": null,
   "id": "9c2b2b63",
   "metadata": {},
   "outputs": [],
   "source": []
  },
  {
   "cell_type": "code",
   "execution_count": null,
   "id": "3ab9cd8b",
   "metadata": {},
   "outputs": [],
   "source": []
  },
  {
   "cell_type": "code",
   "execution_count": null,
   "id": "6a3d2ff5",
   "metadata": {},
   "outputs": [],
   "source": []
  },
  {
   "cell_type": "code",
   "execution_count": null,
   "id": "0cc25c86",
   "metadata": {},
   "outputs": [],
   "source": []
  },
  {
   "cell_type": "code",
   "execution_count": null,
   "id": "11364d56",
   "metadata": {},
   "outputs": [],
   "source": []
  },
  {
   "cell_type": "code",
   "execution_count": null,
   "id": "a5666de7",
   "metadata": {},
   "outputs": [],
   "source": []
  },
  {
   "cell_type": "code",
   "execution_count": null,
   "id": "db9f8674",
   "metadata": {},
   "outputs": [],
   "source": []
  },
  {
   "cell_type": "code",
   "execution_count": null,
   "id": "96cda3e3",
   "metadata": {},
   "outputs": [],
   "source": []
  },
  {
   "cell_type": "code",
   "execution_count": null,
   "id": "2fe4e750",
   "metadata": {},
   "outputs": [],
   "source": []
  },
  {
   "cell_type": "code",
   "execution_count": null,
   "id": "c32333a5",
   "metadata": {},
   "outputs": [],
   "source": []
  },
  {
   "cell_type": "code",
   "execution_count": null,
   "id": "e1a9d8ab",
   "metadata": {},
   "outputs": [],
   "source": []
  },
  {
   "cell_type": "code",
   "execution_count": null,
   "id": "e7257f52",
   "metadata": {},
   "outputs": [],
   "source": [
    "Q\n",
    "# Prints all letters except 'e' and 's'\n",
    "i = 0\n",
    "a = 'geeksforgeeks'\n",
    " \n",
    "while i < len(a):\n",
    "    if a[i] == 'e' or a[i] == 's':\n",
    "        i += 1\n",
    "        continue\n",
    "         \n",
    "    print('Current Letter :', a[i])\n",
    "    i += 1"
   ]
  },
  {
   "cell_type": "code",
   "execution_count": 15,
   "id": "efc14e1c",
   "metadata": {},
   "outputs": [
    {
     "name": "stdout",
     "output_type": "stream",
     "text": [
      "[6, 24]\n"
     ]
    }
   ],
   "source": [
    "\n",
    "# List of strings\n",
    "l = [[1,2,3],[7,8,9]]\n",
    "  \n",
    "# map() can listify the list of strings individually\n",
    "test = list(map(sum, l))\n",
    "print(test)"
   ]
  },
  {
   "cell_type": "code",
   "execution_count": null,
   "id": "0449ee16",
   "metadata": {},
   "outputs": [],
   "source": []
  },
  {
   "cell_type": "code",
   "execution_count": null,
   "id": "ed725987",
   "metadata": {},
   "outputs": [],
   "source": []
  },
  {
   "cell_type": "code",
   "execution_count": null,
   "id": "ed283964",
   "metadata": {},
   "outputs": [],
   "source": [
    "newlist = [expression(element) for element  in old list if condition]"
   ]
  },
  {
   "cell_type": "code",
   "execution_count": null,
   "id": "181388ba",
   "metadata": {},
   "outputs": [],
   "source": [
    "# # list comprehension\n",
    "\n",
    "# # list90 = [x for x in 'word']\n",
    "# # print(list90)\n",
    "\n",
    "# # list91 = [x*2 for x in 'word']\n",
    "# # print(list91)\n",
    "\n",
    "# # list92 = [x.upper() for x in 'word']\n",
    "# # print(list92)\n",
    "\n",
    "\n",
    "# # lis_square = [ x**2 for x in range(11)]\n",
    "# # print(lis_square)\n",
    "\n",
    "\n",
    "\n",
    "# # lis_even = [ x**2 for x in range(11) if x % 2 == 0]\n",
    "# # print(lis_even)\n",
    "\n",
    "# # celsius = [0,10,20.1,34.5]\n",
    "\n",
    "# # # conversion factor =  (9/5)*temp + 32 \n",
    "# # f_list = [(9/5)*temp + 32  for temp in celsius]\n",
    "# # print(f_list)\n"
   ]
  },
  {
   "cell_type": "code",
   "execution_count": null,
   "id": "7832a64c",
   "metadata": {},
   "outputs": [],
   "source": [
    "odd_square = [ x**2 for x in range(11) if x%2 == 1]"
   ]
  },
  {
   "cell_type": "code",
   "execution_count": null,
   "id": "53376cdc",
   "metadata": {},
   "outputs": [],
   "source": [
    "odd_square"
   ]
  },
  {
   "cell_type": "code",
   "execution_count": null,
   "id": "a6c21f02",
   "metadata": {},
   "outputs": [],
   "source": [
    "\n",
    "matrix = [[0,1,2,3,4],\n",
    "          [0,1,2,3,4],\n",
    "          [0,1,2,3,4],\n",
    "          [0,1,2,3,4],\n",
    "         ]"
   ]
  },
  {
   "cell_type": "code",
   "execution_count": null,
   "id": "4c657dd9",
   "metadata": {},
   "outputs": [],
   "source": [
    "matrix = []\n",
    "\n",
    "# for i in range(5):\n",
    "#     matrix2 = []\n",
    "#     for j in range(5):\n",
    "#         matrix2.append(j)\n",
    "#     matrix.append(matrix2)    \n",
    "# print(matrix)\n",
    "\n",
    "\n",
    "matrix = []\n",
    "\n",
    "for i in range(5):\n",
    "    matrix.append([])\n",
    "    for j in range(5):\n",
    "        matrix[i].append(j)\n",
    "print(matrix)"
   ]
  },
  {
   "cell_type": "code",
   "execution_count": null,
   "id": "22f1d384",
   "metadata": {},
   "outputs": [],
   "source": [
    "matrix = [ [j for j in range(5)]  for i in range(5)] \n",
    "print(matrix)"
   ]
  },
  {
   "cell_type": "code",
   "execution_count": null,
   "id": "dfb57f36",
   "metadata": {},
   "outputs": [],
   "source": [
    "string1 = 'welcome to python'\n",
    "print(string1.split('o'))"
   ]
  },
  {
   "cell_type": "code",
   "execution_count": null,
   "id": "45eb0e06",
   "metadata": {},
   "outputs": [],
   "source": [
    "l1 = []\n",
    "s = \"\"\n",
    "j = 0\n",
    "for i in string1:\n",
    "    if i != \" \":\n",
    "        s+=i\n",
    "    else:\n",
    "        l1.append(s)\n",
    "        s = ''    \n",
    "l1.append(s)\n",
    "    \n",
    "print(l1)"
   ]
  },
  {
   "cell_type": "code",
   "execution_count": null,
   "id": "500a8e0a",
   "metadata": {},
   "outputs": [],
   "source": [
    "\n",
    "\n",
    "\n",
    "comprehensions vs generators\n",
    "\n",
    "list1 = [i for i in range (11) if i % 2 == 0  ]\n",
    "list1\n",
    "\n",
    "set1 = {i for i in range (11) if i % 2 == 0  } \n",
    "set1.add(6)\n",
    "set1 \n",
    "\n",
    "dict1 = {i:i**2 for i in range (11) if i % 2 == 0  }  \n",
    "dict1\n",
    "\n",
    "generater1 = (i for i in range (11) if i % 2 == 0  )\n",
    "generater1 \n",
    "\n",
    "for i in generater1: \n",
    "    print(i) \n",
    " \n",
    " \n",
    "\n",
    "\n",
    "for i in list1: \n",
    "    print(i) \n",
    "    if i == 4 : \n",
    "        break\n",
    "\n",
    "from sys import getsizeof\n",
    "\n",
    "comp = [i for i in range(100000)]\n",
    "gen  = (i for i in range(100000))\n",
    "\n",
    "x = getsizeof(comp) \n",
    "print(\"size of list comprehension : \", x)\n",
    "y = getsizeof(gen)\n",
    "print(\"size of generator : \", y) \n",
    "\n",
    "a = [4,7,8,4,5,6]\n",
    "b = [4,8,1,2,49,35]\n",
    "\n",
    "list1 = [2,3,4,5,6,7,8]\n",
    "list2 = [9,7,6,4]\n",
    "common_element = [ele for ele in list1 if ele in list2]\n",
    "print(common_element)\n"
   ]
  },
  {
   "cell_type": "code",
   "execution_count": null,
   "id": "09505424",
   "metadata": {},
   "outputs": [],
   "source": []
  },
  {
   "cell_type": "code",
   "execution_count": null,
   "id": "bac9ec41",
   "metadata": {},
   "outputs": [],
   "source": []
  },
  {
   "cell_type": "code",
   "execution_count": null,
   "id": "10a60323",
   "metadata": {},
   "outputs": [],
   "source": [
    "input : 'beautifull world'\n",
    "o/p : 6\n",
    "    ['e','a','u','i','u','o']\n",
    "    \n",
    "input : 'hello'\n",
    "o/p : l"
   ]
  },
  {
   "cell_type": "code",
   "execution_count": null,
   "id": "2a483f41",
   "metadata": {},
   "outputs": [],
   "source": [
    "string = input(\"Enter the string : \")\n",
    "vowels = 0\n",
    "vowels1 = []\n",
    "for i in string:\n",
    "  if (i =='a'  or i =='e'  or i =='i'  or i =='o' or i =='u' or i =='A' or i =='E'  or i =='I' or i =='O' or i =='U'  ):\n",
    "    vowels = vowels + 1\n",
    "    vowels1.append(i)\n",
    "print(\"no: of vowels are :- \", vowels)\n",
    "print(\"The vowels in the given string are:- \",vowels1 )\n"
   ]
  },
  {
   "cell_type": "code",
   "execution_count": null,
   "id": "423b1039",
   "metadata": {},
   "outputs": [],
   "source": [
    "# # function\n",
    "\n",
    "# # def name_of_function(arg1,arg2):\n",
    "\n",
    "\n",
    "# #     \"\"\"\n",
    "# #     function's document string\n",
    "# #     \"\"\"\n",
    "\n",
    "# #     #stuff to do\n",
    "# #     # return a result\n",
    "\n",
    "\n",
    "# # function definition\n",
    "\n",
    "\n",
    "# # non-parameteric function\n",
    "# # def say_hello():\n",
    "# #     \"\"\"\n",
    "# #     custom function to print hello world\n",
    "# #     \"\"\"\n",
    " \n",
    "# #     print('hello world')\n",
    "\n",
    "# # say_hello()\n",
    "\n",
    "# # help(say_hello)\n",
    "\n",
    "\n",
    "# # parameteric function \n",
    "\n",
    "# # def greeting(name):\n",
    "# #     print(f'hello {name}')\n",
    "\n",
    "\n",
    "\n",
    "# # greeting(\"varun\")\n",
    "\n",
    "\n",
    "# # def add_num(num1,num2):\n",
    "# #     print(num1+num2)\n",
    "\n",
    "# # add_num(4,5)\n",
    "# # # add_num(\"arun\",\"alok\")\n",
    "\n",
    "# # c = add_num(100,15)\n",
    "# # print(c)\n",
    "\n",
    "# \"\"\"the return keywords allows you to actually save the result\n",
    "# of the output of a function as a variable.at the same time\n",
    "# print() function simply displays the output to you ,\n",
    "# but it doesn't save it for future use\"\"\"\n",
    "\n",
    "# # def add_num(num1,num2):\n",
    "# #     return(num1+num2)\n",
    "\n",
    "# # print(add_num(4,5))\n",
    "# # add_num(\"arun\",\"alok\")\n",
    "\n",
    "# # c = add_num(100,15)\n",
    "# # j = c + 10\n",
    "# # print(j)\n",
    "\n",
    "\n",
    "\n",
    "\n",
    "# def print_result(a,b):\n",
    "#     print(a+b)\n",
    "\n",
    "# def return_result(a,b):\n",
    "#     return a+b\n",
    "\n",
    "# # print_result(10,5)\n",
    "\n",
    "# # return_result(30,5)\n",
    "\n",
    "\n",
    "# # my_result = print_result(10,5)\n",
    "\n",
    "# # print(my_result)\n",
    "# # print(type(my_result))\n",
    "\n",
    "# # my_result2 = return_result(10,5)\n",
    "\n",
    "# # print(my_result2)\n",
    "# # print(type(my_result2))\n",
    "\n",
    "\n",
    "\n",
    "\n",
    "# # def even_check(number):\n",
    "# #     return number % 2 == 0\n",
    "\n",
    "\n",
    "# # print(even_check(45))\n",
    "# # print(even_check(4))\n",
    "\n",
    "\n",
    "\n",
    "\n",
    "# # print(even_check_list([4,5,6,7])) ------> False\n",
    "# # print(even_check_list([3,7,8,5,1])) ----> False\n",
    "# # print(even_check_list([4,2,4,8,6])) ----> True\n",
    "\n",
    "# # print(even_check_number([4,5,6,7])) ------> True\n",
    "# # print(even_check_number([3,7,1])) ----> False\n",
    "# # print(even_check_number([4,2,5,8,6])) ----> True\n",
    "\n",
    "# # def chk_evn_list (num_list):\n",
    "\n",
    "# #     for number in num_list :   \n",
    "# #         if number % 2 == 0 :\n",
    "# #             return True\n",
    "# #     else :\n",
    "# #         return False\n",
    "\n",
    "# # def chk_evn_list (num_list):\n",
    "\n",
    "# #     for number in num_list : \n",
    "# #         if number % 2 == 0 :\n",
    "# #             return True\n",
    "# #     return False\n",
    "\n",
    "# # print(chk_evn_list([7,9,3,5]))\n",
    "\n",
    "\n",
    "\n",
    "# # print(even_print_number([4,5,6,7])) ------> [4,6]\n",
    "# # print(even_print_number([3,7,1])) ----> []\n",
    "# # print(even_print_number([4,2,5,8,6])) ----> [4,2,8,6]\n",
    "\n",
    "\n",
    "# # def even_print_number(num_list):\n",
    "# #     evn_num = []\n",
    "\n",
    "# #     for num in num_list :\n",
    "# #         if num % 2 == 0 :\n",
    "# #             evn_num.append(num)\n",
    "# #     return \n",
    "\n",
    "# # print(even_print_number([4,2,5,8,6]))\n",
    "\n",
    "\n",
    "# #refernce : tuple unpacking,enumeration\n",
    "\n",
    "# # work_hour = [('Abby',100),('Billy',150),('Arun',175),('Shinla',170)]\n",
    "# # # employee_check(work_hour) ---> Employee of the month Arun \n",
    "\n",
    "# # def employee_check(work_hour):\n",
    "\n",
    "# #     current_max = 0 \n",
    "# #     employee_of_the_month = \"\"\n",
    "\n",
    "# #     for employee, hours in work_hour :\n",
    "# #         if hours > current_max :\n",
    "# #             current_max = hours\n",
    "# #             employee_of_the_month = employee\n",
    "# #         else : \n",
    "# #             pass \n",
    "# #     return (employee_of_the_month,current_max)\n",
    "\n",
    "# # print(employee_check(work_hour))\n",
    "\n",
    "\n",
    "\n",
    "\n",
    "# # stock_price = [('AAPL',200),('GOOG',300),('MSFt',400)]\n",
    "\n",
    "# # for item in stock_price :\n",
    "# #     print(item)\n",
    "\n",
    "# # for stock,price in stock_price:\n",
    "# #     print(stock)\n",
    "\n",
    "# # for stock,price in stock_price:\n",
    "# #     print(price)\n",
    "\n",
    "\n",
    "# # example = [1,2,3,4,5]\n",
    "# # print(example)\n",
    "\n",
    "# # from random import shuffle \n",
    "\n",
    "# # shuffle(example)\n",
    "# # print(example)\n",
    "\n",
    "# # def square(num):\n",
    "# #     return (num**2)\n",
    "\n",
    "# # my_nums = [1,2,3,4] \n",
    "\n",
    "# # print(square(my_nums)) --->[1,4,9,16]\n",
    "\n",
    "# # def square1(num):\n",
    "# #     x=[(x**2) for x in num]\n",
    "# #     return x\n",
    "# # num=[1,2,3,4]\n",
    "# # print(square1(num))\n",
    "\n",
    "# # num=[1,2,3,4]\n",
    "\n",
    "# # def square_1(num):\n",
    "# #     return (num**2)\n",
    "\n",
    "# # print(map(square_1,num))\n",
    "# # print(list(map(square_1,num))) \n",
    "\n",
    "# # my_names = ['alfiya','roshan','sarika','BB','Fahima','Ramshidaa']\n",
    "# # #                                         --->['even','even','even','even','even','R'] \n",
    "\n",
    "# # def splicer(mystring):\n",
    "# #     if len(mystring) % 2 == 0 :\n",
    "# #         return 'even'\n",
    "# #     else : \n",
    "# #         return mystring[0]\n",
    "\n",
    "# # print(list(map(splicer,my_names)))\n",
    "\n",
    "\n",
    "\n",
    "\n",
    "# # # filter\n",
    "\n",
    "# # def check_even(num) : \n",
    "# #     return num % 2 == 0 \n",
    "\n",
    "# # # print(check_even(13))\n",
    "\n",
    "# # nums = list(range(15))\n",
    "# # # print(nums)\n",
    "\n",
    "# # print(list(filter(check_even,nums)))\n",
    "\n",
    "\n",
    "# #lambda functions / anonymous functions \n",
    "\n",
    "\n",
    "# # def square(num) :\n",
    "# #      result = num**2\n",
    "# #      return result\n",
    "\n",
    "# # print(square(5))\n",
    "\n",
    "\n",
    "# # def square(num) :\n",
    "# #      return num**2\n",
    "\n",
    "# # print(square(5))\n",
    "\n",
    "\n",
    "# # def square(num) : return num**2\n",
    "\n",
    "# # lambda num : num**2\n",
    "\n",
    "# # square = lambda num : num**2\n",
    "# # print(square(5))\n",
    "\n",
    "# # num1=[1,2,3,4]\n",
    "\n",
    "\n",
    "# # print(list(map(lambda num : num**2,num1)))\n",
    "\n",
    "# # print(list(filter(lambda n : n % 2 == 0 , num1)))\n",
    "\n",
    "# # lambda s : s[0]\n",
    "# # lambda s : s[::-1]\n",
    "# # lambda x,y : x + y\n",
    "\n",
    "\n",
    "def function1(*args):\n",
    "# #     k=1\n",
    "# #     for i in args :\n",
    "# #         k*=i\n",
    "# #     return k\n",
    "\n",
    "# # print(function1(4,5,7,8,9))\n",
    "\n",
    "\n",
    "\n",
    "# # def myfunct2(**kwargs):\n",
    "# #     # print(kwargs)\n",
    "# #     # print()\n",
    "# #     # print(type(kwargs))\n",
    "\n",
    "# #     if 'fruit2' in kwargs :\n",
    "# #         return(f\"my favorite fruit is {kwargs['fruit2']}\")\n",
    "# #     else :\n",
    "# #         return(\"my fruit not in the list\")\n",
    "        \n",
    "# # # myfunct2(fruit = 'pineapple',fruit1 = \"appple\", fruit2 = \"mango\" )\n",
    "# # print(myfunct2(fruit = 'pineapple',fruit1 = \"appple\", fruit2 = \"mango\" ))\n",
    "\n",
    "# # def myfunct3(*args,**kwargs):\n",
    "# #     # print(kwargs)\n",
    "# #     # print()\n",
    "# #     # print(type(kwargs))\n",
    "\n",
    "# #     if 'fruit' and 'juice' in kwargs :\n",
    "# #         print(f\"\"\"i like {' and '.join(args)} and my favorite fruit is {kwargs['fruit']} \n",
    "# #         \\n may i have some {kwargs['juice']} juice\"\"\")\n",
    "# #     else :\n",
    "# #         print(\"my fruit not in the list\")\n",
    "        \n",
    "    \n",
    "# # myfunct3('egg','spam',fruit = 'pineapple',juice = \"Orange\")\n"
   ]
  },
  {
   "cell_type": "code",
   "execution_count": null,
   "id": "b19faba2",
   "metadata": {},
   "outputs": [],
   "source": [
    "def checkvowels(string1):\n",
    "    v=['a','e','i','o','u']\n",
    "    c=0\n",
    "    vl=[]\n",
    "    for i in string1:\n",
    "        if i in v:\n",
    "            c+=1\n",
    "            vl.append(i)\n",
    "   \n",
    "    print(c)\n",
    "    print(vl)\n",
    "\n",
    "checkvowels('beautifull world')\n"
   ]
  },
  {
   "cell_type": "code",
   "execution_count": null,
   "id": "9953d5fa",
   "metadata": {},
   "outputs": [],
   "source": [
    "def check_Vow(string1) : \n",
    "    vowels = 'AaEeIiOoUu'\n",
    "    final = [each_char for each_char in string1 if each_char in vowels ]\n",
    "    print(len(final))\n",
    "    print(final)\n",
    "\n",
    "k = input(\"enter the string : \")\n",
    "check_Vow(k)"
   ]
  },
  {
   "cell_type": "code",
   "execution_count": null,
   "id": "7ed2c0cc",
   "metadata": {},
   "outputs": [],
   "source": [
    "input : '14, 625,498.002'\n",
    "output : 14.625.498, 002\n",
    "             \n",
    "check whether the given string is anagram\n",
    "s1 : silent\n",
    "s2 : listen\n",
    "    \n",
    "s1 : secure\n",
    "s2 : rescue\n"
   ]
  },
  {
   "cell_type": "code",
   "execution_count": null,
   "id": "35362585",
   "metadata": {},
   "outputs": [],
   "source": [
    "def replce(str1):\n",
    "    li=list(str1)\n",
    "    str2=\"\"\n",
    "    print(str1)\n",
    "    for i in li:\n",
    "        if i==',':\n",
    "            j='.'\n",
    "            str2+=j\n",
    "        elif i=='.':\n",
    "             j=', '\n",
    "             str2+=j\n",
    "        else:\n",
    "             str2+=i\n",
    "        \n",
    "    print(str2)\n",
    "\n",
    "replce('14, 625,498.002')\n"
   ]
  },
  {
   "cell_type": "code",
   "execution_count": null,
   "id": "57210765",
   "metadata": {},
   "outputs": [],
   "source": [
    "\n",
    "def replc(str1) :\n",
    "    maketrans = str1.maketrans(',.','.,',\" \")\n",
    "    print(str1.translate(maketrans))\n",
    "    \n",
    "replc('14, 625,498.002')\n"
   ]
  },
  {
   "cell_type": "code",
   "execution_count": null,
   "id": "dc7aadf7",
   "metadata": {},
   "outputs": [],
   "source": [
    "# to  chechk for anagrams\n",
    "\n",
    "def anagram(s1,s2):\n",
    "    c=0\n",
    "    for i in s1:\n",
    "        if i in s2:\n",
    "            c+=1\n",
    "    if c==len(s1):\n",
    "        print(\"strings are angram\")\n",
    "    else:\n",
    "        print(\"strings are not anagram\")\n",
    "anagram('listen','silent')\n",
    "\n",
    "\n"
   ]
  },
  {
   "cell_type": "code",
   "execution_count": null,
   "id": "ae535058",
   "metadata": {},
   "outputs": [],
   "source": [
    "string1 = input(\"Enter the string1 :\")\n",
    "string2 = input(\"Enter the string2 :\")\n",
    "count = 0\n",
    "for i in string1:\n",
    "  for j in string2:\n",
    "    if i == j:\n",
    "      count = count + 1\n",
    "\n",
    "if count == len(string1):\n",
    "  print(\"The given string \", string1,\"and\",string2,\"are anagram\")\n",
    "else:\n",
    "  print(\"The given string \", string1,\"and\",string2,\"are not anagram\")\n"
   ]
  },
  {
   "cell_type": "code",
   "execution_count": null,
   "id": "03d313c6",
   "metadata": {},
   "outputs": [],
   "source": [
    "string1 = input(\"Enter the string1 :\")\n",
    "string2 = input(\"Enter the string2 :\")\n",
    "\n",
    "if len(string1) == len(string2):\n",
    "    if set(string1) == set(string2):\n",
    "         print(\"The given string \", string1,\"and\",string2,\"are anagram\")\n",
    "    else:\n",
    "         print(\"The given string \", string1,\"and\",string2,\"are not anagram\")\n",
    "        "
   ]
  },
  {
   "cell_type": "code",
   "execution_count": null,
   "id": "653ad094",
   "metadata": {},
   "outputs": [],
   "source": [
    "str1 = \"how much wood can the woodchuck chuck if the woodchuck can chuck wood\"\n",
    "{'can':2}"
   ]
  },
  {
   "cell_type": "code",
   "execution_count": null,
   "id": "8061d00c",
   "metadata": {},
   "outputs": [],
   "source": [
    "tuple1 = (7,8,45,6,91)\n",
    "# print(len(tuple1))\n",
    "# print(min(tuple1))\n",
    "# print(max(tuple1)) \n",
    "\n",
    "print(tuple(sorted(tuple1)))\n",
    "print(tuple1)\n",
    "      \n",
    "print((sorted(tuple1,reverse=True)))"
   ]
  },
  {
   "cell_type": "code",
   "execution_count": null,
   "id": "9dd7ce09",
   "metadata": {},
   "outputs": [],
   "source": [
    "l = [ 'c','b','d','z','a']\n",
    "print(sorted(l))"
   ]
  },
  {
   "cell_type": "code",
   "execution_count": null,
   "id": "0d8d3232",
   "metadata": {},
   "outputs": [],
   "source": [
    "l = [ 'ccc','bb','dddd','zz','aaaaaaaa']\n",
    "print(sorted(l)) "
   ]
  },
  {
   "cell_type": "code",
   "execution_count": null,
   "id": "a10c6600",
   "metadata": {},
   "outputs": [],
   "source": [
    "l = [ 'ccc','bb','dddd','zz','aaaaaaaa']\n",
    "print(sorted(l,key = len )) "
   ]
  },
  {
   "cell_type": "code",
   "execution_count": null,
   "id": "ffa922dc",
   "metadata": {
    "scrolled": true
   },
   "outputs": [],
   "source": [
    "l24 = [15,3,11,7]\n",
    "print(sorted(l24))"
   ]
  },
  {
   "cell_type": "code",
   "execution_count": null,
   "id": "55917ffd",
   "metadata": {},
   "outputs": [],
   "source": [
    "def func7(x):\n",
    "    return x % 7 \n",
    "print(sorted(l24,key=func7)) "
   ]
  },
  {
   "cell_type": "code",
   "execution_count": null,
   "id": "fddf0710",
   "metadata": {},
   "outputs": [],
   "source": [
    "#tuple unpacking\n",
    "\n",
    "a = 5,\n",
    "print(type(a))"
   ]
  },
  {
   "cell_type": "code",
   "execution_count": null,
   "id": "8d8df724",
   "metadata": {},
   "outputs": [],
   "source": [
    "# a,b,c,d = 4,5,6 \n",
    "# a,b,c = 7,8,9,4\n",
    "a,b,*c = 7,8,9,4,54,6,1,2,3,6,7,9, "
   ]
  },
  {
   "cell_type": "code",
   "execution_count": null,
   "id": "35f3a1fb",
   "metadata": {},
   "outputs": [],
   "source": [
    "print(a)\n",
    "print(b)\n",
    "print(c)"
   ]
  },
  {
   "cell_type": "code",
   "execution_count": null,
   "id": "29761fbf",
   "metadata": {},
   "outputs": [],
   "source": [
    "*a,b,c = 7,8,4,5,6,9,7,1,2,5,8 \n",
    "print(a)\n",
    "print(b)\n",
    "print(c) "
   ]
  },
  {
   "cell_type": "code",
   "execution_count": null,
   "id": "09ede8d4",
   "metadata": {},
   "outputs": [],
   "source": [
    "a,*b,c  = 1,2,3,4,5,6,7,8,9\n",
    "list5 = [(2,4),(6,'9'),(11,12,15)]\n",
    "# # print(len(list5))\n",
    "# # for i in list5 :\n",
    "# #     print(i)\n",
    "\n",
    "# # list5 = [(2,4),(6,'9'),(11,12)] #tuple unpacking\n",
    "# # for i1,i2 in list5 :\n",
    "# #     print(i1,i2)\n",
    "\n",
    "# # for i1,i2 in list5 :\n",
    "# #     print(i1)\n",
    "\n",
    "# # for i1,i2 in list5 :\n",
    "# #     print(i1)\n",
    "\n",
    "# # # for i1,i2,i3 in list5 : #error\n",
    "# #     print(i1)\n",
    "\n",
    "# # list5 = [(2,4,8),(6,'9'),(11,12)] #error\n",
    "# # for i1,i2 in list5 :\n",
    "# #     print(i1,i2) \n",
    "\n",
    "# # d = 5, #tuple\n",
    "# # a = ('mi',)\n",
    "# # print(type(a))\n",
    "\n",
    "\n",
    "# # a,d = 15,'65',7,45,'uoiu' #string unpacking\n",
    "# # print(d)\n",
    "\n",
    "\n",
    "# # a,v,n= 'rod' \n",
    "\n",
    "\n",
    "# # b,c= 'rod','hen'\n"
   ]
  },
  {
   "cell_type": "code",
   "execution_count": null,
   "id": "909ba810",
   "metadata": {},
   "outputs": [],
   "source": [
    "\"\"\"set --->\n",
    "unordered collection of datatypes that is iterable ,mutable,and has no duplicate elements,the elements \n",
    "in a set must be immutable\"\"\""
   ]
  },
  {
   "cell_type": "code",
   "execution_count": null,
   "id": "31ba91ba",
   "metadata": {},
   "outputs": [],
   "source": [
    "a = {(7,8,9,5),(1,2,3,4)}"
   ]
  },
  {
   "cell_type": "code",
   "execution_count": null,
   "id": "cdebadda",
   "metadata": {},
   "outputs": [],
   "source": [
    "c = set()"
   ]
  },
  {
   "cell_type": "code",
   "execution_count": null,
   "id": "8b4c279a",
   "metadata": {},
   "outputs": [],
   "source": [
    "#add()\n",
    "c.add(15)\n",
    "print(c)\n",
    "# c.add(15)\n",
    "# print(c)\n",
    "# c.add([7,8,9])\n",
    "c.update([7,8,9])\n",
    "print(c)\n",
    "c.remove(8)\n",
    "print(c)\n",
    "# \n",
    "# c.remove(93) \n",
    "# print(c)\n",
    "c.discard(93)\n",
    "print(c)\n",
    "c.discard(9)\n",
    "print(c)\n",
    "c.update([78,45,26,13,96,100])\n",
    "print(c)\n",
    "print(c.pop())\n",
    "c.clear()\n",
    "print(c)"
   ]
  },
  {
   "cell_type": "code",
   "execution_count": null,
   "id": "42c5fb0c",
   "metadata": {},
   "outputs": [],
   "source": [
    "a = {1,2,3,4,56,12}\n",
    "b = {4,7,3,5,100,200,485}\n",
    "c = {96, 13, 26, 45, 78, 15,} \n",
    "print(a.union(b,c))  "
   ]
  },
  {
   "cell_type": "code",
   "execution_count": null,
   "id": "c3bb38a5",
   "metadata": {},
   "outputs": [],
   "source": [
    "print(a.difference(b,c)) \n",
    "print(a) "
   ]
  },
  {
   "cell_type": "code",
   "execution_count": null,
   "id": "879746df",
   "metadata": {},
   "outputs": [],
   "source": [
    "# print(a.difference_update(b))\n",
    "# print(a) "
   ]
  },
  {
   "cell_type": "code",
   "execution_count": null,
   "id": "e4f3fd21",
   "metadata": {},
   "outputs": [],
   "source": [
    "print(a.intersection(b,c))"
   ]
  },
  {
   "cell_type": "code",
   "execution_count": null,
   "id": "5d3ac505",
   "metadata": {},
   "outputs": [],
   "source": [
    "# print(a.intersection_update(b,c))\n",
    "# print(a) "
   ]
  },
  {
   "cell_type": "code",
   "execution_count": null,
   "id": "a144f1ef",
   "metadata": {},
   "outputs": [],
   "source": [
    "print(a.isdisjoint(b))"
   ]
  },
  {
   "cell_type": "code",
   "execution_count": null,
   "id": "679528f6",
   "metadata": {},
   "outputs": [],
   "source": [
    "print(b.isdisjoint(c))"
   ]
  },
  {
   "cell_type": "code",
   "execution_count": null,
   "id": "114814a2",
   "metadata": {},
   "outputs": [],
   "source": [
    "print(a.issubset(b))"
   ]
  },
  {
   "cell_type": "code",
   "execution_count": null,
   "id": "3658e017",
   "metadata": {},
   "outputs": [],
   "source": [
    "a = {1,2,3,4 }\n",
    "b = {1,2}"
   ]
  },
  {
   "cell_type": "code",
   "execution_count": null,
   "id": "6195053c",
   "metadata": {},
   "outputs": [],
   "source": [
    "print(b.issubset(a))"
   ]
  },
  {
   "cell_type": "code",
   "execution_count": null,
   "id": "244642a1",
   "metadata": {},
   "outputs": [],
   "source": [
    "print(a.issuperset(b))  "
   ]
  },
  {
   "cell_type": "code",
   "execution_count": null,
   "id": "ef1e23cf",
   "metadata": {},
   "outputs": [],
   "source": [
    "a = {1,2,3,4 }\n",
    "b = {1,2,7,8}"
   ]
  },
  {
   "cell_type": "code",
   "execution_count": null,
   "id": "85a9f6b3",
   "metadata": {},
   "outputs": [],
   "source": [
    "print(a.symmetric_difference(b))"
   ]
  },
  {
   "cell_type": "code",
   "execution_count": null,
   "id": "428cdf66",
   "metadata": {},
   "outputs": [],
   "source": [
    "print(a.symmetric_difference_update(b))"
   ]
  },
  {
   "cell_type": "code",
   "execution_count": null,
   "id": "ad11999e",
   "metadata": {},
   "outputs": [],
   "source": []
  },
  {
   "cell_type": "code",
   "execution_count": null,
   "id": "a5637d08",
   "metadata": {},
   "outputs": [],
   "source": [
    "# frozenset\n",
    "nu = [1,2,3,4,4,5,5,5,6,7,8,9] \n",
    "fnum_set = frozenset(nu)"
   ]
  },
  {
   "cell_type": "code",
   "execution_count": null,
   "id": "0c2e56bf",
   "metadata": {},
   "outputs": [],
   "source": [
    "nu1 = [1,2,3,4,5,6,7,8,9]\n",
    "num_set = set(nu1)"
   ]
  },
  {
   "cell_type": "code",
   "execution_count": null,
   "id": "98dfc749",
   "metadata": {},
   "outputs": [],
   "source": [
    "fnum_set"
   ]
  },
  {
   "cell_type": "code",
   "execution_count": null,
   "id": "0f7775b7",
   "metadata": {},
   "outputs": [],
   "source": [
    "num_set"
   ]
  },
  {
   "cell_type": "code",
   "execution_count": null,
   "id": "4f922410",
   "metadata": {},
   "outputs": [],
   "source": [
    "\"\"\" dictionary ----> this is an unordered collection of data values ,used to store data values like map,it holds data as \n",
    "key-value pair, keys in dictionary must be immutable, keys in dictionary are case sensitive\n",
    "if  key with same name is re-enterd it will replace previous key value\"\"\""
   ]
  },
  {
   "cell_type": "code",
   "execution_count": null,
   "id": "03582c59",
   "metadata": {},
   "outputs": [],
   "source": [
    "dict1 = {}\n",
    "dict2 = dict()\n",
    "dict3 = {'name' : 'Mithun',1:[1,2,3,4]}\n",
    "\n",
    "dict3"
   ]
  },
  {
   "cell_type": "code",
   "execution_count": null,
   "id": "6da07fd3",
   "metadata": {},
   "outputs": [],
   "source": [
    "dict24 = dict([(1,\"hai\"),(2,'bai')])\n",
    "dict24 "
   ]
  },
  {
   "cell_type": "code",
   "execution_count": null,
   "id": "187d2c66",
   "metadata": {},
   "outputs": [],
   "source": [
    "dict1 = {1:'V',2:'For',3:{'a':'the','b':'story',3:'begins'}}\n",
    "dict1[3][3]  \n",
    "\n",
    "# # d1 = {\"k1\":{'k2':d}}\n",
    "# # print(d1['k1']['k2']['simple key'])\n",
    "\n",
    "# d5 = {'k1':[{'nest_key':['nest value',['hello']]}]}\n",
    "# # d6 = {'k1':[1,2,{'k2':['nest value',{'tough':[1,2,['hello']]}]}]}\n",
    "# d6 = {'k1':[1,2,{'k2':['nest value',{'tough':[1,2,['hello where are you 78454456484566456874584 come fast ,i am on my way']]}]}]}\n",
    "\n",
    "# # print(d6['k1'][2]['k2'][1]['tough'][2][0][-14:])\n",
    "# # # \n",
    "# # \n",
    "# # \n",
    "# d = {'k1':1,'k2':2,'k3':'dog'}\n",
    "\n",
    "# # for item in d:\n",
    "# #     print(item)\n",
    "\n",
    "# # for item in d:\n",
    "# #     print(type(item))\n",
    "\n",
    "# # print(\"result of d.keys() : \",d.keys())\n",
    "# # print(\"result of d.values() : \",d.values())\n",
    "# # print(\"result of d.items() : \",d.items())\n",
    "\n",
    "# # for item in d.values():\n",
    "# #     print(item)\n",
    "# # print()\n",
    "# # for item in d.keys():\n",
    "# #     print(item)\n",
    "\n",
    "# # print()\n",
    "# # for item in d.items():\n",
    "# #     print(item)\n",
    "\n",
    "# # for item1,item2 in d.items():\n",
    "# #     print(item1)\n",
    "# #     print(item2)\n"
   ]
  },
  {
   "cell_type": "code",
   "execution_count": null,
   "id": "82eb8b17",
   "metadata": {},
   "outputs": [],
   "source": [
    "dict89 = {}\n",
    "dict89[3] = \"new\"  \n",
    "dict89[0] = 'class'\n",
    "dict89[1] = 'starts' \n",
    "dict89[2] = 1,2,3,4\n",
    "dict89[1] = \"ends\"\n",
    "print(dict89)"
   ]
  },
  {
   "cell_type": "code",
   "execution_count": null,
   "id": "7f7f9627",
   "metadata": {},
   "outputs": [],
   "source": [
    "dict89"
   ]
  },
  {
   "cell_type": "code",
   "execution_count": null,
   "id": "fdde67b9",
   "metadata": {},
   "outputs": [],
   "source": [
    "dic23 = {'Name':'Faizal','Age':23}"
   ]
  },
  {
   "cell_type": "code",
   "execution_count": null,
   "id": "eff8617c",
   "metadata": {},
   "outputs": [],
   "source": [
    "# j = str(dic23)\n",
    "# print(type(j))\n",
    "# print(j)\n",
    "# print(dic23.items())\n",
    "# print(len(dic23))\n",
    "# new_dict_copy = dic23 \n",
    "# print(new_dict_copy)\n",
    "new_dictt_copy_2 = dic23.copy()\n",
    "print(new_dictt_copy_2 )\n",
    "new_dictt_copy_2.clear()\n",
    "print(new_dictt_copy_2 )"
   ]
  },
  {
   "cell_type": "code",
   "execution_count": null,
   "id": "99729869",
   "metadata": {},
   "outputs": [],
   "source": [
    "sequn = ('Name','age','Id')\n",
    "new_dict3 = dict.fromkeys(sequn,5)\n"
   ]
  },
  {
   "cell_type": "code",
   "execution_count": null,
   "id": "5b04c3a7",
   "metadata": {},
   "outputs": [],
   "source": [
    "sequn1 = list(range(10))\n",
    "new_dict4 = dict.fromkeys(sequn1,5)\n"
   ]
  },
  {
   "cell_type": "code",
   "execution_count": null,
   "id": "61173ce8",
   "metadata": {},
   "outputs": [],
   "source": [
    "new_dict3.update(new_dict4)\n"
   ]
  },
  {
   "cell_type": "code",
   "execution_count": null,
   "id": "c3e477bc",
   "metadata": {},
   "outputs": [],
   "source": [
    "new_dict4.update(new_dict3)\n",
    "print(new_dict4)"
   ]
  },
  {
   "cell_type": "code",
   "execution_count": null,
   "id": "e4b61f66",
   "metadata": {},
   "outputs": [],
   "source": [
    "print(new_dict4['Name'])"
   ]
  },
  {
   "cell_type": "code",
   "execution_count": null,
   "id": "a93eb93e",
   "metadata": {},
   "outputs": [],
   "source": [
    "print(new_dict4.get('name','the value you searched is not here'))"
   ]
  },
  {
   "cell_type": "code",
   "execution_count": null,
   "id": "7f6f6a7f",
   "metadata": {},
   "outputs": [],
   "source": [
    "print(new_dict4.get('age','the value you searched is not here'))"
   ]
  },
  {
   "cell_type": "code",
   "execution_count": null,
   "id": "69a11f8f",
   "metadata": {},
   "outputs": [],
   "source": [
    "print(new_dict4.setdefault('age',15))"
   ]
  },
  {
   "cell_type": "code",
   "execution_count": null,
   "id": "dad54a81",
   "metadata": {},
   "outputs": [],
   "source": [
    "new_dict4.setdefault('gender','Male')"
   ]
  },
  {
   "cell_type": "code",
   "execution_count": null,
   "id": "b6a89e11",
   "metadata": {},
   "outputs": [],
   "source": [
    "print(new_dict4)"
   ]
  },
  {
   "cell_type": "code",
   "execution_count": null,
   "id": "a18b3adf",
   "metadata": {},
   "outputs": [],
   "source": [
    "print(new_dict3.pop(5))"
   ]
  },
  {
   "cell_type": "code",
   "execution_count": null,
   "id": "758a7340",
   "metadata": {},
   "outputs": [],
   "source": [
    "print(new_dict3)"
   ]
  },
  {
   "cell_type": "code",
   "execution_count": null,
   "id": "f2ef4758",
   "metadata": {},
   "outputs": [],
   "source": [
    "print(new_dict3.pop('age','no key named age'))"
   ]
  },
  {
   "cell_type": "code",
   "execution_count": null,
   "id": "906014d0",
   "metadata": {},
   "outputs": [],
   "source": [
    "print(new_dict3.pop('age'))"
   ]
  },
  {
   "cell_type": "code",
   "execution_count": null,
   "id": "0dc268b1",
   "metadata": {},
   "outputs": [],
   "source": [
    "print(new_dict3.popitem())"
   ]
  },
  {
   "cell_type": "code",
   "execution_count": null,
   "id": "84e46014",
   "metadata": {},
   "outputs": [],
   "source": [
    "\"Name\" in new_dict3"
   ]
  },
  {
   "cell_type": "code",
   "execution_count": null,
   "id": "89eb9eed",
   "metadata": {},
   "outputs": [],
   "source": [
    "l1 = ['Ten', 'Twenty', 'Thirty']\n",
    "l2 = [10, 20, 30]\n",
    "\n",
    "d1 = {}\n",
    "for i in range(len(l1)):\n",
    "    d1[l1[i]]=l2[i]\n",
    "\n",
    "print(d1)\n",
    "{'Ten':10, 'Twenty':20, 'Thirty':30}"
   ]
  },
  {
   "cell_type": "code",
   "execution_count": null,
   "id": "3c6d2799",
   "metadata": {},
   "outputs": [],
   "source": [
    "# Write a program to rename a key city to a location in the following dictionary.\n",
    "sample_dict = {\n",
    "  \"name\": \"Kelly\",\n",
    "  \"age\":25,\n",
    "  \"salary\": 8000,\n",
    "  'city': \"New york\"\n",
    "}"
   ]
  },
  {
   "cell_type": "code",
   "execution_count": null,
   "id": "c1b2f28d",
   "metadata": {},
   "outputs": [],
   "source": [
    "sample_dict['location'] = sample_dict.pop('city')\n",
    "sample_dict\n"
   ]
  },
  {
   "cell_type": "code",
   "execution_count": null,
   "id": "5f01e4b4",
   "metadata": {},
   "outputs": [],
   "source": [
    "a = [7,8,9,4,1,5,'cat']\n",
    "b = [4,5,9,83,7,4,8,'cat','mouse']\n",
    "\n",
    "{'common':6,'uncommon':3}"
   ]
  },
  {
   "cell_type": "code",
   "execution_count": null,
   "id": "5478c9ad",
   "metadata": {},
   "outputs": [],
   "source": []
  },
  {
   "cell_type": "code",
   "execution_count": null,
   "id": "397d5034",
   "metadata": {},
   "outputs": [],
   "source": [
    "# # s = 'hai'\n",
    "\n",
    "# # def check_for_locals():\n",
    "# #     s2 ='bye'\n",
    "# #     return locals()\n",
    "\n",
    "# # # print(globals())\n",
    "\n",
    "# # # print(globals().keys())\n",
    "\n",
    "\n",
    "# # # print(globals()['s'])\n",
    "\n",
    "# # print(check_for_locals()['s2'])\n",
    "\n",
    "\n",
    "# # def hello(name = 'jose'):\n",
    "# #     return 'Hello ' + name\n",
    "\n",
    "\n",
    "# # # print(hello())\n",
    "\n",
    "# # # print(hello)\n",
    "# # greet = hello\n",
    "\n",
    "# # # print(greet)\n",
    "# # print(greet())\n",
    "\n",
    "# # del hello\n",
    "\n",
    "# # # hello() \n",
    "\n",
    "# # greet()\n",
    "\n",
    "\n",
    "# # def hello (name = 'jose') :\n",
    "# #     print( ' The hello() function has been executed ')\n",
    "\n",
    "# #     def greet ():\n",
    "# #         return '\\t this is inside greet() function'\n",
    "    \n",
    "# #     def welcome ():\n",
    "# #         return \" \\t this is inside the welcome() function\"\n",
    "\n",
    "# #     print(greet())\n",
    "# #     print(welcome())\n",
    "# #     print(\" Now we are back inside hello \")\n",
    "\n",
    "# # hello ()\n",
    "\n",
    "# # print(welcome()) # due to welcome function being defined inside \n",
    "# # # another function its scope is local inside hello function only\n",
    "# # #  and so is not callable outside of hello()\n",
    "\n",
    "# # def hello (name = 'jose') :\n",
    "\n",
    "# #     def greet ():\n",
    "# #         return '\\t this is inside greet() function'\n",
    "    \n",
    "# #     def welcome ():\n",
    "# #         return \" \\t this is inside the welcome() function\"\n",
    "\n",
    "# #     if name == 'jose':\n",
    "# #         return greet\n",
    "# #     else :\n",
    "# #         return welcome\n",
    "\n",
    "\n",
    "# # x = hello ()\n",
    "\n",
    "# # print(x)\n",
    "# # print(x())\n",
    "\n",
    "\n",
    "# # def hello():\n",
    "# #     print(\"hai\")\n",
    "\n",
    "\n",
    "# # passing function as arguments\n",
    "# # def hello():\n",
    "# #     return 'Hi Jose'\n",
    "\n",
    "# # def other(func):\n",
    "# #     print('Other code would go here')\n",
    "# #     print(func())\n",
    "\n",
    "# # other(hello)\n",
    "\n",
    "\n",
    "# def new_decorater(func) :\n",
    "#     def wrap_func () :\n",
    "#         print(\"**************************\") \n",
    "#         k = func() \n",
    "#         if len(k) < 5:\n",
    "#             return ('small word' )\n",
    "#         else :\n",
    "#             return ('large word')\n",
    "#         print(\"*************************\")\n",
    "\n",
    "#     return wrap_func\n",
    "\n",
    "\n",
    "# # def fun_that_needs_decoration ():\n",
    "# #     print(\"this is the function that needs decoration\")\n",
    "\n",
    "\n",
    "\n",
    "# # # fun_that_needs_decoration()\n",
    "\n",
    "\n",
    "# # fun_that_needs_decoration = new_decorater(fun_that_needs_decoration)\n",
    "\n",
    "\n",
    "\n",
    "# # print(fun_that_needs_decoration())\n",
    "\n",
    "# @new_decorater\n",
    "# def func_that():\n",
    "#     return \"hai\"\n",
    "\n",
    "\n",
    "# print(func_that())\n",
    "\n",
    "# @new_decorater\n",
    "# def func34():\n",
    "#     return \"welcome to decoraters\"\n",
    "\n",
    "# print(func34())"
   ]
  },
  {
   "cell_type": "code",
   "execution_count": null,
   "id": "85ad18ad",
   "metadata": {},
   "outputs": [],
   "source": []
  },
  {
   "cell_type": "code",
   "execution_count": null,
   "id": "24812fdc",
   "metadata": {},
   "outputs": [],
   "source": []
  },
  {
   "cell_type": "code",
   "execution_count": null,
   "id": "d5f56cb1",
   "metadata": {},
   "outputs": [],
   "source": [
    "str1=\"how much wood can the woodchuck chuck if the woodchuck can chuck wood\"\n",
    "split_str1= str1.split()\n",
    "split_str2= str1.split()\n",
    "dict={}\n",
    "i=0\n",
    "for word in split_str1:\n",
    "    count=1\n",
    "    split_str2.pop(i)\n",
    "    if word in split_str2:\n",
    "        count+=1\n",
    "        dict.update({word:count})\n",
    "print(dict)"
   ]
  },
  {
   "cell_type": "code",
   "execution_count": null,
   "id": "f3f143c9",
   "metadata": {},
   "outputs": [],
   "source": []
  },
  {
   "cell_type": "code",
   "execution_count": null,
   "id": "3b35620f",
   "metadata": {},
   "outputs": [],
   "source": [
    "# backward iteration \n",
    "\n",
    "n = 6 \n",
    "for num in reversed(range(n)):\n",
    "    print(num, end = \" \")"
   ]
  },
  {
   "cell_type": "code",
   "execution_count": null,
   "id": "296d04ce",
   "metadata": {},
   "outputs": [],
   "source": [
    "n = 6 \n",
    "for num in (range(n,-1,-1)):\n",
    "    print(num, end = \" \")"
   ]
  },
  {
   "cell_type": "code",
   "execution_count": null,
   "id": "ae45a5df",
   "metadata": {},
   "outputs": [],
   "source": [
    "in python functions aree treated as  first class objects "
   ]
  },
  {
   "cell_type": "code",
   "execution_count": null,
   "id": "d776c4eb",
   "metadata": {},
   "outputs": [],
   "source": [
    "inner function / nested function is function in an another function"
   ]
  },
  {
   "cell_type": "code",
   "execution_count": null,
   "id": "e812b15c",
   "metadata": {},
   "outputs": [],
   "source": [
    "def oFunction(text):\n",
    "    text = text\n",
    "    def iFunction():\n",
    "        print(text)\n",
    "    innerFunction()\n",
    "\n",
    "oFunction('Hey')"
   ]
  },
  {
   "cell_type": "code",
   "execution_count": null,
   "id": "4b365b59",
   "metadata": {},
   "outputs": [],
   "source": [
    "def oFunction(text):\n",
    "    text = text\n",
    "    def iFunction():\n",
    "        print(text)\n",
    "    \n",
    "\n",
    "oFunction('Hey')"
   ]
  },
  {
   "cell_type": "code",
   "execution_count": null,
   "id": "b7475846",
   "metadata": {},
   "outputs": [],
   "source": [
    "#variable scope in nested function"
   ]
  },
  {
   "cell_type": "code",
   "execution_count": null,
   "id": "8a159dd6",
   "metadata": {},
   "outputs": [],
   "source": [
    "def f1():\n",
    "    s = \"i love python\"\n",
    "    def f2() :\n",
    "        print(s)\n",
    "    f2()\n",
    "f1()"
   ]
  },
  {
   "cell_type": "code",
   "execution_count": null,
   "id": "48bf56bd",
   "metadata": {},
   "outputs": [],
   "source": [
    "def f1():\n",
    "    s = \"i love python\"\n",
    "    def f2() :\n",
    "        s = \"Me too\"\n",
    "        print(s)\n",
    "    f2()\n",
    "    print(s)\n",
    "f1()"
   ]
  },
  {
   "cell_type": "code",
   "execution_count": null,
   "id": "a74828b9",
   "metadata": {},
   "outputs": [],
   "source": [
    "# using an iterable\n",
    "def f1():\n",
    "    s = [\"i love python\"]\n",
    "    def f2() :\n",
    "        s[0] = \"Me too\"\n",
    "        print(s)\n",
    "    f2()\n",
    "    print(s[0])\n",
    "f1()"
   ]
  },
  {
   "cell_type": "code",
   "execution_count": null,
   "id": "13ac46d7",
   "metadata": {},
   "outputs": [],
   "source": [
    "# local and global varaiables\n",
    "\n",
    "def f ():\n",
    "    s = 'i love india'\n",
    "    print(s)\n",
    "f()\n",
    "    "
   ]
  },
  {
   "cell_type": "code",
   "execution_count": null,
   "id": "8d5b0783",
   "metadata": {},
   "outputs": [],
   "source": [
    "h = 'hai' #-->global\n",
    "\n",
    "def f ():\n",
    "    s = 'i love india' # ---->local\n",
    "    print('insidefunction :',s)\n",
    "    print('insidefunction :',h)\n",
    "print('outsidefunction :',h)\n",
    "\n",
    "f()\n",
    "\n",
    "print('outsidefunction :',s)"
   ]
  },
  {
   "cell_type": "code",
   "execution_count": null,
   "id": "a532a1d8",
   "metadata": {},
   "outputs": [],
   "source": [
    "s = 'hai' #-->global\n",
    "def f ():\n",
    "    s += 'i love india' # ---->local\n",
    "    print('insidefunction',s)\n",
    "    print('insidefunction',h)\n",
    "print('outsidefunction',h)\n",
    "f()\n",
    "print(s)"
   ]
  },
  {
   "cell_type": "code",
   "execution_count": null,
   "id": "07c025fa",
   "metadata": {},
   "outputs": [],
   "source": [
    "a = 1 #global\n",
    " \n",
    "# Uses global because there is no local 'a'\n",
    "def f():\n",
    "    print('Inside f() : ', a)\n",
    " \n",
    "# Variable 'a' is redefined as a local\n",
    "def g():\n",
    "    a = 2\n",
    "    print('Inside g() : ', a)\n",
    " \n",
    "# Uses global keyword to modify global 'a'\n",
    "def h():\n",
    "    global a\n",
    "    a = 3\n",
    "    print('Inside h() : ', a)\n",
    " \n",
    " \n",
    "# Global scope\n",
    "print('global : ', a)\n",
    "f()\n",
    "print('global : ', a)\n",
    "g()\n",
    "print('global : ', a)\n",
    "h()\n",
    "print('global : ', a)"
   ]
  },
  {
   "cell_type": "code",
   "execution_count": null,
   "id": "7240cb27",
   "metadata": {},
   "outputs": [],
   "source": [
    "# counter\n",
    "# subclass of unordered dict,where elements and their respective counts are stored\n",
    "\n",
    "\n",
    "from collections import Counter\n",
    "\n",
    "print(Counter(['B','B','A','B','C','A','B','A','C']))\n",
    "print(Counter({'A':3,\"b\":4}))\n",
    "print(Counter(A=3,b=4))"
   ]
  },
  {
   "cell_type": "code",
   "execution_count": null,
   "id": "c5958374",
   "metadata": {},
   "outputs": [],
   "source": [
    "coun = Counter()\n",
    "print(coun)\n",
    "print(type(coun))"
   ]
  },
  {
   "cell_type": "code",
   "execution_count": null,
   "id": "8c162101",
   "metadata": {},
   "outputs": [],
   "source": [
    "coun.update([5,4,7,8,9,1,2,5,4,7,8,5,2,1,4,7,8,52,1,4,8,5,])\n",
    "print(coun)\n",
    "coun.update(['hai','hai','bye'])\n",
    "print(coun)"
   ]
  },
  {
   "cell_type": "code",
   "execution_count": null,
   "id": "1fc921ea",
   "metadata": {},
   "outputs": [],
   "source": [
    "c1 = Counter(A=4,B=3,C=10)\n",
    "c2 = Counter(A=10,B=3,C=4)\n",
    "c1.subtract(c2)\n",
    "print(c1)\n"
   ]
  },
  {
   "cell_type": "code",
   "execution_count": null,
   "id": "908351d2",
   "metadata": {},
   "outputs": [],
   "source": [
    "z = ['blue','red','yellow','blue','red','yellow','blue','red','yellow','blue','red','yellow']"
   ]
  },
  {
   "cell_type": "code",
   "execution_count": null,
   "id": "0a4634ef",
   "metadata": {},
   "outputs": [],
   "source": [
    "print(Counter(z))"
   ]
  },
  {
   "cell_type": "code",
   "execution_count": null,
   "id": "a65de7f8",
   "metadata": {},
   "outputs": [],
   "source": [
    "from collections import defaultdict\n",
    "\n",
    "def def_value():\n",
    "    return ' not present'\n",
    "\n",
    "d = defaultdict(def_value)\n",
    "                \n",
    "d['a'] = 1\n",
    "d['b'] = 2\n",
    "                \n",
    "print(d)\n",
    "print(d['a'])\n",
    "print(d['b'])\n",
    "print(d['c'])"
   ]
  },
  {
   "cell_type": "code",
   "execution_count": null,
   "id": "6a640086",
   "metadata": {},
   "outputs": [],
   "source": [
    "d = defaultdict(lambda:\"Nothing here\")\n",
    "d['a'] = 1\n",
    "d['b'] = 2\n",
    "print(d)\n",
    "print(d)\n",
    "print(d['a'])\n",
    "print(d['b'])\n",
    "print(d['c'])"
   ]
  },
  {
   "cell_type": "code",
   "execution_count": null,
   "id": "1e4968f5",
   "metadata": {},
   "outputs": [],
   "source": [
    "d = defaultdict(int)\n",
    "l = [1,2,3,4]\n",
    "for i in l :\n",
    "    d[i]+=1\n",
    "print(d[8])"
   ]
  },
  {
   "cell_type": "code",
   "execution_count": null,
   "id": "4e36258e",
   "metadata": {},
   "outputs": [],
   "source": []
  },
  {
   "cell_type": "code",
   "execution_count": null,
   "id": "49aa8cbf",
   "metadata": {},
   "outputs": [],
   "source": []
  },
  {
   "cell_type": "code",
   "execution_count": null,
   "id": "d0d2e32c",
   "metadata": {},
   "outputs": [],
   "source": [
    "from collections import OrderedDict"
   ]
  },
  {
   "cell_type": "code",
   "execution_count": null,
   "id": "0598d1f7",
   "metadata": {},
   "outputs": [],
   "source": [
    "d ={}\n",
    "d['a'] = 1\n",
    "d['b'] = 2\n",
    "d['c'] = 3\n",
    "d['d'] = 4\n",
    "print(d)\n",
    "for i in d:\n",
    "    print(i)\n",
    "\n",
    "d['c'] = 54\n",
    "print(d)\n",
    "print(d.pop('c'))\n"
   ]
  },
  {
   "cell_type": "code",
   "execution_count": null,
   "id": "b48ea2fa",
   "metadata": {},
   "outputs": [],
   "source": [
    "\"\"\"ordered dictionary preserves the order in which thw keys are inserted, a regular dictionary\n",
    "doesn't keep track pf insertino order\"\"\"\n",
    "d =OrderedDict()\n",
    "d['a'] = 1\n",
    "d['b'] = 2\n",
    "d['c'] = 3\n",
    "d['d'] = 4\n",
    "print(d)\n",
    "for i in d:\n",
    "    print(i)\n",
    "d['c'] = 54\n",
    "print(d)"
   ]
  },
  {
   "cell_type": "code",
   "execution_count": null,
   "id": "cafe6779",
   "metadata": {},
   "outputs": [],
   "source": [
    "a = {1:2,3:4}\n",
    "b = {3:4,1:2}\n",
    "print(a==b)"
   ]
  },
  {
   "cell_type": "code",
   "execution_count": null,
   "id": "4ed92c14",
   "metadata": {},
   "outputs": [],
   "source": []
  },
  {
   "cell_type": "code",
   "execution_count": null,
   "id": "1c53c196",
   "metadata": {},
   "outputs": [],
   "source": []
  },
  {
   "cell_type": "code",
   "execution_count": null,
   "id": "927ac25e",
   "metadata": {},
   "outputs": [],
   "source": []
  },
  {
   "cell_type": "code",
   "execution_count": null,
   "id": "be8f9612",
   "metadata": {},
   "outputs": [],
   "source": []
  },
  {
   "cell_type": "code",
   "execution_count": null,
   "id": "346fad40",
   "metadata": {},
   "outputs": [],
   "source": []
  },
  {
   "cell_type": "code",
   "execution_count": null,
   "id": "e677bdaa",
   "metadata": {},
   "outputs": [],
   "source": []
  },
  {
   "cell_type": "code",
   "execution_count": null,
   "id": "b3a81aa2",
   "metadata": {},
   "outputs": [],
   "source": [
    "# oops(object-oriented-programming)"
   ]
  },
  {
   "cell_type": "code",
   "execution_count": null,
   "id": "beaeccc5",
   "metadata": {},
   "outputs": [],
   "source": [
    "k = [2,1,3]\n",
    "print(type(k))\n",
    "k.sort()\n",
    "print(k)\n",
    "\n",
    "# main concept behind oops i to bind the data and the functions that work on that together as a single unit\n",
    "# so that no other part of the code can access this data"
   ]
  },
  {
   "cell_type": "code",
   "execution_count": null,
   "id": "4aa6bcce",
   "metadata": {},
   "outputs": [],
   "source": [
    "# class :\n",
    "# dog1 = ['dalmacian',25]\n",
    "# dog2 = [12,'pug']"
   ]
  },
  {
   "cell_type": "code",
   "execution_count": null,
   "id": "7456fac0",
   "metadata": {},
   "outputs": [],
   "source": [
    "#  classes are created by keyword class\n",
    "#  Attributes are the variables that belong to a class\n",
    "#  Attributes are always public and can be accessed using the dot(.) operater. eg:Myclass.myattribute"
   ]
  },
  {
   "cell_type": "code",
   "execution_count": null,
   "id": "d64f7406",
   "metadata": {},
   "outputs": [],
   "source": [
    "# class  ClassName :\n",
    "#     statement 1\n",
    "# .\n",
    "# .\n",
    "# .\n",
    "#      statemnet n"
   ]
  },
  {
   "cell_type": "code",
   "execution_count": null,
   "id": "14d1e8dc",
   "metadata": {},
   "outputs": [],
   "source": [
    "class Dog :\n",
    "    pass\n",
    "\n",
    "j = Dog()\n",
    "print(type(j))"
   ]
  },
  {
   "cell_type": "code",
   "execution_count": null,
   "id": "b7473699",
   "metadata": {},
   "outputs": [],
   "source": [
    "# An  object consists of \n",
    "\"\"\"\n",
    "state : it is represented by the attributes of an object.it also reflects the properties of an object\n",
    "eg : in case of a dog ------>  its breed,age,color etc....\n",
    "\n",
    "behaviour : it is represented by the methods of an object .it also reflects the response of an object to other objects\n",
    "eg : whether the dog is eating or sleeping\n",
    "\n",
    "identity: it gives a uniques name to an object and enables one object to interact with other objects\n",
    "eg:name of the dog\n",
    "\"\"\""
   ]
  },
  {
   "cell_type": "code",
   "execution_count": null,
   "id": "b955863b",
   "metadata": {},
   "outputs": [],
   "source": [
    "obj1 = Dog() # whenever an object of an class is created  the class is said to be instatitaed\n",
    "\"\"\"\n",
    "all the objects/instances shares the attributes and behavior of the the class\n",
    "but at the same time the values of those attributes may differ\n",
    "a sinle class may have any number of instances\n",
    "\"\"\""
   ]
  },
  {
   "cell_type": "code",
   "execution_count": null,
   "id": "19c21b69",
   "metadata": {},
   "outputs": [],
   "source": [
    "class Dog :\n",
    "    attr1 = 'mammal'\n",
    "    \n",
    "  "
   ]
  },
  {
   "cell_type": "code",
   "execution_count": null,
   "id": "7aae8830",
   "metadata": {},
   "outputs": [],
   "source": [
    "Fred = Dog()\n",
    "print(Fred.attr1)\n",
    "ramu = Dog()\n",
    "print(ramu.attr1)"
   ]
  },
  {
   "cell_type": "code",
   "execution_count": null,
   "id": "f7373a3a",
   "metadata": {},
   "outputs": [],
   "source": [
    "# #self\n",
    "\n",
    "class Check :\n",
    "    \n",
    "    def fun(self):\n",
    "        print('address of self = ' ,id(self))\n",
    "        \n",
    "chk_obj =  Check()\n",
    "\n",
    "print(' address of class object',id(chk_obj))\n",
    "chk_obj.fun()"
   ]
  },
  {
   "cell_type": "code",
   "execution_count": null,
   "id": "67b8bee6",
   "metadata": {},
   "outputs": [],
   "source": [
    "\n",
    "class Dog :\n",
    "    attr1 = 'mammal'\n",
    "    attr2 = 'Dog'\n",
    "    \n",
    "    def fun(self):\n",
    "        print(\" i'm a \" ,self.attr1)\n",
    "        print(\" i'm a \" ,self.attr2)\n",
    "\n",
    "husky = Dog()\n",
    "print(husky.attr1)\n",
    "husky.fun()\n",
    "#         self.name = name"
   ]
  },
  {
   "cell_type": "code",
   "execution_count": null,
   "id": "11a3dda8",
   "metadata": {},
   "outputs": [],
   "source": [
    "class Dog :\n",
    "    attr1 = 'mammal'\n",
    "    attr2 = 'Dog'\n",
    "    \n",
    "    def fun(self):\n",
    "        print(\" i'm a \" ,self.attr1)\n",
    "        print(\" i'm a \" ,self.attr2)\n",
    "\n",
    "husky = Dog()\n",
    "# print(husky.attr1)\n",
    "# # husky.fun()\n",
    "# Dog.fun(husky)"
   ]
  },
  {
   "cell_type": "code",
   "execution_count": null,
   "id": "c704baec",
   "metadata": {},
   "outputs": [],
   "source": [
    "# class Check:\n",
    "#     def j:\n",
    "#         print('this is a constructor')\n",
    "# Chk_obj2 = Check()\n",
    "# chk_obj2.j()\n",
    "\n",
    "# class Check:\n",
    "#     def j(superman): #self is just an convention\n",
    "#         print('this is a constructor')\n",
    "# chk_obj2 = Check()\n",
    "# chk_obj2.j()"
   ]
  },
  {
   "cell_type": "code",
   "execution_count": null,
   "id": "5a05cd9f",
   "metadata": {},
   "outputs": [],
   "source": [
    "class car() :\n",
    "    def __init__(self,a,c): #constructor\n",
    "        self.model = a\n",
    "        self.color = c\n",
    "        \n",
    "audi = car('audi a4','blue')\n",
    "print(audi.model)"
   ]
  },
  {
   "cell_type": "code",
   "execution_count": null,
   "id": "2b31aa3c",
   "metadata": {},
   "outputs": [],
   "source": [
    "class Car() :\n",
    "    \n",
    "    def __init__(self,model,color):\n",
    "        self.model = model\n",
    "        self.color = color\n",
    "        \n",
    "    def show(self):\n",
    "        print('model is',self.model)\n",
    "        print('color is',self.color)\n",
    "        \n",
    "audi = Car('audi a4','blue')\n",
    "ferrari = Car('ferrari 488','green') \n",
    "\n",
    "audi.show()\n",
    "ferrari.show()"
   ]
  },
  {
   "cell_type": "code",
   "execution_count": null,
   "id": "bd192bdc",
   "metadata": {},
   "outputs": [],
   "source": [
    "# class Check:\n",
    "#     def __init__():\n",
    "#         print('this is a constructor')\n",
    "# Chk_obj2 = Check()\n",
    "\n",
    "class Check:\n",
    "    def __init__(superman): #self is just an convention\n",
    "        print('this is a constructor')\n",
    "Chk_obj2 = Check()"
   ]
  },
  {
   "cell_type": "code",
   "execution_count": null,
   "id": "ae8a5be6",
   "metadata": {},
   "outputs": [],
   "source": [
    "# __init__ ---> constructor\n",
    "\n",
    "\"\"\"\n",
    "used to in initialize the state of an object\n",
    "\"\"\"\n",
    "\"\"\"\n",
    "def __init__(self):\n",
    "    # body of the constructor\n",
    "    \n",
    "    \n",
    "default constructor ---> simple constructor which doesn't accept any arguments ,its definition has only one argument which \n",
    "is a refernce to the instance being constructed\n",
    "    \"\"\"\n",
    "\n",
    "class New_Python :\n",
    "    def __init__(self):\n",
    "        self.new_obj = \"this is default constructor example\"\n",
    "        \n",
    "    def print_object_custom(self):\n",
    "        print(self.new_obj)\n",
    "j = New_Python()\n",
    "\n",
    "j.print_object_custom()"
   ]
  },
  {
   "cell_type": "code",
   "execution_count": null,
   "id": "77f8fd41",
   "metadata": {},
   "outputs": [],
   "source": [
    "\n",
    "\n",
    "\n",
    "\"\"\"parameterized constructor :\n",
    "constructor with parameters,the parameterized constructore takes its first argument as a reference to the instance being\n",
    "constructed known as self athe rest of the arguments are provided by programmers\"\"\"\n",
    "\n",
    "class Addition :\n",
    "    first = 0\n",
    "    second = 0\n",
    "    answer = 0\n",
    "    \n",
    "    def __init__(self,f,s):\n",
    "        self.first = f\n",
    "        self.second = s\n",
    "        \n",
    "    def display(self):\n",
    "        print('First number = ' , (self.first))\n",
    "        print('Second number = ',(self.second))\n",
    "        print('Addition of two numbers ',self.answer)\n",
    "    \n",
    "    def calculate(self):\n",
    "        self.answer = self.first + self.second\n",
    "\n",
    "# add_obj = Addition()\n",
    "add_obj = Addition(1000,2000)\n",
    "add_obj.display()\n",
    "add_obj.calculate()\n",
    "add_obj.display()\n"
   ]
  },
  {
   "cell_type": "code",
   "execution_count": null,
   "id": "2a526af0",
   "metadata": {},
   "outputs": [],
   "source": [
    "class Person :\n",
    "    \n",
    "    def __init__ (self,name):\n",
    "        self.name = name\n",
    "        print(f\"new object {self.name} is created \")\n",
    "    \n",
    "    def say_hi(self):\n",
    "        print('hello my name is ', self.name)\n",
    "\n",
    "p  = Person('Roshan')\n",
    "p.say_hi()"
   ]
  },
  {
   "cell_type": "code",
   "execution_count": null,
   "id": "f16a9d7d",
   "metadata": {},
   "outputs": [],
   "source": [
    "class Person :\n",
    "    \n",
    "    def __init__ (self,name):\n",
    "        self.name = name\n",
    "    \n",
    "    def say_hi(self):\n",
    "        print('hello my name is ', self.name)\n",
    "\n",
    "p  = Person('Roshan')\n",
    "p2  = Person('han')\n",
    "p3  = Person('shan')\n",
    "\n",
    "p.say_hi()\n",
    "p2.say_hi()\n",
    "p3.say_hi()\n",
    "    "
   ]
  },
  {
   "cell_type": "code",
   "execution_count": null,
   "id": "22b621e8",
   "metadata": {},
   "outputs": [],
   "source": [
    "class A(object):\n",
    "    def __init__(self,something):\n",
    "        print(\"init A is called\")\n",
    "        self.something = something\n",
    "        \n",
    "class B(A):\n",
    "    def __init__(self,some) :\n",
    "        A.__init__(self,some)\n",
    "        print(\"init B is called\")\n",
    "        self.some = some\n",
    "        \n",
    "obj_b = B(\"anything\")"
   ]
  },
  {
   "cell_type": "code",
   "execution_count": null,
   "id": "bf4f9b14",
   "metadata": {},
   "outputs": [],
   "source": [
    "class A(object):\n",
    "    def __init__(self,something):\n",
    "        print(\"init A is called\")\n",
    "        self.something = something\n",
    "        \n",
    "class B(A):\n",
    "    def __init__(self,some) :\n",
    "      \n",
    "        print(\"init B is called\")\n",
    "        self.some = some\n",
    "        A.__init__(self,some)\n",
    "        \n",
    "obj_b = B(\"anything\")"
   ]
  },
  {
   "cell_type": "code",
   "execution_count": null,
   "id": "72d12f09",
   "metadata": {},
   "outputs": [],
   "source": [
    "# python has both function as well as methods,whereas java doen't have the concept of function\n",
    "# methods-->(dependent on objects)\n",
    "# function ---->(independent)"
   ]
  },
  {
   "cell_type": "code",
   "execution_count": null,
   "id": "15b2f25b",
   "metadata": {},
   "outputs": [],
   "source": [
    "class New:\n",
    "    def method1():\n",
    "        pass"
   ]
  },
  {
   "cell_type": "code",
   "execution_count": null,
   "id": "82544d0d",
   "metadata": {},
   "outputs": [],
   "source": [
    "class New:\n",
    "    def method1(self):\n",
    "        print(\"this is method one of class new\")\n",
    "        \n",
    "# method1()\n",
    "j = New()\n",
    "# j.method1()\n",
    "# New().method1()"
   ]
  },
  {
   "cell_type": "code",
   "execution_count": null,
   "id": "63f1721d",
   "metadata": {},
   "outputs": [],
   "source": [
    "# Destructotrs\n",
    "\"\"\"\n",
    "destructors are called when objects gets destroyed,\n",
    "method used is __del__\n",
    "called when all the refrences to the object have been deleted\n",
    "\n",
    "\n",
    "def __del__(str):\n",
    "    # body of destructor\n",
    "\"\"\""
   ]
  },
  {
   "cell_type": "code",
   "execution_count": null,
   "id": "67cb9f96",
   "metadata": {},
   "outputs": [],
   "source": [
    "class Employee :\n",
    "    def __init__(self):\n",
    "        print(\"Employee Created\")\n",
    "        #\n",
    "    def __del__(self):\n",
    "        print('Destructor Caleed,Employee Deleted')\n",
    "        \n",
    "emp_1 =  Employee()\n",
    "del emp_1"
   ]
  },
  {
   "cell_type": "code",
   "execution_count": null,
   "id": "238889e1",
   "metadata": {},
   "outputs": [],
   "source": [
    "class Employee :\n",
    "    def __init__(self):\n",
    "        print(\"Employee Created\")\n",
    "        \n",
    "    def __del__(self):\n",
    "        print('Destructor Called')\n",
    "        \n",
    "def Create_obj():\n",
    "    print('making Objetc ....')\n",
    "    obj = Employee()\n",
    "    print('function ends here')\n",
    "    return obj\n",
    "\n",
    "print('call create object')\n",
    "obj2 = Create_obj()\n",
    "print('program ends')\n"
   ]
  },
  {
   "cell_type": "code",
   "execution_count": null,
   "id": "5e271bc3",
   "metadata": {},
   "outputs": [],
   "source": [
    "# class variables and instance variables"
   ]
  },
  {
   "cell_type": "code",
   "execution_count": null,
   "id": "c9e71e32",
   "metadata": {},
   "outputs": [],
   "source": [
    "class Csstudents :\n",
    "    stream = 'CSE'  #class variable\n",
    "    \n",
    "    def __init__(self,name,roll):\n",
    "        self.name = name        #instance variable\n",
    "        self.roll = roll        #instance variable\n",
    "        \n",
    "a = Csstudents(\"siva\",24)\n",
    "b = Csstudents('PARVATHY',35)\n",
    "\n",
    "print(a.name)\n",
    "print(b.name)\n",
    "print(a.roll)\n",
    "print(b.roll)\n",
    "print(a.stream)\n",
    "print(b.stream)"
   ]
  },
  {
   "cell_type": "code",
   "execution_count": null,
   "id": "9bfd3ccd",
   "metadata": {},
   "outputs": [],
   "source": [
    "# # class variables can be accessed using classnames too\n",
    "# print(Csstudents.stream)\n",
    "# print(Csstudents.name)"
   ]
  },
  {
   "cell_type": "code",
   "execution_count": null,
   "id": "2453ff50",
   "metadata": {},
   "outputs": [],
   "source": [
    "a.stream = \"Ece\"\n",
    "print(a.stream)\n",
    "print(b.stream)"
   ]
  },
  {
   "cell_type": "code",
   "execution_count": null,
   "id": "3aaae7f9",
   "metadata": {},
   "outputs": [],
   "source": [
    "Csstudents.stream = \"AEI\"\n",
    "print(b.stream)\n",
    "print(a.stream)"
   ]
  },
  {
   "cell_type": "code",
   "execution_count": null,
   "id": "7784a7ee",
   "metadata": {},
   "outputs": [],
   "source": [
    "# setting up an instance variable using methods\n",
    "class Dog :\n",
    "    animal = 'Mammal'\n",
    "    \n",
    "    def __init__(self,breed):\n",
    "        self.breed = breed\n",
    "        \n",
    "    def setColor(self,color):\n",
    "        self.color = color\n",
    "        \n",
    "    def getColor(self):\n",
    "        return self.color\n",
    "Rodger = Dog(\"pug\")\n",
    "Rodger.setColor('brown')\n",
    "print(Rodger.getColor())\n"
   ]
  },
  {
   "cell_type": "code",
   "execution_count": null,
   "id": "c5a1bd21",
   "metadata": {},
   "outputs": [],
   "source": []
  },
  {
   "cell_type": "code",
   "execution_count": null,
   "id": "57599beb",
   "metadata": {},
   "outputs": [],
   "source": []
  },
  {
   "cell_type": "code",
   "execution_count": null,
   "id": "4c902651",
   "metadata": {},
   "outputs": [],
   "source": [
    "# inheritance\n",
    "# in inheritance ,a class usually called superclass is inherited by another class called subclass"
   ]
  },
  {
   "cell_type": "code",
   "execution_count": null,
   "id": "02858e23",
   "metadata": {},
   "outputs": [],
   "source": [
    "class Person:\n",
    "    def __init__(self,name):\n",
    "        self.name = name\n",
    "    \n",
    "    def getName(self):\n",
    "        return self.name\n",
    "    \n",
    "    def isEmployee(self):\n",
    "        return False\n",
    "    \n",
    "class Employee(Person):\n",
    "    \n",
    "    def isEmployee(self):\n",
    "        return True\n",
    "    \n",
    "# emp = Person('noufal')\n",
    "# print(emp.getName())\n",
    "# print(emp.isEmployee())\n",
    "s1 = Employee('sarika')\n",
    "print(s1.getName())\n",
    "print(s1.isEmployee())"
   ]
  },
  {
   "cell_type": "code",
   "execution_count": null,
   "id": "ce925433",
   "metadata": {},
   "outputs": [],
   "source": [
    "class Base():\n",
    "    pass\n",
    "class Derived(Base):\n",
    "    pass\n",
    "\n",
    "# print(issubclass(Derived,Base))\n",
    "# print(issubclass(Base,Derived))\n",
    "\n",
    "b= Base()\n",
    "d= Derived()\n",
    "\n",
    "\n",
    "# print(isinstance(b,Base))\n",
    "# print(isinstance(b,Derived))\n",
    "# print(isinstance(d,Derived))\n",
    "print(isinstance(d,Base))\n"
   ]
  },
  {
   "cell_type": "code",
   "execution_count": null,
   "id": "5231bd38",
   "metadata": {},
   "outputs": [],
   "source": [
    "# single inheritance \n",
    "\n",
    "#base class \n",
    "class Parent :\n",
    "    def func1(self):\n",
    "        print(\"This func is in parent class\")\n",
    "        \n",
    "#derived class \n",
    "class Child(Parent):\n",
    "    def func2(self):\n",
    "        print(\"this func is in child class\")\n",
    "        \n",
    "obj1 = Child()\n",
    "obj1.func1()\n",
    "obj1.func2()"
   ]
  },
  {
   "cell_type": "code",
   "execution_count": null,
   "id": "5ad14d0f",
   "metadata": {},
   "outputs": [],
   "source": [
    "# multiple inheritance\n",
    "\n",
    "#base class1\n",
    "class Mother :\n",
    "    mothername = \"\"\n",
    "    def mother(self):\n",
    "        print(self.mothername)\n",
    "\n",
    "#base class2         \n",
    "class Father :\n",
    "    fathername = \"\"\n",
    "    def father(self):\n",
    "        print(self.fathername)\n",
    "        \n",
    "class Child(Mother,Father):\n",
    "    def parents(self):\n",
    "        print(\"Father : \", self.fathername)\n",
    "        print(\"Mother : \", self.mothername)\n",
    "\n",
    "# c2 = Child()\n",
    "# c2.parents()     \n",
    "        \n",
    "# c1 = Child()\n",
    "# c1.fathername = 'Ram'\n",
    "# c1.mothername = 'Bhavya'\n",
    "# c1.parents()\n",
    "\n",
    "Mother.mothername = \"shakthi\"     \n",
    "c4 = Child()\n",
    "c4.parents()\n",
    "\n",
    "Child.mothername = \"Remya\"     \n",
    "c4 = Child()\n",
    "c4.parents()\n",
    "\n",
    "# f1 = Father()\n",
    "# print(f1.mothername)\n",
    "# Father.mothername = \"raki\"     \n",
    "# print(f1.mothername)"
   ]
  },
  {
   "cell_type": "code",
   "execution_count": null,
   "id": "6ea3816f",
   "metadata": {},
   "outputs": [],
   "source": [
    "\n",
    "\n",
    "\n",
    "\n"
   ]
  },
  {
   "cell_type": "code",
   "execution_count": null,
   "id": "31ed750a",
   "metadata": {},
   "outputs": [],
   "source": [
    "# the Diamond  Problem"
   ]
  },
  {
   "cell_type": "code",
   "execution_count": null,
   "id": "a5ebbbd2",
   "metadata": {},
   "outputs": [],
   "source": [
    "# here method is being overriden in both classes\n",
    "class Class1 :\n",
    "    def m(self):\n",
    "        print(\"in class 1\")\n",
    "        \n",
    "class Class2(Class1):\n",
    "    def m(self):\n",
    "        print(\"in class2\")\n",
    "        \n",
    "class Class3(Class1) :\n",
    "    def m(self):\n",
    "        print(\"in class 3\")\n",
    "        \n",
    "class Class4(Class2,Class3):\n",
    "       pass\n",
    "\n",
    "# class Class4(Class3,Class2):\n",
    "#        pass\n",
    "o1 = Class4()\n",
    "o1.m()"
   ]
  },
  {
   "cell_type": "code",
   "execution_count": null,
   "id": "f5b58b78",
   "metadata": {},
   "outputs": [],
   "source": [
    "# here method is being overriden in one of the classes\n",
    "class Class1 :\n",
    "    def m(self):\n",
    "        print(\"in class 1\")\n",
    "        \n",
    "class Class2(Class1):\n",
    "        pass\n",
    "        \n",
    "class Class3(Class1) :\n",
    "    def m(self):\n",
    "        print(\"in class 3\")\n",
    "        \n",
    "class Class4(Class2,Class3):\n",
    "       pass\n",
    "\n",
    "\n",
    "o1 = Class4()\n",
    "o1.m()"
   ]
  },
  {
   "cell_type": "code",
   "execution_count": null,
   "id": "2db8a0b8",
   "metadata": {},
   "outputs": [],
   "source": [
    "# #  method is defined in every class\n",
    "# class Class1 :\n",
    "#     def m(self):\n",
    "#         print(\"in class 1\")\n",
    "        \n",
    "# class Class2(Class1):\n",
    "#     def m(self):\n",
    "#         print(\"in class2\")\n",
    "        \n",
    "# class Class3(Class1) :\n",
    "#     def m(self):\n",
    "#         print(\"in class 3\")\n",
    "        \n",
    "# class Class4(Class2,Class3):\n",
    "#       def m(self):\n",
    "#         print(\"in class 4\")\n",
    "\n",
    "# # class Class4(Class3,Class2):\n",
    "# #        pass\n",
    "# o1 = Class4()\n",
    "# o1.m()\n",
    "# print()\n",
    "# o2 = Class1()\n",
    "# o2.m()\n",
    "\n",
    "# print()\n",
    "# Class1.m(o2)\n",
    "# Class1.m(o1)\n",
    "# Class3.m(o2)"
   ]
  },
  {
   "cell_type": "code",
   "execution_count": null,
   "id": "6b2ce440",
   "metadata": {},
   "outputs": [],
   "source": [
    "#  method is defined in every class\n",
    "class Class1 :\n",
    "    def m(self):\n",
    "        print(\"in class 1\")\n",
    "        \n",
    "class Class2(Class1):\n",
    "    def m(self):\n",
    "        print(\"in class2\")\n",
    "        \n",
    "class Class3(Class1) :\n",
    "    def m(self):\n",
    "        print(\"in class 3\")\n",
    "        \n",
    "class Class4(Class2,Class3):\n",
    "      def m(self):\n",
    "        print(\"in class 4\")\n",
    "        Class2.m(self)\n",
    "        Class3.m(self)\n",
    "        \n",
    "o4 = Class4()\n",
    "o4.m()"
   ]
  },
  {
   "cell_type": "code",
   "execution_count": null,
   "id": "be453041",
   "metadata": {},
   "outputs": [],
   "source": [
    "#  method is defined in every class,here method m of class 1 is called twice\n",
    "class Class1 :\n",
    "    def m(self):\n",
    "        print(\"in class 1\")\n",
    "        \n",
    "class Class2(Class1):\n",
    "    def m(self):\n",
    "        print(\"in class2\")\n",
    "        Class1.m(self)\n",
    "        \n",
    "class Class3(Class1) :\n",
    "    def m(self):\n",
    "        print(\"in class 3\")\n",
    "        Class1.m(self)\n",
    "        \n",
    "class Class4(Class2,Class3):\n",
    "      def m(self):\n",
    "        print(\"in class 4\")\n",
    "        Class2.m(self)\n",
    "        Class3.m(self)\n",
    "        \n",
    "o4 = Class4()\n",
    "o4.m()"
   ]
  },
  {
   "cell_type": "code",
   "execution_count": null,
   "id": "76021dfb",
   "metadata": {},
   "outputs": [],
   "source": [
    "# super() ---> provides  us the facility to refer to the the parent class explicitly\n",
    "\n",
    "class Parentclass():\n",
    "    def __init__(self):\n",
    "        pass\n",
    "class Subclass(Parentclass):\n",
    "    def __init__(self):\n",
    "        super()"
   ]
  },
  {
   "cell_type": "code",
   "execution_count": null,
   "id": "67cbfe40",
   "metadata": {},
   "outputs": [],
   "source": [
    "class GFather :\n",
    "    def __init__(self):\n",
    "        print(\"this is in GFather\")\n",
    "    \n",
    "    def sub_GFather(self,b) :\n",
    "        print(\"GFather age : \",b)\n",
    "        \n",
    "class Father(GFather):\n",
    "    def __init__(self):\n",
    "        print(\"this is in Father\")\n",
    "        super().__init__()\n",
    "        \n",
    "    def sub_Father(self,b):\n",
    "        print(\"Father's age : \" , b)\n",
    "        super().sub_GFather(b+30)\n",
    "        \n",
    "class Child(Father):\n",
    "    def __init__(self):\n",
    "        print(\"this is in Child\")\n",
    "        super().__init__()\n",
    "        \n",
    "    def sub_Child(self,b):\n",
    "        print(\"Son's age : \" , b)\n",
    "        super().sub_Father(b+40)\n",
    "        \n",
    "        \n",
    "c1 = Child()\n",
    "\n",
    "c1.sub_Child(18)\n",
    "        "
   ]
  },
  {
   "cell_type": "code",
   "execution_count": null,
   "id": "2542e72a",
   "metadata": {},
   "outputs": [],
   "source": []
  },
  {
   "cell_type": "code",
   "execution_count": null,
   "id": "175e19cd",
   "metadata": {},
   "outputs": [],
   "source": [
    "# super Function\n",
    "#  method is defined in every class\n",
    "\n",
    "class Class0 :\n",
    "    def m(self):\n",
    "        print(\"in class 0\")\n",
    "    \n",
    "class Class1(Class0) :\n",
    "    def m(self):\n",
    "        print(\"in class 1\")\n",
    "        super().m()\n",
    "class Class2(Class1):\n",
    "    def m(self):\n",
    "        print(\"in class2\")\n",
    "#         super().m()\n",
    "        \n",
    "class Class3(Class1) :\n",
    "    def m(self):\n",
    "        print(\"in class 3\")\n",
    "#         super().m()\n",
    "        \n",
    "class Class4(Class2,Class3):\n",
    "      def m(self):\n",
    "        print(\"in class 4\")\n",
    "        super().m()\n",
    "        \n",
    "o4 = Class4()\n",
    "print(Class4.mro())# metthod resolution order\n",
    "print(Class4.__mro__)\n",
    "o4.m()"
   ]
  },
  {
   "cell_type": "code",
   "execution_count": null,
   "id": "4b0f7054",
   "metadata": {},
   "outputs": [],
   "source": [
    "# multilevel inheritance\n",
    "# a---->b------>c"
   ]
  },
  {
   "cell_type": "code",
   "execution_count": null,
   "id": "e7a297a2",
   "metadata": {},
   "outputs": [],
   "source": [
    "# #Base Class\n",
    "# class Grandfather:\n",
    " \n",
    "#     def __init__(self, grandfathername):\n",
    "#         self.grandfathername = grandfathername\n",
    " \n",
    "# # Intermediate class\n",
    "# class Father(Grandfather):\n",
    "#     def __init__(self, fathername, grandfathername):\n",
    "#         self.fathername = fathername\n",
    " \n",
    "#         # invoking constructor of Grandfather class\n",
    "#         Grandfather.__init__(self, grandfathername)\n",
    " \n",
    "# # Derived class\n",
    "# class Son(Father):\n",
    "#     def __init__(self,sonname, fathername, grandfathername):\n",
    "#         self.sonname = sonname\n",
    " \n",
    "#         # invoking constructor of Father class\n",
    "#         Father.__init__(self, fathername, grandfathername)\n",
    " \n",
    "#     def print_name(self):\n",
    "#         print('Grandfather name :', self.grandfathername)\n",
    "#         print(\"Father name :\", self.fathername)\n",
    "#         print(\"Son name :\", self.sonname)\n",
    " \n",
    "# #  Driver code\n",
    "# s1 = Son('Prince', 'Rampal', 'Lal mani')\n",
    "# print(s1.grandfathername)\n",
    "# s1.print_name()\n",
    "\n",
    "# f1 = Father('Rampal', 'Lal mani')\n",
    "# # print(f1.grandfathernamerandfathername)\n",
    "# # f1.print_name()"
   ]
  },
  {
   "cell_type": "code",
   "execution_count": null,
   "id": "0bf35305",
   "metadata": {},
   "outputs": [],
   "source": [
    "|------>b\n",
    "a------>c\n",
    "|------>d"
   ]
  },
  {
   "cell_type": "code",
   "execution_count": null,
   "id": "538053c5",
   "metadata": {},
   "outputs": [],
   "source": [
    "# Hierarchical inheritance\n",
    "# Base class\n",
    "class Parent:\n",
    "    def func1(self):\n",
    "        print(\"This function is in parent class.\")\n",
    "# Derived class1\n",
    "class Child1(Parent):\n",
    "    def func2(self):\n",
    "        print(\"This function is in child 1.\")\n",
    "\n",
    "# Derivied class2\n",
    "class Child2(Parent):\n",
    "    def func3(self):\n",
    "    print(\"This function is in child 2.\")\n",
    "\n",
    "object1 = Child1()\n",
    "object2 = Child2()\n",
    "object1.func1()\n",
    "object1.func2()\n",
    "object2.func1()\n",
    "object2.func3()"
   ]
  },
  {
   "cell_type": "code",
   "execution_count": null,
   "id": "68764920",
   "metadata": {},
   "outputs": [],
   "source": [
    "# hybrid inheritance\n",
    "class School:\n",
    "    def func1(self):\n",
    "        print(\"This function is in school.\")\n",
    "\n",
    "class Student1(School):\n",
    "    def func2(self):\n",
    "        print(\"This function is in student 1. \")\n",
    "\n",
    "class Student2(School):\n",
    "    def func3(self):\n",
    "        print(\"This function is in student 2.\")\n",
    "\n",
    "class Student3(Student1, School):\n",
    "    def func4(self):\n",
    "        print(\"This function is in student 3.\")\n",
    "\n",
    "object = Student3()\n",
    "object.func1()\n",
    "object.func2()\n"
   ]
  },
  {
   "cell_type": "code",
   "execution_count": null,
   "id": "8c7b5eac",
   "metadata": {},
   "outputs": [],
   "source": [
    "# Encapsulation\n",
    "\n",
    "\"\"\"its the idea of wrapping data and the methods that work on a data within one unit.\n",
    "This puts restrictions on accessing variables and methids directly and can prevent accidental modification of data \"\"\""
   ]
  },
  {
   "cell_type": "code",
   "execution_count": null,
   "id": "1af850b0",
   "metadata": {},
   "outputs": [],
   "source": [
    "class Base :\n",
    "    def __init__(self):\n",
    "        \n",
    "        self._a = 2 #protected member\n",
    "        print(self._a)\n",
    "class Derived(Base):\n",
    "    def __init__(self):\n",
    "        \n",
    "        Base.__init__(self)\n",
    "        print(\"calling protected member\")\n",
    "        print(self._a)\n",
    "        \n",
    "\n",
    "\n",
    "# obj1 =  Base()\n",
    "obj2 =  Derived()\n",
    "\n",
    "# print(obj1._a)\n",
    "# print(obj2._a)"
   ]
  },
  {
   "cell_type": "code",
   "execution_count": null,
   "id": "c49e979f",
   "metadata": {},
   "outputs": [],
   "source": [
    "class Base:\n",
    "    def __init__(self):\n",
    "        self.a = \"hai\"\n",
    "        self.__c = \"bye\" #private members\n",
    "        print(self.__c)\n",
    "        \n",
    "class Derived(Base):\n",
    "    def __init__(self):\n",
    "        Base.__init__(self)\n",
    "        print(\"call private\")\n",
    "        print(self.__c)\n",
    "        \n",
    "# obj1  = Base()\n",
    "# print(obj1.a)\n",
    "# print(obj1.__c\n",
    "\n",
    "# obj2 = Derived()\n",
    "      \n",
    "      \n"
   ]
  },
  {
   "cell_type": "code",
   "execution_count": null,
   "id": "12b93cbe",
   "metadata": {},
   "outputs": [],
   "source": []
  },
  {
   "cell_type": "code",
   "execution_count": null,
   "id": "bd9d2e3c",
   "metadata": {},
   "outputs": [],
   "source": [
    "# Private methods\n",
    "\n",
    "class Base :\n",
    "    \n",
    "    def fun(self):\n",
    "        print(\"public method\")\n",
    "        \n",
    "    def __fun(self):\n",
    "        print('private method') #private method\n",
    "\n",
    "class Derived(Base):\n",
    "    def __init__(self):\n",
    "        \n",
    "        Base.__init__(self)\n",
    "        \n",
    "    def call_public(self):\n",
    "        print(\"\\n inside the derived class\")\n",
    "        self.fun()\n",
    "        \n",
    "    def call_private(self):\n",
    "        print(\" calling private\")\n",
    "        self.__fun()\n",
    "\n",
    "obj1 = Base()\n",
    "        \n",
    "# obj1.fun()\n",
    "\n",
    "obj1.__fun()\n",
    "\n",
    "# obj2 = Derived()\n",
    "\n",
    "# obj2.call_public()\n",
    "\n",
    "# obj2.call_private()\n"
   ]
  },
  {
   "cell_type": "code",
   "execution_count": null,
   "id": "daaf28bc",
   "metadata": {},
   "outputs": [],
   "source": [
    "#accessing the private method  with the help of public methods\n",
    "class A :\n",
    "    \n",
    "    def fun(self):\n",
    "        print(\"public method\")\n",
    "        \n",
    "    def __fun(self):\n",
    "        print('private method') #private method\n",
    "    \n",
    "    def help(self):\n",
    "        self.fun()\n",
    "        self.__fun()\n",
    "obj = A()\n",
    "obj.help()"
   ]
  },
  {
   "cell_type": "code",
   "execution_count": null,
   "id": "7978288a",
   "metadata": {},
   "outputs": [],
   "source": [
    "Name mangling \n",
    "class jungle:\n",
    "        def __lion -------->_jungle__lion"
   ]
  },
  {
   "cell_type": "code",
   "execution_count": null,
   "id": "3ac822a2",
   "metadata": {},
   "outputs": [],
   "source": [
    "class A :\n",
    "    \n",
    "    def fun(self):\n",
    "        print(\"public method\")\n",
    "        \n",
    "    def __fun(self):\n",
    "        print('private method') #private method\n",
    "    \n",
    "obj = A()\n",
    "obj._A__fun()"
   ]
  },
  {
   "cell_type": "code",
   "execution_count": null,
   "id": "b730a03d",
   "metadata": {},
   "outputs": [],
   "source": [
    "# super class\n",
    "class Super:\n",
    "     \n",
    "     # public data member\n",
    "     var1 = None\n",
    " \n",
    "     # protected data member\n",
    "     _var2 = None\n",
    "      \n",
    "     # private data member\n",
    "     __var3 = None\n",
    "     \n",
    "     # constructor\n",
    "     def __init__(self, var1, var2, var3): \n",
    "          self.var1 = var1\n",
    "          self._var2 = var2\n",
    "          self.__var3 = var3\n",
    "     \n",
    "    # public member function  \n",
    "     def displayPublicMembers(self):\n",
    "  \n",
    "          # accessing public data members\n",
    "          print(\"Public Data Member: \", self.var1)\n",
    "        \n",
    "     # protected member function  \n",
    "     def _displayProtectedMembers(self):\n",
    "  \n",
    "          # accessing protected data members\n",
    "          print(\"Protected Data Member: \", self._var2)\n",
    "      \n",
    "     # private member function  \n",
    "     def __displayPrivateMembers(self):\n",
    "  \n",
    "          # accessing private data members\n",
    "          print(\"Private Data Member: \", self.__var3)\n",
    " \n",
    "     # public member function\n",
    "     def accessPrivateMembers(self):    \n",
    "           \n",
    "          # accessing private member function\n",
    "          self.__displayPrivateMembers()\n",
    "  \n",
    "# derived class\n",
    "class Sub(Super):\n",
    "  \n",
    "      # constructor\n",
    "       def __init__(self, var1, var2, var3):\n",
    "                Super.__init__(self, var1, var2, var3)\n",
    "           \n",
    "      # public member function\n",
    "       def accessProtectedMembers(self):\n",
    "                 \n",
    "                # accessing protected member functions of super class\n",
    "                self._displayProtectedMembers()\n",
    "  \n",
    "# creating objects of the derived class    \n",
    "obj = Sub(\"Geeks\", 4, \"Geeks !\")\n",
    " \n",
    "# calling public member functions of the class\n",
    "obj.displayPublicMembers()\n",
    "obj.accessProtectedMembers()\n",
    "obj.accessPrivateMembers()\n",
    " \n",
    "# Object can access protected member\n",
    "print(\"Object is accessing protected member:\", obj._var2)\n",
    " \n",
    "# object can not access private member, so it will generate Attribute error\n",
    "#print(obj.__var3)"
   ]
  },
  {
   "cell_type": "code",
   "execution_count": null,
   "id": "0d6673fc",
   "metadata": {},
   "outputs": [],
   "source": []
  },
  {
   "cell_type": "code",
   "execution_count": null,
   "id": "c62b0ce8",
   "metadata": {},
   "outputs": [],
   "source": []
  },
  {
   "cell_type": "code",
   "execution_count": null,
   "id": "6c558eba",
   "metadata": {},
   "outputs": [],
   "source": []
  },
  {
   "cell_type": "code",
   "execution_count": null,
   "id": "9418b83b",
   "metadata": {},
   "outputs": [],
   "source": [
    "# Polymorphism in python\n",
    "# samre function name but differnet function signtaures"
   ]
  },
  {
   "cell_type": "code",
   "execution_count": null,
   "id": "1437e90a",
   "metadata": {},
   "outputs": [],
   "source": [
    "k = [10,20,30]\n",
    "print(len(k))"
   ]
  },
  {
   "cell_type": "code",
   "execution_count": null,
   "id": "ba7f91c0",
   "metadata": {},
   "outputs": [],
   "source": [
    "j = 'string'\n",
    "print(len(j))"
   ]
  },
  {
   "cell_type": "code",
   "execution_count": null,
   "id": "03fbd20f",
   "metadata": {},
   "outputs": [],
   "source": [
    "def add(x,y,z=0):\n",
    "    return x+y+z\n",
    "\n",
    "print(add(4,5))\n",
    "print(add(4,5,7))"
   ]
  },
  {
   "cell_type": "code",
   "execution_count": null,
   "id": "092988ee",
   "metadata": {},
   "outputs": [],
   "source": [
    "#polymorphisim with class methods\n",
    "class India():\n",
    "    def capital(self):\n",
    "        print(\"New Delhi is the capital of India\")\n",
    "    def language(self):\n",
    "        print(\"Indai has many languages\")\n",
    "    def type_(self):\n",
    "        print(\"indaia is a developing country\")\n",
    "\n",
    "class Usa() :\n",
    "    def capital(self):\n",
    "        print(\"Washington DC is the capital of India\")\n",
    "    def language(self):\n",
    "        print(\"English\")\n",
    "    def type_(self):\n",
    "        print(\"developed country\")"
   ]
  },
  {
   "cell_type": "code",
   "execution_count": null,
   "id": "81084bc3",
   "metadata": {},
   "outputs": [],
   "source": [
    "obj_ind = India()\n",
    "obj_usa = Usa()\n",
    "for country in (obj_ind,obj_usa):\n",
    "    country.capital()\n",
    "    country.language()\n",
    "    country.type_()\n",
    "    print()"
   ]
  },
  {
   "cell_type": "code",
   "execution_count": null,
   "id": "90782a94",
   "metadata": {},
   "outputs": [],
   "source": [
    "# polymorphism with inheritance\n",
    "class Bird:\n",
    "  def intro(self):\n",
    "    print(\"There are many types of birds.\")\n",
    "     \n",
    "  def flight(self):\n",
    "    print(\"Most of the birds can fly but some cannot.\")\n",
    "   \n",
    "class sparrow(Bird): #method overrideing\n",
    "  def flight(self):\n",
    "    print(\"Sparrows can fly.\")\n",
    "     \n",
    "class ostrich(Bird): #method overrideing\n",
    "  def flight(self):\n",
    "    print(\"Ostriches cannot fly.\")\n",
    "     \n",
    "obj_bird = Bird()\n",
    "obj_spr = sparrow()\n",
    "obj_ost = ostrich()\n",
    "print()\n",
    "obj_bird.intro()\n",
    "obj_bird.flight()\n",
    "print()\n",
    "obj_spr.intro()\n",
    "obj_spr.flight()\n",
    "print()\n",
    "obj_ost.intro()\n",
    "obj_ost.flight()"
   ]
  },
  {
   "cell_type": "code",
   "execution_count": null,
   "id": "bb346977",
   "metadata": {},
   "outputs": [],
   "source": [
    "#polymorphism with a Function and objects\n",
    "class India():\n",
    "    def capital(self):\n",
    "        print(\"New Delhi is the capital of India\")\n",
    "    def language(self):\n",
    "        print(\"Indai has many languages\")\n",
    "    def type_(self):\n",
    "        print(\"indaia is adeveloping country\")\n",
    "\n",
    "class Usa() :\n",
    "    def capital(self):\n",
    "        print(\"Washington DC is the capital of India\")\n",
    "    def language(self):\n",
    "        print(\"English\")\n",
    "    def type_(self):\n",
    "        print(\"developed country\")\n",
    "\n",
    "def func(obj):\n",
    "    obj.capital()\n",
    "    obj.language()\n",
    "    obj.type_()\n",
    "\n",
    "func(obj_usa)\n",
    "func(obj_ind)"
   ]
  },
  {
   "cell_type": "code",
   "execution_count": null,
   "id": "54ecfa4b",
   "metadata": {},
   "outputs": [],
   "source": []
  },
  {
   "cell_type": "code",
   "execution_count": null,
   "id": "4a7bbd50",
   "metadata": {},
   "outputs": [],
   "source": [
    "#  abstract base class work\n",
    "\n",
    "class Animal():\n",
    "    \n",
    "    living = \"yes\"\n",
    "    def move(self):\n",
    "        pass\n",
    "    \n",
    "    \n",
    "class Human(Animal):\n",
    "    \n",
    "    def motion(self):\n",
    "        return (\"can walk and run\")\n",
    "\n",
    "class snake(Animal):\n",
    "    \n",
    "    def movement(self):\n",
    "        return (\"it crawls\")\n",
    "        \n",
    "s =snake()\n",
    "print(s.living) \n",
    "print(s.movement())\n",
    "h = Human()\n",
    "print(h.motion())\n",
    "print(h.living) \n",
    "        "
   ]
  },
  {
   "cell_type": "code",
   "execution_count": null,
   "id": "eceac17e",
   "metadata": {},
   "outputs": [],
   "source": [
    "\n",
    "# from abc import ABC,abstractmethod\n",
    "\n",
    "# class Animal(ABC):\n",
    "    \n",
    "#     living = \"yes\"\n",
    "    \n",
    "#     @abstractmethod\n",
    "#     def move(self):\n",
    "#         return \"hai\"\n",
    "#         pass\n",
    "    \n",
    "  \n",
    "# class snake(Animal):\n",
    "    \n",
    "#     def motion(self):\n",
    "#         return (\"it crawls\")\n",
    "    \n",
    "# class Human(Animal):\n",
    "    \n",
    "#     def movement(self):\n",
    "#         return (\"can walk and run\")\n",
    "\n",
    "# s = snake()\n",
    "# h = Human()\n",
    "\n",
    "\n",
    "from abc import ABC,abstractmethod\n",
    "\n",
    "class Animal(ABC):\n",
    "    \n",
    "    living = \"yes\"\n",
    "    \n",
    "    @abstractmethod\n",
    "    def move(self):\n",
    "        return \"hai\"\n",
    "        pass\n",
    "    \n",
    "class snake(Animal):\n",
    "    \n",
    "    def move(self):\n",
    "        return (\"it crawls\")\n",
    "    \n",
    "class Human(Animal):\n",
    "    \n",
    "    def move(self):\n",
    "        return (\"can walk and run\")\n",
    "    \n",
    "# a = Animal()\n",
    "# s = snake()\n",
    "h = Human()"
   ]
  },
  {
   "cell_type": "code",
   "execution_count": null,
   "id": "0062eed2",
   "metadata": {},
   "outputs": [],
   "source": []
  },
  {
   "cell_type": "code",
   "execution_count": null,
   "id": "56f37c90",
   "metadata": {},
   "outputs": [],
   "source": [
    "class stream(ABC) :\n",
    "    def open(self):\n",
    "        pass\n",
    "    \n",
    "    def close(self):\n",
    "        pass\n",
    "    \n",
    "    @abstractmethod\n",
    "    def write():\n",
    "        pass\n",
    "    \n",
    "class filestream(stream):\n",
    "    def write(self):\n",
    "        pass \n",
    "\n",
    "class ntwkstream(stream):\n",
    "    def write(self)\n",
    "\n"
   ]
  },
  {
   "cell_type": "code",
   "execution_count": null,
   "id": "e2d16b85",
   "metadata": {},
   "outputs": [],
   "source": [
    "class New:\n",
    "    def __init__(self,a,b,c,d,e):\n",
    "        self.a = a \n",
    "        self.b = b\n",
    "        self.c = c\n",
    "        self.d = d\n",
    "        self.e = e\n",
    "     \n",
    "    @staticmethod\n",
    "    def chumma():\n",
    "        print(\"just for fun\")\n",
    "     \n",
    "    @classmethod\n",
    "    def Zero(cls):\n",
    "        return New(5,4,3,2,1)\n",
    "k = New(4,5,7,8,9)\n",
    "k.chumma()\n",
    "\n",
    "n1 = New.Zero()\n",
    "n2 = New.Zero()\n",
    "print(n2.a)"
   ]
  },
  {
   "cell_type": "code",
   "execution_count": null,
   "id": "d245c22f",
   "metadata": {},
   "outputs": [],
   "source": []
  },
  {
   "cell_type": "code",
   "execution_count": null,
   "id": "7a93d4ff",
   "metadata": {},
   "outputs": [],
   "source": [
    "# num = [1,2,3]\n",
    "# num[3] \n",
    "# age  =  int(input(\"age : \"))\n",
    "\n",
    "# Exception: it terminates the execution of a programme"
   ]
  },
  {
   "cell_type": "code",
   "execution_count": null,
   "id": "d264ee69",
   "metadata": {},
   "outputs": [],
   "source": [
    "#Exception handling\n",
    "\n",
    "try :\n",
    "    age  =  int(input(\"age : \"))\n",
    "except ValueError:\n",
    "    print(\" you didn't enter a valid age\")\n",
    "print(\"execution continues\")"
   ]
  },
  {
   "cell_type": "code",
   "execution_count": null,
   "id": "aeb5610e",
   "metadata": {},
   "outputs": [],
   "source": [
    "try :\n",
    "    age  =  int(input(\"age : \"))\n",
    "except ValueError:\n",
    "    print(\" you didn't enter a valid age\")\n",
    "else:\n",
    "    print(\"there was no error\")\n",
    "print(\"execution continues\")"
   ]
  },
  {
   "cell_type": "code",
   "execution_count": null,
   "id": "50406dd8",
   "metadata": {},
   "outputs": [],
   "source": [
    "try :\n",
    "    age  =  int(input(\"age : \"))\n",
    "except ValueError as ex :\n",
    "    print(ex)\n",
    "    print(type(ex))\n",
    "else:\n",
    "    print(\"there was no error\")\n",
    "print(\"execution continues\")"
   ]
  },
  {
   "cell_type": "code",
   "execution_count": null,
   "id": "c8d84c05",
   "metadata": {},
   "outputs": [],
   "source": [
    "try :\n",
    "    age  =  int(input(\"age : \"))\n",
    "    xfactor = 10/age\n",
    "except ValueError as ex :\n",
    "    print(ex)\n",
    "    print(type(ex))\n",
    "except ZeroDivisionError:\n",
    "    print(\"age can't be zero\")\n",
    "else:\n",
    "    print(\"there was no error\")\n",
    "print(\"execution continues\")"
   ]
  },
  {
   "cell_type": "code",
   "execution_count": null,
   "id": "cedc4bf7",
   "metadata": {},
   "outputs": [],
   "source": [
    "try :\n",
    "    age  =  int(input(\"age : \"))\n",
    "    xfactor = 10/age\n",
    "except (ValueError,ZeroDivisionError):\n",
    "    print(\"please enter a valid value\")\n",
    "else:\n",
    "    print(\"there was no error\")\n",
    "print(\"execution continues\")"
   ]
  },
  {
   "cell_type": "code",
   "execution_count": null,
   "id": "235466e5",
   "metadata": {},
   "outputs": [],
   "source": [
    "try :\n",
    "    age  =  int(input(\"age : \"))\n",
    "    xfactor = 10/age\n",
    "except :\n",
    "    print(\"please enter a valid value\")\n",
    "else:\n",
    "    print(\"there was no error\")\n",
    "finally:\n",
    "    print(\"finally is printed\")\n",
    "print(\"execution continues\")"
   ]
  },
  {
   "cell_type": "code",
   "execution_count": null,
   "id": "86e52375",
   "metadata": {},
   "outputs": [],
   "source": [
    "try:\n",
    "    file = open(\"j.py\",\"w+\")\n",
    "    age  =  int(input(\"age : \"))\n",
    "    xfactor = 10/age\n",
    "    file.write(age)\n",
    "    file.close()\n",
    "except :\n",
    "    print(\"please enter a valid value\")\n",
    "else:\n",
    "    print(\"there was no error\")\n",
    "finally:\n",
    "    file.close()\n",
    "print(\"execution continues\")\n",
    "    "
   ]
  },
  {
   "cell_type": "code",
   "execution_count": null,
   "id": "23ea7298",
   "metadata": {},
   "outputs": [],
   "source": [
    "def calculate_age(age):\n",
    "    if age<=3 :\n",
    "        raise ValueError (\"Age can't be less than 2\")\n",
    "    return 10/age\n",
    "print(calculate_age(2))  "
   ]
  },
  {
   "cell_type": "code",
   "execution_count": null,
   "id": "6c6b2d80",
   "metadata": {},
   "outputs": [],
   "source": []
  },
  {
   "cell_type": "code",
   "execution_count": null,
   "id": "66204d32",
   "metadata": {},
   "outputs": [],
   "source": []
  },
  {
   "cell_type": "code",
   "execution_count": null,
   "id": "2de6899f",
   "metadata": {},
   "outputs": [],
   "source": [
    "#  abstract base class work\n",
    "\n",
    "class Animal():\n",
    "    \n",
    "    living = \"yes\"\n",
    "    def move(self):\n",
    "        pass\n",
    "    \n",
    "    \n",
    "class Human(Animal):\n",
    "    \n",
    "    def motion(self):\n",
    "        return (\"can walk and run\")\n",
    "\n",
    "class snake(Animal):\n",
    "    \n",
    "    def movement(self):\n",
    "        return (\"it crawls\")\n",
    "        \n",
    "s =snake()\n",
    "print(s.living) \n",
    "print(s.movement())\n",
    "h = Human()\n",
    "print(h.motion())\n",
    "print(h.living) \n",
    "        \n",
    "\n",
    "\n",
    "\n",
    "\n"
   ]
  },
  {
   "cell_type": "code",
   "execution_count": null,
   "id": "6d24d791",
   "metadata": {},
   "outputs": [],
   "source": [
    "from abc import ABC,abstractmethod\n",
    "\n",
    "class Animal(ABC):\n",
    "    \n",
    "    living = \"yes\"\n",
    "    \n",
    "    @abstractmethod\n",
    "    def move(self):\n",
    "        return \"hai\"\n",
    "        pass\n",
    "    \n",
    "  \n",
    "class snake(Animal):\n",
    "    \n",
    "    def move(self):\n",
    "        return (\"it crawls\")\n",
    "    \n",
    "class Human(Animal):\n",
    "    \n",
    "    def move(self):\n",
    "        return (\"can walk and run\")\n",
    "\n",
    "\n",
    "        \n",
    "s =snake()\n",
    "print(s.living) \n",
    "print(s.move())\n",
    "h = Human()\n",
    "print(h.move())\n",
    "print(h.living) \n",
    "\n"
   ]
  },
  {
   "cell_type": "code",
   "execution_count": null,
   "id": "93f347a6",
   "metadata": {},
   "outputs": [],
   "source": [
    "class stream(ABC) :\n",
    "    def open(self):\n",
    "        pass\n",
    "    \n",
    "    def close(self):\n",
    "        pass\n",
    "    \n",
    "    @abstractmethod\n",
    "    def write():\n",
    "        pass\n",
    "    \n",
    "class filestream(stream):\n",
    "    def write(self):\n",
    "        pass \n",
    "\n",
    "class ntwkstream(stream):\n",
    "    def write(self)"
   ]
  },
  {
   "cell_type": "code",
   "execution_count": null,
   "id": "7de1e11c",
   "metadata": {},
   "outputs": [],
   "source": [
    "# class new1:\n",
    "#     def __init__(self,a,b):\n",
    "#         self.a = a\n",
    "#         self.b = b\n",
    "    \n",
    "#     @staticmethod\n",
    "#     def display():\n",
    "#         print(\" this is a programme to print summ\")\n",
    "        \n",
    "    \n",
    "        \n",
    "# j = new1(4,5)\n",
    "# j.display()\n",
    "        "
   ]
  },
  {
   "cell_type": "code",
   "execution_count": null,
   "id": "e315344c",
   "metadata": {},
   "outputs": [],
   "source": [
    "class New:\n",
    "    def __init__(self,a,b,c,d,e):\n",
    "        self.a = a \n",
    "        self.b = b\n",
    "        self.c = c\n",
    "        self.d = d\n",
    "        self.e = e\n",
    "     \n",
    "    @staticmethod\n",
    "    def chumma():\n",
    "        print(\"just for fun\")\n",
    "     \n",
    "    @classmethod #factory method\n",
    "    def Zero(cls):\n",
    "        return New(78,45,7,1,56)\n",
    "        \n",
    "\n",
    "k = New(4,5,7,8,9)\n",
    "print(k.a)\n",
    "k.chumma()\n",
    "\n",
    "\n",
    "New.Zero()\n",
    "\n",
    "n1 = New.Zero()\n",
    "n2 = New.Zero()\n",
    "print(n2.a)"
   ]
  },
  {
   "cell_type": "code",
   "execution_count": null,
   "id": "8ecc28c0",
   "metadata": {},
   "outputs": [],
   "source": [
    "program to build a simple Student Management System using Python which can perform following operations:"
   ]
  },
  {
   "cell_type": "code",
   "execution_count": null,
   "id": "63507fed",
   "metadata": {},
   "outputs": [],
   "source": [
    "program to build a simple Student Management System\n",
    "using Python which can perform following operations:\n",
    "Accept:\n",
    "    name ,rollnumber,mark of two subjects\n",
    "Display :\n",
    "    display all the detals of the student\n",
    "Search :\n",
    "    search an particular student,using roll number\n",
    "Delete:\n",
    "    delete the student whose roll number is passed\n",
    "Update:\n",
    "    ask for the old rollnumber and the new roll number and \n",
    "    updates the old with the new"
   ]
  },
  {
   "cell_type": "code",
   "execution_count": null,
   "id": "bdf11766",
   "metadata": {},
   "outputs": [],
   "source": [
    "class Student :\n",
    "    def __init__(self,name,rollnumber,m1,m2):\n",
    "        self.name = name\n",
    "        self.rollnumber = rollnumber\n",
    "        self.m1= m1\n",
    "        self.m2 = m2\n",
    "    \n",
    "    def accept(self,name,rollnumber,m1,m2):\n",
    "       ob = Student(name,rollnumber,m1,m2)\n",
    "       ls.append(ob) \n",
    "    \n",
    "ls = []\n",
    "obj=Student(\" \",0,0,0)\n",
    "print(\"\\n operations \")\n",
    "print(\"\\n1.accept\\n2.Dispaly\\n3.Search\\n.Delete\\nUpdate\")\n",
    "\n",
    "opt = int(input( \"enter the option : \"))\n",
    "\n",
    "if opt == 1 :\n",
    "    k = int(input(\"enter number of studens : \"))\n",
    "    for i in range(k):\n",
    "        name = input(\"enter the name : \" )\n",
    "        rollnumber = input(\"enter the rollnumber : \")\n",
    "        m1 = input(\"enter the mark1\")\n",
    "        m2 = input(\"enter the mark2\")\n",
    "        obj.accept(name,rollnumber,m1,m2)\n",
    "print(ls)\n",
    "print(ls[1].name)"
   ]
  },
  {
   "cell_type": "code",
   "execution_count": 10,
   "id": "f9842d03",
   "metadata": {},
   "outputs": [
    {
     "name": "stdout",
     "output_type": "stream",
     "text": [
      "hai\n"
     ]
    }
   ],
   "source": [
    "# magic methods\n",
    "class Point :\n",
    "    default_color : \"red\"\n",
    "    def __init__(self,a,b):\n",
    "        self.a = a\n",
    "        self.b = b\n",
    "        print(\"hai\")\n",
    "        \n",
    "p1 = Point(1,2)\n"
   ]
  },
  {
   "cell_type": "code",
   "execution_count": 12,
   "id": "18ade360",
   "metadata": {},
   "outputs": [
    {
     "name": "stdout",
     "output_type": "stream",
     "text": [
      "<__main__.Point object at 0x000001F05A37E850>\n",
      "<__main__.Point object at 0x000001F05A37E850>\n"
     ]
    }
   ],
   "source": [
    "print(p1)\n",
    "print(str(p1))"
   ]
  },
  {
   "cell_type": "code",
   "execution_count": 18,
   "id": "66d60cbe",
   "metadata": {},
   "outputs": [],
   "source": [
    "\n",
    "class Point :\n",
    "    default_color : \"red\"\n",
    "    def __init__(self,a,b):\n",
    "        self.a = a\n",
    "        self.b = b\n",
    "        \n",
    "    def __str__(self):\n",
    "        return(f\"({self.a},{self.b})\")\n",
    "    \n",
    "        \n",
    "        \n",
    "p1 = Point(1,2)"
   ]
  },
  {
   "cell_type": "code",
   "execution_count": 20,
   "id": "ef6e3a37",
   "metadata": {},
   "outputs": [
    {
     "name": "stdout",
     "output_type": "stream",
     "text": [
      "(1,2)\n",
      "(1,2)\n"
     ]
    }
   ],
   "source": [
    "print(p1)\n",
    "print(str(p1))"
   ]
  },
  {
   "cell_type": "code",
   "execution_count": 17,
   "id": "23a9eb32",
   "metadata": {},
   "outputs": [
    {
     "name": "stdout",
     "output_type": "stream",
     "text": [
      "hai\n"
     ]
    }
   ],
   "source": [
    "p2  =Point(1,2)"
   ]
  },
  {
   "cell_type": "code",
   "execution_count": 21,
   "id": "1ec78541",
   "metadata": {},
   "outputs": [
    {
     "name": "stdout",
     "output_type": "stream",
     "text": [
      "False\n"
     ]
    }
   ],
   "source": [
    "print(p1 == p2)"
   ]
  },
  {
   "cell_type": "code",
   "execution_count": 9,
   "id": "1fc6334f",
   "metadata": {},
   "outputs": [
    {
     "name": "stdout",
     "output_type": "stream",
     "text": [
      "(1,2)\n"
     ]
    }
   ],
   "source": [
    "class Point :\n",
    "    default_color : \"red\"\n",
    "    def __init__(self,a,b):\n",
    "        self.a = a\n",
    "        self.b = b\n",
    "        \n",
    "#     def __str__(self):\n",
    "#         return(f\"({self.a},{self.b})\")\n",
    "    \n",
    "    def __repr__(self):\n",
    "        return(f\"({self.a},{self.b})\")\n",
    "    \n",
    "    def __eq__(self,other):\n",
    "        return self.a == other.a and self.b == other.b\n",
    "    \n",
    "        \n",
    "        \n",
    "p1 = Point(1,2)\n",
    "p1\n",
    "print(str(p1))"
   ]
  },
  {
   "cell_type": "code",
   "execution_count": 27,
   "id": "9f6098c9",
   "metadata": {},
   "outputs": [],
   "source": [
    "p2  =Point(1,2)"
   ]
  },
  {
   "cell_type": "code",
   "execution_count": 28,
   "id": "3d9221b9",
   "metadata": {},
   "outputs": [
    {
     "name": "stdout",
     "output_type": "stream",
     "text": [
      "True\n"
     ]
    }
   ],
   "source": [
    "print(p1 == p2)"
   ]
  },
  {
   "cell_type": "code",
   "execution_count": 25,
   "id": "6400116a",
   "metadata": {},
   "outputs": [
    {
     "ename": "TypeError",
     "evalue": "'>' not supported between instances of 'Point' and 'Point'",
     "output_type": "error",
     "traceback": [
      "\u001b[1;31m---------------------------------------------------------------------------\u001b[0m",
      "\u001b[1;31mTypeError\u001b[0m                                 Traceback (most recent call last)",
      "\u001b[1;32m<ipython-input-25-e60fb9054eb3>\u001b[0m in \u001b[0;36m<module>\u001b[1;34m\u001b[0m\n\u001b[1;32m----> 1\u001b[1;33m \u001b[0mprint\u001b[0m\u001b[1;33m(\u001b[0m\u001b[0mp1\u001b[0m\u001b[1;33m>\u001b[0m\u001b[0mp2\u001b[0m\u001b[1;33m)\u001b[0m\u001b[1;33m\u001b[0m\u001b[1;33m\u001b[0m\u001b[0m\n\u001b[0m",
      "\u001b[1;31mTypeError\u001b[0m: '>' not supported between instances of 'Point' and 'Point'"
     ]
    }
   ],
   "source": [
    "p1  = Point(5,8)\n",
    "p2  = Point(1,2)\n",
    "print(p1>p2)"
   ]
  },
  {
   "cell_type": "code",
   "execution_count": null,
   "id": "786bd51e",
   "metadata": {},
   "outputs": [],
   "source": [
    "p1 + p2 -------->__add__"
   ]
  },
  {
   "cell_type": "code",
   "execution_count": 29,
   "id": "215105cc",
   "metadata": {},
   "outputs": [
    {
     "ename": "TypeError",
     "evalue": "unsupported operand type(s) for +: 'Point' and 'Point'",
     "output_type": "error",
     "traceback": [
      "\u001b[1;31m---------------------------------------------------------------------------\u001b[0m",
      "\u001b[1;31mTypeError\u001b[0m                                 Traceback (most recent call last)",
      "\u001b[1;32m<ipython-input-29-a0c3d63f397c>\u001b[0m in \u001b[0;36m<module>\u001b[1;34m\u001b[0m\n\u001b[1;32m----> 1\u001b[1;33m \u001b[0mp1\u001b[0m \u001b[1;33m+\u001b[0m \u001b[0mp2\u001b[0m\u001b[1;33m\u001b[0m\u001b[1;33m\u001b[0m\u001b[0m\n\u001b[0m",
      "\u001b[1;31mTypeError\u001b[0m: unsupported operand type(s) for +: 'Point' and 'Point'"
     ]
    }
   ],
   "source": [
    "k = p1 + p2\n"
   ]
  },
  {
   "cell_type": "code",
   "execution_count": 33,
   "id": "a05d73ba",
   "metadata": {},
   "outputs": [
    {
     "data": {
      "text/plain": [
       "3"
      ]
     },
     "execution_count": 33,
     "metadata": {},
     "output_type": "execute_result"
    }
   ],
   "source": [
    "class Point:\n",
    "    default_color:\"red\"\n",
    "    def __init__(self,a,b):\n",
    "        self.a=a\n",
    "        self.b=b\n",
    "            \n",
    "    def __str__(self):\n",
    "            return(f\"({self.a},{self.b})\")\n",
    "    def __add__(self,other):\n",
    "        return Point(self.a+other.a,self.b+other.b)\n",
    "p1=Point(2,8) \n",
    "p2=Point(1,3)\n",
    "k = p1+p2\n",
    "k.a"
   ]
  },
  {
   "cell_type": "code",
   "execution_count": 41,
   "id": "b0c661a5",
   "metadata": {},
   "outputs": [],
   "source": [
    "class Time :\n",
    "    def __init__(self,hour=0,minute=0,second=0):\n",
    "        self.hour =  hour\n",
    "        self.minute = minute\n",
    "        self.second = second\n",
    "        \n",
    "    @property\n",
    "    def hour(self):\n",
    "        return self._hour\n",
    "    \n",
    "    @hour.setter\n",
    "    def hour(self,hour):\n",
    "        if not(0<=hour<=24):\n",
    "            raise ValueError(f\"hour must be between 0 - 23\")\n",
    "    \n",
    "    @property\n",
    "    def minutes(self):\n",
    "        return self._minute\n",
    "    \n",
    "    @hour.setter\n",
    "    def minutes(self,minutes):\n",
    "        if not(0<=minute<=60):\n",
    "            raise ValueError(f\"hour must be between 0 - 60\")\n",
    "    \n",
    "    @property\n",
    "    def second(self):\n",
    "        return self._second\n",
    "    \n",
    "    @hour.setter\n",
    "    def second(self,second):\n",
    "        if not(0<=second<=60):\n",
    "            raise ValueError(f\"hour must be between 0 - 23\")\n",
    "        \n",
    "    def set_time(self,hour=0,minute=0,second=0):\n",
    "        self.hour =  hour\n",
    "        self.minute = minute\n",
    "        self.second = second\n",
    "        \n",
    "            \n",
    "            \n",
    "    \n",
    "    "
   ]
  },
  {
   "cell_type": "code",
   "execution_count": 42,
   "id": "529fc11b",
   "metadata": {},
   "outputs": [],
   "source": [
    "wake_up = Time(hour = 6,minute = 30)"
   ]
  },
  {
   "cell_type": "code",
   "execution_count": 43,
   "id": "ca54ef14",
   "metadata": {},
   "outputs": [
    {
     "ename": "ValueError",
     "evalue": "hour must be between 0 - 23",
     "output_type": "error",
     "traceback": [
      "\u001b[1;31m---------------------------------------------------------------------------\u001b[0m",
      "\u001b[1;31mValueError\u001b[0m                                Traceback (most recent call last)",
      "\u001b[1;32m<ipython-input-43-37c6aa917ba8>\u001b[0m in \u001b[0;36m<module>\u001b[1;34m\u001b[0m\n\u001b[1;32m----> 1\u001b[1;33m \u001b[0mwake_up\u001b[0m \u001b[1;33m=\u001b[0m \u001b[0mTime\u001b[0m\u001b[1;33m(\u001b[0m\u001b[0mhour\u001b[0m \u001b[1;33m=\u001b[0m \u001b[1;36m100\u001b[0m\u001b[1;33m,\u001b[0m\u001b[0mminute\u001b[0m \u001b[1;33m=\u001b[0m \u001b[1;36m30\u001b[0m\u001b[1;33m)\u001b[0m\u001b[1;33m\u001b[0m\u001b[1;33m\u001b[0m\u001b[0m\n\u001b[0m",
      "\u001b[1;32m<ipython-input-41-f0b60c76a4c0>\u001b[0m in \u001b[0;36m__init__\u001b[1;34m(self, hour, minute, second)\u001b[0m\n\u001b[0;32m      1\u001b[0m \u001b[1;32mclass\u001b[0m \u001b[0mTime\u001b[0m \u001b[1;33m:\u001b[0m\u001b[1;33m\u001b[0m\u001b[1;33m\u001b[0m\u001b[0m\n\u001b[0;32m      2\u001b[0m     \u001b[1;32mdef\u001b[0m \u001b[0m__init__\u001b[0m\u001b[1;33m(\u001b[0m\u001b[0mself\u001b[0m\u001b[1;33m,\u001b[0m\u001b[0mhour\u001b[0m\u001b[1;33m=\u001b[0m\u001b[1;36m0\u001b[0m\u001b[1;33m,\u001b[0m\u001b[0mminute\u001b[0m\u001b[1;33m=\u001b[0m\u001b[1;36m0\u001b[0m\u001b[1;33m,\u001b[0m\u001b[0msecond\u001b[0m\u001b[1;33m=\u001b[0m\u001b[1;36m0\u001b[0m\u001b[1;33m)\u001b[0m\u001b[1;33m:\u001b[0m\u001b[1;33m\u001b[0m\u001b[1;33m\u001b[0m\u001b[0m\n\u001b[1;32m----> 3\u001b[1;33m         \u001b[0mself\u001b[0m\u001b[1;33m.\u001b[0m\u001b[0mhour\u001b[0m \u001b[1;33m=\u001b[0m  \u001b[0mhour\u001b[0m\u001b[1;33m\u001b[0m\u001b[1;33m\u001b[0m\u001b[0m\n\u001b[0m\u001b[0;32m      4\u001b[0m         \u001b[0mself\u001b[0m\u001b[1;33m.\u001b[0m\u001b[0mminute\u001b[0m \u001b[1;33m=\u001b[0m \u001b[0mminute\u001b[0m\u001b[1;33m\u001b[0m\u001b[1;33m\u001b[0m\u001b[0m\n\u001b[0;32m      5\u001b[0m         \u001b[0mself\u001b[0m\u001b[1;33m.\u001b[0m\u001b[0msecond\u001b[0m \u001b[1;33m=\u001b[0m \u001b[0msecond\u001b[0m\u001b[1;33m\u001b[0m\u001b[1;33m\u001b[0m\u001b[0m\n",
      "\u001b[1;32m<ipython-input-41-f0b60c76a4c0>\u001b[0m in \u001b[0;36mhour\u001b[1;34m(self, hour)\u001b[0m\n\u001b[0;32m     12\u001b[0m     \u001b[1;32mdef\u001b[0m \u001b[0mhour\u001b[0m\u001b[1;33m(\u001b[0m\u001b[0mself\u001b[0m\u001b[1;33m,\u001b[0m\u001b[0mhour\u001b[0m\u001b[1;33m)\u001b[0m\u001b[1;33m:\u001b[0m\u001b[1;33m\u001b[0m\u001b[1;33m\u001b[0m\u001b[0m\n\u001b[0;32m     13\u001b[0m         \u001b[1;32mif\u001b[0m \u001b[1;32mnot\u001b[0m\u001b[1;33m(\u001b[0m\u001b[1;36m0\u001b[0m\u001b[1;33m<=\u001b[0m\u001b[0mhour\u001b[0m\u001b[1;33m<=\u001b[0m\u001b[1;36m24\u001b[0m\u001b[1;33m)\u001b[0m\u001b[1;33m:\u001b[0m\u001b[1;33m\u001b[0m\u001b[1;33m\u001b[0m\u001b[0m\n\u001b[1;32m---> 14\u001b[1;33m             \u001b[1;32mraise\u001b[0m \u001b[0mValueError\u001b[0m\u001b[1;33m(\u001b[0m\u001b[1;34mf\"hour must be between 0 - 23\"\u001b[0m\u001b[1;33m)\u001b[0m\u001b[1;33m\u001b[0m\u001b[1;33m\u001b[0m\u001b[0m\n\u001b[0m\u001b[0;32m     15\u001b[0m \u001b[1;33m\u001b[0m\u001b[0m\n\u001b[0;32m     16\u001b[0m     \u001b[1;33m@\u001b[0m\u001b[0mproperty\u001b[0m\u001b[1;33m\u001b[0m\u001b[1;33m\u001b[0m\u001b[0m\n",
      "\u001b[1;31mValueError\u001b[0m: hour must be between 0 - 23"
     ]
    }
   ],
   "source": [
    "wake_up = Time(hour = 100,minute = 30)"
   ]
  },
  {
   "cell_type": "code",
   "execution_count": 11,
   "id": "f97618c3",
   "metadata": {},
   "outputs": [],
   "source": [
    "#card.py\n",
    "class Card:\n",
    "    \n",
    "    FACES = [\"Ace\",'2','3','4','5','6','7','8','9','10','Jack','Quenn','King']\n",
    "    SUITS = ['Hearts','Diamonds','Club','Spades']\n",
    "    \n",
    "    def __init__(self,face,suit):\n",
    "        self._face = face\n",
    "        self._suit = suit\n",
    "        \n",
    "        \n",
    "    @property\n",
    "    def face(self):\n",
    "        return self._face\n",
    "    \n",
    "    @property\n",
    "    def suit(self):\n",
    "        return self._suit\n",
    "    \n",
    "    @property\n",
    "    def image_name(self):\n",
    "        return str(self).replace(\" \",'_')+'.png'\n",
    "    \n",
    "    def  __repr__(self):\n",
    "        return f'{self.face} of {self.suits}'\n",
    "        \n",
    "    def  __str__(self):\n",
    "        return f'{self.face} of {self.suits}'\n",
    "        \n",
    "    def __format__(self,format):\n",
    "        return f'{str(self):{format}}'\n",
    "    \n",
    "    "
   ]
  },
  {
   "cell_type": "code",
   "execution_count": 13,
   "id": "2492b9a0",
   "metadata": {},
   "outputs": [
    {
     "ename": "ModuleNotFoundError",
     "evalue": "No module named 'Card'",
     "output_type": "error",
     "traceback": [
      "\u001b[1;31m---------------------------------------------------------------------------\u001b[0m",
      "\u001b[1;31mModuleNotFoundError\u001b[0m                       Traceback (most recent call last)",
      "\u001b[1;32m<ipython-input-13-051445ce34a0>\u001b[0m in \u001b[0;36m<module>\u001b[1;34m\u001b[0m\n\u001b[1;32m----> 1\u001b[1;33m \u001b[1;32mimport\u001b[0m \u001b[0mCard\u001b[0m\u001b[1;33m\u001b[0m\u001b[1;33m\u001b[0m\u001b[0m\n\u001b[0m",
      "\u001b[1;31mModuleNotFoundError\u001b[0m: No module named 'Card'"
     ]
    }
   ],
   "source": [
    "import random\n",
    "class DeckOfCards :\n",
    "    number_of_cards = 52 \n",
    "    \n",
    "    def __init__(self):\n",
    "        self._current_card = 0\n",
    "        self._deck = []\n",
    "        \n",
    "        for count in range(DeckofCards.number_of_cards):\n",
    "            self._deck.append(Card(Card.FACES[count%13],Card.SUITS[count%4]))\n",
    "            \n",
    "    def shuffle(self):\n",
    "        self._current_card = 0\n",
    "        random.shuffle(self._deck)\n",
    "    \n",
    "    def deal_card(self):\n",
    "        try:\n",
    "            card = self._deck[self._current_card]\n",
    "            self._current_card += 1\n",
    "            return card\n",
    "        except :\n",
    "            return None\n",
    "        \n",
    "    def __str__(self):\n",
    "        s = ''\n",
    "        for index,card in enumerate(self._deck):\n",
    "            s += f'{self._deck[index]<19}'\n",
    "            reuturn s\n",
    "        "
   ]
  },
  {
   "cell_type": "code",
   "execution_count": null,
   "id": "d92cb7ee",
   "metadata": {},
   "outputs": [],
   "source": []
  },
  {
   "cell_type": "code",
   "execution_count": null,
   "id": "bd3e7106",
   "metadata": {},
   "outputs": [],
   "source": []
  },
  {
   "cell_type": "code",
   "execution_count": null,
   "id": "23191163",
   "metadata": {},
   "outputs": [],
   "source": [
    "# File Handling"
   ]
  },
  {
   "cell_type": "code",
   "execution_count": 1,
   "id": "beee3da3",
   "metadata": {},
   "outputs": [],
   "source": [
    "# Python too supports file handling and allows users to handle files i.e.,\n",
    "# Python provides inbuilt functions for creating, writing and reading files.\n",
    "# There are two types of files that can be handled in Python, normal text files and binary files\n",
    "# (written in binary language, 0s and 1s).\n",
    "\n",
    "# Text files: In this type of file, Each line of text is terminated with a special character called EOL (End of Line),\n",
    "#     which is the new line character (‘\\n’) in Python by default.\n",
    "# Binary files: In this type of file, there is no terminator for a line \n",
    "#     the data is stored after converting it into machine-understandable binary language"
   ]
  },
  {
   "cell_type": "code",
   "execution_count": null,
   "id": "609f1eb7",
   "metadata": {},
   "outputs": [],
   "source": [
    "# Opening a file\n",
    "# Opening a file refers to getting the file ready either for reading or for writing. \n",
    "# This can be done using the open() function. This function returns a file object and takes two arguments,\n",
    "# one that accepts the file name and another that accepts the mode(Access Mode).\n",
    "\n",
    "# Access modes govern the type of operations possible in the opened file.\n",
    "# It refers to how the file will be used once it’s opened. \n",
    "# These modes also define the location of the File Handle in the file. File handle is like a cursor,\n",
    "# which defines from where the data has to be read or written in the file. There are 6 access modes in python.\n",
    "\n",
    "# Read Only (‘r’): Open text file for reading. The handle is positioned at the beginning of the file. \n",
    "#     If the file does not exist, raises I/O error. This is also the default mode in which the file is opened.\n",
    "# Read and Write (‘r+’): Open the file for reading and writing. The handle is positioned at the beginning of the file. \n",
    "#     Raises I/O error if the file does not exist.\n",
    "# Write Only (‘w’): Open the file for writing. For existing file, the data is truncated and over-written. \n",
    "#     The handle is positioned at the beginning of the file. Creates the file if the file does not exist.\n",
    "# Write and Read (‘w+’): Open the file for reading and writing. For existing file, data is truncated and over-written. \n",
    "#     The handle is positioned at the beginning of the file.\n",
    "# Append Only (‘a’): Open the file for writing. The file is created if it does not exist.\n",
    "#     The handle is positioned at the end of the file. The data being written will be inserted at the end, after the existing data.\n",
    "# Append and Read (‘a+’): Open the file for reading and writing. The file is created if it does not exist.\n",
    "#     The handle is positioned at the end of the file. The data being written will be inserted at the end, after the existing data.\n",
    "\n",
    "# Syntax:\n",
    "\n",
    "# File_object = open(r\"File_Name\", \"Access_Mode\")\n",
    "# The r is placed before filename to prevent the characters in filename string to be treated as special character.\n",
    "# For example, if there is \\temp in the file address, then \\t is treated as the tab character and\n",
    "# error is raised of invalid address. The r makes the string raw, that is, it tells that the string is without any \n",
    "# special characters. \n",
    "# The r can be ignored if the file is in same directory and address is not being placed.\n",
    "\n",
    "# Note: The file should exist in the same directory as the Python script,\n",
    "#     otherwise full address of the file should be written."
   ]
  },
  {
   "cell_type": "code",
   "execution_count": 3,
   "id": "c4d5c61a",
   "metadata": {},
   "outputs": [
    {
     "ename": "FileNotFoundError",
     "evalue": "[Errno 2] No such file or directory: 'geek.txt'",
     "output_type": "error",
     "traceback": [
      "\u001b[1;31m---------------------------------------------------------------------------\u001b[0m",
      "\u001b[1;31mFileNotFoundError\u001b[0m                         Traceback (most recent call last)",
      "\u001b[1;32m<ipython-input-3-a6e295263b75>\u001b[0m in \u001b[0;36m<module>\u001b[1;34m\u001b[0m\n\u001b[1;32m----> 1\u001b[1;33m \u001b[0mfile\u001b[0m \u001b[1;33m=\u001b[0m \u001b[0mopen\u001b[0m\u001b[1;33m(\u001b[0m\u001b[1;34m'geek.txt'\u001b[0m\u001b[1;33m,\u001b[0m \u001b[1;34m'r'\u001b[0m\u001b[1;33m)\u001b[0m\u001b[1;33m\u001b[0m\u001b[1;33m\u001b[0m\u001b[0m\n\u001b[0m\u001b[0;32m      2\u001b[0m \u001b[1;31m# This will print every line one by one in the file\u001b[0m\u001b[1;33m\u001b[0m\u001b[1;33m\u001b[0m\u001b[1;33m\u001b[0m\u001b[0m\n\u001b[0;32m      3\u001b[0m \u001b[1;32mfor\u001b[0m \u001b[0meach\u001b[0m \u001b[1;32min\u001b[0m \u001b[0mfile\u001b[0m\u001b[1;33m:\u001b[0m\u001b[1;33m\u001b[0m\u001b[1;33m\u001b[0m\u001b[0m\n\u001b[0;32m      4\u001b[0m     \u001b[0mprint\u001b[0m \u001b[1;33m(\u001b[0m\u001b[0meach\u001b[0m\u001b[1;33m)\u001b[0m\u001b[1;33m\u001b[0m\u001b[1;33m\u001b[0m\u001b[0m\n",
      "\u001b[1;31mFileNotFoundError\u001b[0m: [Errno 2] No such file or directory: 'geek.txt'"
     ]
    }
   ],
   "source": [
    "file = open('new.txt', 'r')\n",
    "# This will print every line one by one in the file\n",
    "for each in file:\n",
    "    print (each)"
   ]
  },
  {
   "cell_type": "code",
   "execution_count": null,
   "id": "8182377c",
   "metadata": {},
   "outputs": [],
   "source": [
    "file2 = open(r\"D:\\Text\\MyFile2.txt\",\"w+\")"
   ]
  },
  {
   "cell_type": "code",
   "execution_count": null,
   "id": "b69d4d7f",
   "metadata": {},
   "outputs": [],
   "source": []
  },
  {
   "cell_type": "code",
   "execution_count": null,
   "id": "b0af8d1e",
   "metadata": {},
   "outputs": [],
   "source": [
    "# Working of read() mode\n",
    "\n",
    "# There is more than one way to read a file in Python. \n",
    "# you need to extract a string that contains all characters in the file then we can use file.read().\n",
    "\n",
    "\n",
    "# There are three ways to read data from a text file.\n",
    "\n",
    "# read() : Returns the read bytes in form of a string. Reads n bytes, if no n specified, reads the entire file.\n",
    "#             File_object.read([n])\n",
    "\n",
    "# readline() : Reads a line of the file and returns in form of a string.For specified n, reads at most n bytes.\n",
    "                # However, does not reads more than one line, even if n exceeds the length of the line.\n",
    "#             File_object.readline([n])\n",
    "\n",
    "# readlines() : Reads all the lines and return them as each line a string element in a list.\n",
    "#             File_object.readlines()\n",
    "    \n",
    "# Note: ‘\\n’ is treated as a special character of two bytes"
   ]
  },
  {
   "cell_type": "code",
   "execution_count": null,
   "id": "ad4cf111",
   "metadata": {},
   "outputs": [],
   "source": [
    "file = open(\"file.txt\", \"r\")\n",
    "print (file.read())"
   ]
  },
  {
   "cell_type": "code",
   "execution_count": null,
   "id": "2c478d2a",
   "metadata": {},
   "outputs": [],
   "source": [
    "# or"
   ]
  },
  {
   "cell_type": "code",
   "execution_count": null,
   "id": "53f5d3c5",
   "metadata": {},
   "outputs": [],
   "source": [
    "file = open(\"file.txt\", \"r\")\n",
    "print (file.read(5))"
   ]
  },
  {
   "cell_type": "code",
   "execution_count": null,
   "id": "1a3bda54",
   "metadata": {},
   "outputs": [],
   "source": [
    "# Creating a file using write() mode\n",
    "There are two ways to write in a file.\n",
    "\n",
    "write() : Inserts the string str1 in a single line in the text file.\n",
    "File_object.write(str1\n",
    "                  \n",
    "writelines() : For a list of string elements, each string is inserted in the text file.\n",
    "                  Used to insert multiple strings at a single time\n",
    "                  \n",
    "File_object.writelines(L) for L = [str1, str2, str3] "
   ]
  },
  {
   "cell_type": "code",
   "execution_count": null,
   "id": "076a3ccf",
   "metadata": {},
   "outputs": [],
   "source": [
    "file = open('new1.txt','w')\n",
    "file.write(\"This is the write command\")\n",
    "file.write(\"It allows us to write in a particular file\")\n",
    "file.close()"
   ]
  },
  {
   "cell_type": "code",
   "execution_count": null,
   "id": "8de74593",
   "metadata": {},
   "outputs": [],
   "source": [
    "file1 = open(\"myfile.txt\",\"w\")\n",
    "L = [\"This is Delhi \\n\",\"This is Paris \\n\",\"This is London \\n\"] \n",
    "  \n",
    "# \\n is placed to indicate EOL (End of Line)\n",
    "file1.write(\"Hello \\n\")\n",
    "file1.writelines(L)\n",
    "file1.close() #to change file access modes\n",
    "  \n",
    "file1 = open(\"myfile.txt\",\"r+\") \n",
    "  \n",
    "print(\"Output of Read function is \")\n",
    "print(file1.read())\n",
    "print()\n",
    "  \n",
    "# seek(n) takes the file handle to the nth\n",
    "# bite from the beginning.\n",
    "file1.seek(0) \n",
    "  \n",
    "print( \"Output of Readline function is \")\n",
    "print(file1.readline()) \n",
    "print()\n",
    "  \n",
    "file1.seek(0)\n",
    "  \n",
    "# To show difference between read and readline\n",
    "print(\"Output of Read(9) function is \") \n",
    "print(file1.read(9))\n",
    "print()\n",
    "  \n",
    "file1.seek(0)\n",
    "  \n",
    "print(\"Output of Readline(9) function is \") \n",
    "print(file1.readline(9))\n",
    "  \n",
    "file1.seek(0)\n",
    "# readlines function\n",
    "print(\"Output of Readlines function is \") \n",
    "print(file1.readlines()) \n",
    "print()\n",
    "file1.close()"
   ]
  },
  {
   "cell_type": "code",
   "execution_count": null,
   "id": "98fda5b8",
   "metadata": {},
   "outputs": [],
   "source": [
    "# Working of append() mode"
   ]
  },
  {
   "cell_type": "code",
   "execution_count": null,
   "id": "1872dd8b",
   "metadata": {},
   "outputs": [],
   "source": [
    "file = open('geek.txt','a')\n",
    "file.write(\"This will add this line\")\n",
    "file.close()"
   ]
  },
  {
   "cell_type": "code",
   "execution_count": null,
   "id": "51a3e53b",
   "metadata": {},
   "outputs": [],
   "source": [
    "file1 = open(\"myfile.txt\",\"w\")\n",
    "L = [\"This is Delhi \\n\",\"This is Paris \\n\",\"This is London \\n\"] \n",
    "file1.writelines(L)\n",
    "file1.close()\n",
    "  \n",
    "# Append-adds at last\n",
    "file1 = open(\"myfile.txt\",\"a\")#append mode\n",
    "file1.write(\"Today \\n\")\n",
    "file1.close()\n",
    "  \n",
    "file1 = open(\"myfile.txt\",\"r\")\n",
    "print(\"Output of Readlines after appending\") \n",
    "print(file1.readlines())\n",
    "print()\n",
    "file1.close()\n",
    "  \n",
    "# Write-Overwrites\n",
    "file1 = open(\"myfile.txt\",\"w\")#write mode\n",
    "file1.write(\"Tomorrow \\n\")\n",
    "file1.close()\n",
    "  \n",
    "file1 = open(\"myfile.txt\",\"r\")\n",
    "print(\"Output of Readlines after writing\") \n",
    "print(file1.readlines())\n",
    "print()\n",
    "file1.close()"
   ]
  },
  {
   "cell_type": "code",
   "execution_count": null,
   "id": "6047968f",
   "metadata": {},
   "outputs": [],
   "source": [
    "With statement\n",
    "with statement in Python is used in exception handling to make the code cleaner and much more readable. \n",
    "It simplifies the management of common resources like file streams. Unlike the above implementations,\n",
    "there is no need to call file.close() when using with statement.\n",
    "The with statement itself ensures proper acquisition and release of resources.\n",
    "\n",
    "with open(\"file.txt\", \"w\") as f:\n",
    "    f.write(\"Hello World!!!\")\n",
    "    "
   ]
  },
  {
   "cell_type": "code",
   "execution_count": null,
   "id": "eca27bec",
   "metadata": {},
   "outputs": [],
   "source": [
    "L = [\"This is Delhi \\n\", \"This is Paris \\n\", \"This is London \\n\"]\n",
    "  \n",
    "# Writing to file\n",
    "with open(\"myfile.txt\", \"w\") as file1:\n",
    "    # Writing data to a file\n",
    "    file1.write(\"Hello \\n\")\n",
    "    file1.writelines(L)\n",
    "  \n",
    "# Reading from file\n",
    "with open(\"myfile.txt\", \"r+\") as file1:\n",
    "    # Reading form a file\n",
    "    print(file1.read())"
   ]
  },
  {
   "cell_type": "code",
   "execution_count": null,
   "id": "97ed3b09",
   "metadata": {},
   "outputs": [],
   "source": [
    "# split() using file handling\n",
    "# We can also split lines using file handling in Python. \n",
    "# This splits the variable when space is encountered. \n",
    "# You can also split using any characters as we wish."
   ]
  },
  {
   "cell_type": "code",
   "execution_count": null,
   "id": "f45ce15b",
   "metadata": {},
   "outputs": [],
   "source": [
    "with open(\"file.text\", \"r\") as file:\n",
    "    data = file.readlines()\n",
    "    for line in data:\n",
    "        word = line.split()\n",
    "        print (word)"
   ]
  },
  {
   "cell_type": "code",
   "execution_count": null,
   "id": "f1addf07",
   "metadata": {},
   "outputs": [],
   "source": [
    "# seek() method\n",
    "# In Python, seek() function is used to change the position of the File Handle to a given specific position. \n",
    "# File handle is like a cursor, which defines from where the data has to be read or written in the file. "
   ]
  },
  {
   "cell_type": "code",
   "execution_count": null,
   "id": "25ad76d7",
   "metadata": {},
   "outputs": [],
   "source": [
    "# tell() method can be used to get the position of File Handle. \n",
    "# () method returns current position of file object. \n",
    "# This method takes no parameters and returns an integer value. \n",
    "# Initially file pointer points to the beginning of the file(if not opened in append mode). \n",
    "# So, the initial value of tell() is zero"
   ]
  },
  {
   "cell_type": "code",
   "execution_count": null,
   "id": "c84309c8",
   "metadata": {},
   "outputs": [],
   "source": [
    "f = open(\"GfG.txt\", \"r\")\n",
    " \n",
    "# Second parameter is by default 0\n",
    "# sets Reference point to twentieth\n",
    "# index position from the beginning\n",
    "f.seek(20)\n",
    " \n",
    "# prints current position\n",
    "print(f.tell())\n",
    " \n",
    "print(f.readline())\n",
    "f.close()"
   ]
  },
  {
   "cell_type": "code",
   "execution_count": 7,
   "id": "9928fcfa",
   "metadata": {},
   "outputs": [
    {
     "name": "stdout",
     "output_type": "stream",
     "text": [
      "([8, 5], 3)\n"
     ]
    }
   ],
   "source": [
    "\n",
    "a = ([4,5],3)\n",
    "# x = a.index(5)\n",
    "# print(x)\n",
    "\n",
    "a[0][0] = 8\n",
    "print(a)"
   ]
  },
  {
   "cell_type": "code",
   "execution_count": null,
   "id": "64fb22e3",
   "metadata": {},
   "outputs": [],
   "source": []
  },
  {
   "cell_type": "code",
   "execution_count": null,
   "id": "15af9182",
   "metadata": {},
   "outputs": [],
   "source": [
    "Python Modules"
   ]
  },
  {
   "cell_type": "code",
   "execution_count": null,
   "id": "a920b5a9",
   "metadata": {},
   "outputs": [],
   "source": [
    "A Python module is a file containing Python definitions and statements. \n",
    "A module can define functions, classes, and variables.\n",
    "A module can also include runnable code.\n",
    "Grouping related code into a module makes the code easier to understand and use. \n",
    "It also makes the code logically organized."
   ]
  },
  {
   "cell_type": "code",
   "execution_count": null,
   "id": "289f74ed",
   "metadata": {},
   "outputs": [],
   "source": [
    "\n",
    "# A simple module, calc.py\n",
    " \n",
    "def add(x, y):\n",
    "    return (x+y)\n",
    " \n",
    "def subtract(x, y):\n",
    "    return (x-y)"
   ]
  },
  {
   "cell_type": "code",
   "execution_count": null,
   "id": "1c32b3d7",
   "metadata": {},
   "outputs": [],
   "source": [
    "Import Module in Python –  Import statement\n",
    "We can import the functions, classes defined in a module to another module \n",
    "using the import statement in some other Python source file. \n",
    "\n",
    "Syntax:\n",
    "\n",
    "import module"
   ]
  },
  {
   "cell_type": "code",
   "execution_count": null,
   "id": "b1f6980a",
   "metadata": {},
   "outputs": [],
   "source": [
    "using the import statement in some other Python source file. \n",
    "import calc\n",
    " \n",
    "print(calc.add(10, 2))\n"
   ]
  },
  {
   "cell_type": "code",
   "execution_count": null,
   "id": "a57142e1",
   "metadata": {},
   "outputs": [],
   "source": []
  },
  {
   "cell_type": "code",
   "execution_count": null,
   "id": "50a8100d",
   "metadata": {},
   "outputs": [],
   "source": [
    "The from import Statement \n",
    "Python’s from statement lets you import specific attributes from a module without importing the module as a whole.\n",
    "\n",
    "Example: Importing specific attributes from the module"
   ]
  },
  {
   "cell_type": "code",
   "execution_count": null,
   "id": "02385ace",
   "metadata": {},
   "outputs": [],
   "source": [
    "\n",
    "# importing sqrt() and factorial from the\n",
    "# module math\n",
    "from math import sqrt, factorial\n",
    " \n",
    "# if we simply do \"import math\", then\n",
    "# math.sqrt(16) and math.factorial()\n",
    "# are required.\n",
    "print(sqrt(16))\n",
    "print(factorial(6))"
   ]
  },
  {
   "cell_type": "code",
   "execution_count": null,
   "id": "c0c7416b",
   "metadata": {},
   "outputs": [],
   "source": []
  },
  {
   "cell_type": "code",
   "execution_count": null,
   "id": "25e0c785",
   "metadata": {},
   "outputs": [],
   "source": [
    "Import all Names – From import *  Statement\n",
    "The * symbol used with the from import statement is used to import all\n",
    "the names \n",
    "from a module to a current namespace.\n",
    "\n",
    "Syntax:\n",
    "\n",
    "from module_name import *\n",
    "The use of * has its advantages and disadvantages. \n",
    "If you know exactly what you will be needing from the module,\n",
    "it is not recommended to use *, else do so."
   ]
  },
  {
   "cell_type": "code",
   "execution_count": null,
   "id": "674fba9e",
   "metadata": {},
   "outputs": [],
   "source": [
    "# importing sqrt() and factorial from the\n",
    "# module math\n",
    "from math import *\n",
    " \n",
    "# if we simply do \"import math\", then\n",
    "# math.sqrt(16) and math.factorial()\n",
    "# are required.\n",
    "print(sqrt(16))\n",
    "print(factorial(6))"
   ]
  },
  {
   "cell_type": "code",
   "execution_count": null,
   "id": "6a23c2c4",
   "metadata": {},
   "outputs": [],
   "source": []
  },
  {
   "cell_type": "code",
   "execution_count": null,
   "id": "e47a9c66",
   "metadata": {},
   "outputs": [],
   "source": [
    "Importing and renaming module\n",
    "We can rename the module while importing it using the as keyword. \n",
    "\n"
   ]
  },
  {
   "cell_type": "code",
   "execution_count": null,
   "id": "b485fb67",
   "metadata": {},
   "outputs": [],
   "source": [
    "# importing sqrt() and factorial from the\n",
    "# module math\n",
    "import math as gfg\n",
    " \n",
    "# if we simply do \"import math\", then\n",
    "# math.sqrt(16) and math.factorial()\n",
    "# are required.\n",
    "print(gfg.sqrt(16))\n",
    "print(gfg.factorial(6))"
   ]
  },
  {
   "cell_type": "code",
   "execution_count": null,
   "id": "002ce970",
   "metadata": {},
   "outputs": [],
   "source": []
  },
  {
   "cell_type": "code",
   "execution_count": null,
   "id": "e51cc08a",
   "metadata": {},
   "outputs": [],
   "source": [
    "The dir() function\n",
    "The dir() built-in function returns a sorted list of strings containing\n",
    "the names defined by a module. The list contains the names of all the modules,\n",
    "variables, and functions that are defined in a module."
   ]
  },
  {
   "cell_type": "code",
   "execution_count": null,
   "id": "d78bd7ad",
   "metadata": {},
   "outputs": [],
   "source": [
    "import  random\n",
    "print(dir(random))"
   ]
  },
  {
   "cell_type": "code",
   "execution_count": null,
   "id": "74eca95d",
   "metadata": {},
   "outputs": [],
   "source": [
    "# importing built-in module math\n",
    "import math\n",
    " \n",
    "# using square root(sqrt) function contained\n",
    "# in math module\n",
    "print(math.sqrt(25))\n",
    " \n",
    "# using pi function contained in math module\n",
    "print(math.pi)\n",
    " \n",
    "# 2 radians = 114.59 degrees\n",
    "print(math.degrees(2)) \n",
    " \n",
    "# 60 degrees = 1.04 radians\n",
    "print(math.radians(60)) \n",
    " \n",
    "# Sine of 2 radians\n",
    "print(math.sin(2)) \n",
    " \n",
    "# Cosine of 0.5 radians\n",
    "print(math.cos(0.5)) \n",
    " \n",
    "# Tangent of 0.23 radians\n",
    "print(math.tan(0.23))\n",
    " \n",
    "# 1 * 2 * 3 * 4 = 24\n",
    "print(math.factorial(4)) \n",
    " \n",
    "# importing built in module random\n",
    "import random\n",
    " \n",
    "# printing random integer between 0 and 5\n",
    "print(random.randint(0, 5)) \n",
    " \n",
    "# print random floating point number between 0 and 1\n",
    "print(random.random()) \n",
    " \n",
    "# random number between 0 and 100\n",
    "print(random.random() * 100) \n",
    " \n",
    "List = [1, 4, True, 800, \"python\", 27, \"hello\"]\n",
    " \n",
    "# using choice function in random module for choosing\n",
    "# a random element from a set such as a list\n",
    "print(random.choice(List))\n",
    " \n",
    " \n",
    "# importing built in module datetime\n",
    "import datetime\n",
    "from datetime import date\n",
    "import time\n",
    " \n",
    "# Returns the number of seconds since the\n",
    "# Unix Epoch, January 1st 1970\n",
    "print(time.time()) \n",
    " \n",
    "# Converts a number of seconds to a date object\n",
    "print(date.fromtimestamp(454554)) "
   ]
  },
  {
   "cell_type": "code",
   "execution_count": null,
   "id": "c2e7e3eb",
   "metadata": {},
   "outputs": [],
   "source": []
  },
  {
   "cell_type": "code",
   "execution_count": null,
   "id": "b3fe8f01",
   "metadata": {},
   "outputs": [],
   "source": [
    "Create and Access a Python Package"
   ]
  },
  {
   "cell_type": "code",
   "execution_count": null,
   "id": "0213dba1",
   "metadata": {},
   "outputs": [],
   "source": [
    "Packages are a way of structuring many packages and modules which helps in a \n",
    "well-organized hierarchy of data set, making the directories and modules easy to access"
   ]
  },
  {
   "cell_type": "code",
   "execution_count": null,
   "id": "60eaf133",
   "metadata": {},
   "outputs": [],
   "source": [
    "Creating and Exploring Packages\n",
    "\n",
    "To tell Python that a particular directory is a package, we create a \n",
    "file named __init__.py inside it and \n",
    "then it is considered as a package and we may create other modules \n",
    "and sub-packages within it. This __init__.py file can be left blank or\n",
    " can be coded with the initialization code for the package.\n",
    "\n",
    "To create a package in Python, we need to follow these three simple steps:\n",
    "\n",
    "First, we create a directory and give it a package name, \n",
    "preferably related to its operation.\n",
    "\n",
    "Then we put the classes and the required functions in it.\n",
    "\n",
    "Finally we create an __init__.py file inside the directory, to let Python know that the directory is a package."
   ]
  },
  {
   "cell_type": "code",
   "execution_count": null,
   "id": "d6552863",
   "metadata": {},
   "outputs": [],
   "source": []
  },
  {
   "cell_type": "code",
   "execution_count": null,
   "id": "87d6fbba",
   "metadata": {},
   "outputs": [],
   "source": [
    "create a directory and name it Cars."
   ]
  },
  {
   "cell_type": "code",
   "execution_count": null,
   "id": "1f4394d6",
   "metadata": {},
   "outputs": [],
   "source": [
    "# Bmw.py \n",
    "\n",
    "# Python code to illustrate the Modules\n",
    "class Bmw:\n",
    "    # First we create a constructor for this class\n",
    "    # and add members to it, here models\n",
    "    def __init__(self):\n",
    "        self.models = ['i8', 'x1', 'x5', 'x6']\n",
    "   \n",
    "    # A normal print function\n",
    "    def outModels(self):\n",
    "        print('These are the available models for BMW')\n",
    "        for model in self.models:\n",
    "            print('\\t%s ' % model)"
   ]
  },
  {
   "cell_type": "code",
   "execution_count": null,
   "id": "6132e647",
   "metadata": {},
   "outputs": [],
   "source": [
    "#  Audi.py\n",
    "# Python code to illustrate the Module\n",
    "class Audi:\n",
    "    # First we create a constructor for this class\n",
    "    # and add members to it, here models\n",
    "    def __init__(self):\n",
    "        self.models = ['q7', 'a6', 'a8', 'a3']\n",
    "  \n",
    "    # A normal print function\n",
    "    def outModels(self):\n",
    "        print('These are the available models for Audi')\n",
    "        for model in self.models:\n",
    "            print('\\t%s ' % model)"
   ]
  },
  {
   "cell_type": "code",
   "execution_count": null,
   "id": "3ebba3af",
   "metadata": {},
   "outputs": [],
   "source": [
    "class Nissan:\n",
    "    # First we create a constructor for this class\n",
    "    # and add members to it, here models\n",
    "    def __init__(self):\n",
    "        self.models = ['altima', '370z', 'cube', 'rogue']\n",
    "  \n",
    "    # A normal print function\n",
    "    def outModels(self):\n",
    "        print('These are the available models for Nissan')\n",
    "        for model in self.models:\n",
    "            print('\\t%s ' % model)"
   ]
  },
  {
   "cell_type": "code",
   "execution_count": null,
   "id": "a2a0f9ef",
   "metadata": {},
   "outputs": [],
   "source": [
    "# create the __init__.py file. \n",
    "\n",
    "from Bmw import Bmw\n",
    "from Audi import Audi\n",
    "from Nissan import Nissan\n"
   ]
  },
  {
   "cell_type": "code",
   "execution_count": null,
   "id": "91ff7248",
   "metadata": {},
   "outputs": [],
   "source": []
  },
  {
   "cell_type": "code",
   "execution_count": null,
   "id": "413bdad5",
   "metadata": {},
   "outputs": [],
   "source": [
    "\n",
    "# Import classes from your brand new package\n",
    "from Cars import Bmw\n",
    "from Cars import Audi\n",
    "from Cars import Nissan\n",
    "   \n",
    "# Create an object of Bmw class & call its method\n",
    "ModBMW = Bmw()\n",
    "ModBMW.outModels()\n",
    "   \n",
    "# Create an object of Audi class & call its method\n",
    "ModAudi = Audi()\n",
    "ModAudi.outModels()\n",
    "  \n",
    "# Create an object of Nissan class & call its method\n",
    "ModNissan = Nissan()\n",
    "ModNissan.outModels()"
   ]
  },
  {
   "cell_type": "code",
   "execution_count": null,
   "id": "7cd9ac07",
   "metadata": {},
   "outputs": [],
   "source": [
    "Regular Expression :"
   ]
  },
  {
   "cell_type": "code",
   "execution_count": 1,
   "id": "10462972",
   "metadata": {},
   "outputs": [],
   "source": [
    "text = \"The person's phone number is 408-555-1234. Call soon!\""
   ]
  },
  {
   "cell_type": "code",
   "execution_count": 4,
   "id": "9ad60939",
   "metadata": {},
   "outputs": [
    {
     "data": {
      "text/plain": [
       "False"
      ]
     },
     "execution_count": 4,
     "metadata": {},
     "output_type": "execute_result"
    }
   ],
   "source": [
    "\"408-555-1235\" in text"
   ]
  },
  {
   "cell_type": "code",
   "execution_count": 6,
   "id": "d41d6319",
   "metadata": {},
   "outputs": [],
   "source": [
    "import re"
   ]
  },
  {
   "cell_type": "code",
   "execution_count": null,
   "id": "9340a635",
   "metadata": {},
   "outputs": [],
   "source": []
  },
  {
   "cell_type": "code",
   "execution_count": 7,
   "id": "b8dcbe3d",
   "metadata": {},
   "outputs": [
    {
     "data": {
      "text/plain": [
       "<re.Match object; span=(13, 18), match='phone'>"
      ]
     },
     "execution_count": 7,
     "metadata": {},
     "output_type": "execute_result"
    }
   ],
   "source": [
    "pattern = 'phone'\n",
    "re.search(pattern,text)"
   ]
  },
  {
   "cell_type": "code",
   "execution_count": 8,
   "id": "250ff5f9",
   "metadata": {},
   "outputs": [],
   "source": [
    "pattern = \"NOT IN TEXT\"\n",
    "re.search(pattern,text)"
   ]
  },
  {
   "cell_type": "code",
   "execution_count": 9,
   "id": "e0237bc0",
   "metadata": {},
   "outputs": [],
   "source": [
    "pattern = 'phone'\n",
    "match = re.search(pattern,text)"
   ]
  },
  {
   "cell_type": "code",
   "execution_count": 11,
   "id": "ce935364",
   "metadata": {},
   "outputs": [
    {
     "data": {
      "text/plain": [
       "<re.Match object; span=(13, 18), match='phone'>"
      ]
     },
     "execution_count": 11,
     "metadata": {},
     "output_type": "execute_result"
    }
   ],
   "source": [
    "match"
   ]
  },
  {
   "cell_type": "code",
   "execution_count": 14,
   "id": "6154c307",
   "metadata": {},
   "outputs": [
    {
     "name": "stdout",
     "output_type": "stream",
     "text": [
      "13\n",
      "18\n"
     ]
    }
   ],
   "source": [
    "match.span()\n",
    "print(match.start())\n",
    "print(match.end())"
   ]
  },
  {
   "cell_type": "code",
   "execution_count": 16,
   "id": "34f7dc0d",
   "metadata": {},
   "outputs": [
    {
     "data": {
      "text/plain": [
       "<re.Match object; span=(15, 20), match='phone'>"
      ]
     },
     "execution_count": 16,
     "metadata": {},
     "output_type": "execute_result"
    }
   ],
   "source": [
    "# text = \"my phone is a new phone\"\n",
    "# match = re.search(\"phone\",text)\n",
    "\n",
    "text1 = \"this is not my phone my phone is a new phone\"\n",
    "match = re.search(\"phone\",text1)\n",
    "match"
   ]
  },
  {
   "cell_type": "code",
   "execution_count": 18,
   "id": "0dd71efc",
   "metadata": {},
   "outputs": [
    {
     "data": {
      "text/plain": [
       "3"
      ]
     },
     "execution_count": 18,
     "metadata": {},
     "output_type": "execute_result"
    }
   ],
   "source": [
    "text1 = \"this is not my phone my phone is a new phone\"\n",
    "match = re.findall(\"phone\",text1)\n",
    "len(match)"
   ]
  },
  {
   "cell_type": "code",
   "execution_count": 24,
   "id": "d80771ec",
   "metadata": {},
   "outputs": [
    {
     "name": "stdout",
     "output_type": "stream",
     "text": [
      "(15, 20)\n",
      "phone\n",
      "(24, 29)\n",
      "phone\n",
      "(39, 44)\n",
      "phone\n"
     ]
    }
   ],
   "source": [
    "text1 = \"this is not my phone my phone is a new phone\"\n",
    "for match in re.finditer(\"phone\",text1):\n",
    "     print(match.span())\n",
    "     print(match.group())\n"
   ]
  },
  {
   "cell_type": "code",
   "execution_count": null,
   "id": "bb0af053",
   "metadata": {},
   "outputs": [],
   "source": [
    "import re\n",
    " \n",
    "s = 'Narnia: A magical  portal to another world'\n",
    " \n",
    "match = re.search(r'portal', s)\n",
    " \n",
    "print('Start Index:', match.start())\n",
    "print('End Index:', match.end())"
   ]
  },
  {
   "cell_type": "code",
   "execution_count": 34,
   "id": "eb8ba48e",
   "metadata": {},
   "outputs": [
    {
     "data": {
      "text/plain": [
       "'408-555-7458'"
      ]
     },
     "execution_count": 34,
     "metadata": {},
     "output_type": "execute_result"
    }
   ],
   "source": [
    "text = \"My telephone number is 408-555-7458-78    \"\n",
    "phone = re.search(r'\\d\\d\\d-\\d\\d\\d-\\d\\d\\d\\d',text)\n",
    "phone.group()"
   ]
  },
  {
   "cell_type": "code",
   "execution_count": 35,
   "id": "deec750b",
   "metadata": {},
   "outputs": [
    {
     "data": {
      "text/plain": [
       "<re.Match object; span=(23, 35), match='408-555-7458'>"
      ]
     },
     "execution_count": 35,
     "metadata": {},
     "output_type": "execute_result"
    }
   ],
   "source": [
    "re.search(r'\\d{3}-\\d{3}-\\d{4}',text)"
   ]
  },
  {
   "cell_type": "code",
   "execution_count": null,
   "id": "01f84111",
   "metadata": {},
   "outputs": [],
   "source": [
    "A Regular Expressions (RegEx) is a special sequence of characters that uses a search pattern to find a string or set of strings.\n",
    "It can detect the presence or absence of a text by matching with a particular pattern, and also \n",
    "can split a pattern into one or more sub-patterns. Python provides a re module that supports the use of regex in Python. \n",
    "Its primary function is to offer a search, where it takes a regular expression and a string"
   ]
  },
  {
   "cell_type": "code",
   "execution_count": null,
   "id": "c59e9065",
   "metadata": {},
   "outputs": [],
   "source": [
    "MetaCharacters:\n",
    "    MetaCharacters\tDescription\n",
    "\\\tUsed to drop the special meaning of character following it\n",
    "[]\tRepresent a character class\n",
    "^\tMatches the beginning\n",
    "$\tMatches the end\n",
    ".\tMatches any character except newline\n",
    "|\tMeans OR (Matches with any of the characters separated by it.\n",
    "?\tMatches zero or one occurrence\n",
    "*\tAny number of occurrences (including 0 occurrences)\n",
    "+\tOne or more occurrences\n",
    "{}\tIndicate the number of occurrences of a preceding regex to match.\n",
    "()\tEnclose a group of Regex"
   ]
  },
  {
   "cell_type": "code",
   "execution_count": null,
   "id": "41e1965a",
   "metadata": {},
   "outputs": [],
   "source": [
    "\\ – Backslash\n",
    "The backslash (\\) makes sure that the character is not treated in a special way. \n",
    "This can be considered a way of escaping metacharacters. if you want to search for the dot(.)\n",
    "in the string then you will find that dot(.) will be treated as a special character as is one of the metacharacters.  \n",
    "So for this case, we will use the backslash(\\) just before the dot(.) "
   ]
  },
  {
   "cell_type": "code",
   "execution_count": 40,
   "id": "6a4dc13c",
   "metadata": {},
   "outputs": [
    {
     "name": "stdout",
     "output_type": "stream",
     "text": [
      "<re.Match object; span=(15, 16), match='?'>\n"
     ]
    }
   ],
   "source": [
    "import re\n",
    " \n",
    "s = 'new.castlekings?'\n",
    " \n",
    "# without using \\\n",
    "# match = re.search(r'?', s)\n",
    "# print(match)\n",
    " \n",
    "# using \\\n",
    "match = re.search(r'\\?', s)\n",
    "print(match)"
   ]
  },
  {
   "cell_type": "code",
   "execution_count": null,
   "id": "ba9bcb98",
   "metadata": {},
   "outputs": [],
   "source": [
    "[] – Square Brackets\n",
    "Square Brackets ([]) represents a character class consisting of a set of characters \n",
    "that we wish to match. For example, the character class [abc] will match any single a, b, or c. \n",
    "\n",
    "We cal also specify a range of characters using – inside the square brackets. For example, \n",
    "\n",
    "[0, 3] is sample as [0123]\n",
    "[a-c] is same as [abc]\n",
    "We can also invert the character class using the caret(^) symbol. For example, \n",
    "\n",
    "[^0-3] means any number except 0, 1, 2, or 3\n",
    "[^a-c] means any character except a, b, or c"
   ]
  },
  {
   "cell_type": "code",
   "execution_count": 55,
   "id": "cb09588f",
   "metadata": {},
   "outputs": [
    {
     "name": "stdout",
     "output_type": "stream",
     "text": [
      "['4', '1', '2', '3']\n"
     ]
    }
   ],
   "source": [
    "# s = 'new.castlekings?'\n",
    "\n",
    "# match = re.findall(r'[a-z]', s)\n",
    "# print(match)\n",
    "\n",
    "\n",
    "# j = \"949578123\"\n",
    "# match = re.findall(r'[0-9]', j)\n",
    "# print(match)\n",
    "\n",
    "j = \"949578123\"\n",
    "match = re.findall(r'[^5-9]', j)\n",
    "print(match)"
   ]
  },
  {
   "cell_type": "code",
   "execution_count": null,
   "id": "b91c5069",
   "metadata": {},
   "outputs": [],
   "source": [
    "^ – Caret\n",
    "Caret (^) symbol matches the beginning of the string i.e. \n",
    "checks whether the string starts with the given character(s) or not. For example –  \n",
    "\n",
    "^g will check if the string starts with g such as g etc.\n",
    "^ge will check if the string starts with ge such as g, etc."
   ]
  },
  {
   "cell_type": "code",
   "execution_count": 59,
   "id": "0220bb25",
   "metadata": {},
   "outputs": [
    {
     "name": "stdout",
     "output_type": "stream",
     "text": [
      "['ne']\n"
     ]
    }
   ],
   "source": [
    "s = 'new.castlekings?'\n",
    "\n",
    "match = re.findall(r'^ne', s)\n",
    "print(match)"
   ]
  },
  {
   "cell_type": "code",
   "execution_count": null,
   "id": "f74ddb37",
   "metadata": {},
   "outputs": [],
   "source": [
    "$ – Dollar\n",
    "Dollar($) symbol matches the end of the string i.e checks whether the string ends with the given character(s) or not. \n",
    "For example – \n",
    "\n",
    "s$ will check for the string that ends with a such as .\n",
    "ks$ will check for the string that ends with ks such as ."
   ]
  },
  {
   "cell_type": "code",
   "execution_count": null,
   "id": "b3605a21",
   "metadata": {},
   "outputs": [],
   "source": [
    ". – Dot\n",
    "Dot(.) symbol matches only a single character except for the newline character (\\n). For example –  \n",
    "\n",
    "a.b will check for the string that contains any character at the place of the dot such as acb, acbd, abbb, etc\n",
    ".. will check if the string contains at least 2 characters"
   ]
  },
  {
   "cell_type": "code",
   "execution_count": null,
   "id": "706d2f38",
   "metadata": {},
   "outputs": [],
   "source": [
    "| – Or\n",
    "Or symbol works as the or operator meaning it checks whether the pattern before or after the or symbol is \n",
    "present in the string or not. For example –  \n",
    "\n",
    "a|b will match any string that contains a or b such as acd, bcd, abcd, etc."
   ]
  },
  {
   "cell_type": "code",
   "execution_count": null,
   "id": "46f799e3",
   "metadata": {},
   "outputs": [],
   "source": [
    "* – Star\n",
    "Star (*) symbol matches zero or more occurrences of the regex preceding the * symbol. For example –  \n",
    "\n",
    "ab*c will be matched for the string ac, abc, abbbc, dabc, etc. but will not be matched for abdc because b is not followed by c."
   ]
  },
  {
   "cell_type": "code",
   "execution_count": null,
   "id": "eb5495e2",
   "metadata": {},
   "outputs": [],
   "source": [
    "+ – Plus\n",
    "Plus (+) symbol matches one or more occurrences of the regex preceding the + symbol. For example –  \n",
    "\n",
    "ab+c will be matched for the string abc, abbc, dabc, but will not be matched for ac, abdc because there is no \n",
    "b in ac and b is not followed by c in abdc."
   ]
  },
  {
   "cell_type": "code",
   "execution_count": null,
   "id": "b92a3191",
   "metadata": {},
   "outputs": [],
   "source": [
    "{m, n} – Braces\n",
    "Braces match any repetitions preceding regex from m to n both inclusive. For example –  \n",
    "\n",
    "a{2, 4} will be matched for the string aaab, baaaac, gaad, but will not be matched for strings like abc, bc\n",
    "because there is only one a or no a in both the cases."
   ]
  },
  {
   "cell_type": "code",
   "execution_count": null,
   "id": "65726a18",
   "metadata": {},
   "outputs": [],
   "source": [
    "(<regex>) – Group\n",
    "Group symbol is used to group sub-patterns. For example –  \n",
    "\n",
    "(a|b)cd will match for strings like acd, abcd, gacd, etc."
   ]
  },
  {
   "cell_type": "code",
   "execution_count": null,
   "id": "27398b4f",
   "metadata": {},
   "outputs": [],
   "source": []
  },
  {
   "cell_type": "code",
   "execution_count": null,
   "id": "2f0ff964",
   "metadata": {},
   "outputs": [],
   "source": [
    "Quantifiers\n",
    "special character designations, we can use them along with quantifiers to define how many we expect.\n",
    "\n",
    "Character\t Description\t Example Pattern Code\t   Exammple Match\n",
    "\\d\tA digit\tfile_\\d\\d\tfile_25\n",
    "\\w\tAlphanumeric\t\\w-\\w\\w\\w\tA-b_1\n",
    "\\s\tWhite space\ta\\sb\\sc\ta b c\n",
    "\\D\tA non digit\t\\D\\D\\D\tABC\n",
    "\\W\tNon-alphanumeric\t\\W\\W\\W\\W\\W\t*-+=)\n",
    "\\S\tNon-whitespace\t\\S\\S\\S\\S\tYoyo\n"
   ]
  },
  {
   "cell_type": "code",
   "execution_count": null,
   "id": "c9c67bfe",
   "metadata": {},
   "outputs": [],
   "source": [
    "Regex Module in Python\n",
    "Python has a module named re that is used for regular expressions in Python."
   ]
  },
  {
   "cell_type": "code",
   "execution_count": null,
   "id": "a781a681",
   "metadata": {},
   "outputs": [],
   "source": [
    "re.findall()\n",
    "Return all non-overlapping matches of pattern in string, as a list of strings. \n",
    "The string is scanned left-to-right, and matches are returned in the order found.\n",
    "\n",
    "Example: Finding all occurrences of a pattern "
   ]
  },
  {
   "cell_type": "code",
   "execution_count": null,
   "id": "8965c1f4",
   "metadata": {},
   "outputs": [],
   "source": [
    "import re\n",
    " \n",
    "# A sample text string where regular expression\n",
    "# is searched.\n",
    "string = \"\"\"Hello my Number is 123456789 and\n",
    "            my friend's number is 987654321\"\"\"\n",
    " \n",
    "# A sample regular expression to find digits.\n",
    "regex = '\\d+'\n",
    " \n",
    "match = re.findall(regex, string)\n",
    "print(match)"
   ]
  },
  {
   "cell_type": "code",
   "execution_count": null,
   "id": "797c0184",
   "metadata": {},
   "outputs": [],
   "source": [
    "re.compile() \n",
    "Regular expressions are compiled into pattern objects, which have methods for various operations \n",
    "such as searching for pattern matches or performing string substitutions. "
   ]
  },
  {
   "cell_type": "code",
   "execution_count": null,
   "id": "77ef6d8b",
   "metadata": {},
   "outputs": [],
   "source": [
    "import re\n",
    " \n",
    "# compile() creates regular expression\n",
    "# character class [a-e],\n",
    "# which is equivalent to [abcde].\n",
    "# class [abcde] will match with string with\n",
    "# 'a', 'b', 'c', 'd', 'e'.\n",
    "p = re.compile('[a-e]')\n",
    " \n",
    "# findall() searches for the Regular Expression\n",
    "# and return a list upon finding\n",
    "print(p.findall(\"Aye, said Mr. Gibenson Stark\"))"
   ]
  },
  {
   "cell_type": "code",
   "execution_count": null,
   "id": "fb2feb74",
   "metadata": {},
   "outputs": [],
   "source": [
    "\n",
    "import re\n",
    " \n",
    "# \\d is equivalent to [0-9].\n",
    "p = re.compile('\\d')\n",
    "print(p.findall(\"I went to him at 11 A.M. on 4th July 1886\"))\n",
    " \n",
    "# \\d+ will match a group on [0-9], group\n",
    "# of one or greater size\n",
    "p = re.compile('\\d+')\n",
    "print(p.findall(\"I went to him at 11 A.M. on 4th July 1886\"))"
   ]
  },
  {
   "cell_type": "code",
   "execution_count": null,
   "id": "532de60e",
   "metadata": {},
   "outputs": [],
   "source": [
    "re.split() \n",
    "Split string by the occurrences of a character or a pattern, upon finding that pattern,\n",
    "the remaining characters from the string are returned as part of the resulting list. \n",
    "\n",
    "Syntax : \n",
    "\n",
    "re.split(pattern, string, maxsplit=0, flags=0)"
   ]
  },
  {
   "cell_type": "code",
   "execution_count": null,
   "id": "1b173183",
   "metadata": {},
   "outputs": [],
   "source": [
    "\n",
    "from re import split\n",
    " \n",
    "\n",
    "print(split('\\W+', 'Words, words , Words'))\n",
    "print(split('\\W+', \"Word's words Words\"))\n",
    " \n",
    "\n",
    "print(split('\\W+', 'On 12th Jan 2016, at 11:02 AM'))\n",
    " \n",
    "\n",
    "print(split('\\d+', 'On 12th Jan 2016, at 11:02 AM'))"
   ]
  },
  {
   "cell_type": "code",
   "execution_count": null,
   "id": "1dce7bab",
   "metadata": {},
   "outputs": [],
   "source": [
    "print(re.split('\\d+', 'On 12th Jan 2016, at 11:02 AM', 1))\n",
    " \n",
    "\n",
    "print(re.split('[a-f]+', 'Aey, Boy oh boy, come here', flags=re.IGNORECASE))\n",
    "print(re.split('[a-f]+', 'Aey, Boy oh boy, come here'))"
   ]
  },
  {
   "cell_type": "code",
   "execution_count": null,
   "id": "37a2301e",
   "metadata": {},
   "outputs": [],
   "source": [
    "re.sub() \n",
    "The ‘sub’ in the function stands for SubString, \n",
    "a certain regular expression pattern is searched in the given string(3rd parameter),\n",
    "and upon finding the substring pattern is replaced by repl(2nd parameter), \n",
    "count checks and maintains the number of times this occurs. \n",
    "\n",
    "Syntax:\n",
    "\n",
    " re.sub(pattern, repl, string, count=0, flags=0)"
   ]
  },
  {
   "cell_type": "code",
   "execution_count": null,
   "id": "d310b8db",
   "metadata": {},
   "outputs": [],
   "source": [
    "import re\n",
    " \n",
    "\n",
    "print(re.sub('ub', '~*', 'Subject has Uber booked already',\n",
    "             flags=re.IGNORECASE))\n",
    " \n",
    "\n",
    "print(re.sub('ub', '~*', 'Subject has Uber booked already'))\n",
    "\n",
    "print(re.sub('ub', '~*', 'Subject has Uber booked already',\n",
    "             count=1, flags=re.IGNORECASE))\n",
    "\n",
    "print(re.sub(r'\\sAND\\s', ' & ', 'Baked Beans And Spam',\n",
    "             flags=re.IGNORECASE))"
   ]
  },
  {
   "cell_type": "code",
   "execution_count": null,
   "id": "a25d66c4",
   "metadata": {},
   "outputs": [],
   "source": [
    "re.subn() \n",
    "subn() is similar to sub() in all ways, except in its way to providing output. \n",
    "It returns a tuple with count of total of replacement and the new string rather than just the string. \n",
    "\n",
    "Syntax:\n",
    "\n",
    " re.subn(pattern, repl, string, count=0, flags=0)"
   ]
  },
  {
   "cell_type": "code",
   "execution_count": null,
   "id": "7c1f48b7",
   "metadata": {},
   "outputs": [],
   "source": []
  },
  {
   "cell_type": "code",
   "execution_count": null,
   "id": "ffd12697",
   "metadata": {},
   "outputs": [],
   "source": []
  },
  {
   "cell_type": "code",
   "execution_count": null,
   "id": "f04c50e6",
   "metadata": {},
   "outputs": [],
   "source": []
  },
  {
   "cell_type": "code",
   "execution_count": null,
   "id": "760beee7",
   "metadata": {},
   "outputs": [],
   "source": []
  },
  {
   "cell_type": "code",
   "execution_count": null,
   "id": "0f1e9467",
   "metadata": {},
   "outputs": [],
   "source": []
  },
  {
   "cell_type": "code",
   "execution_count": null,
   "id": "1c50ad89",
   "metadata": {},
   "outputs": [],
   "source": []
  }
 ],
 "metadata": {
  "kernelspec": {
   "display_name": "Python 3",
   "language": "python",
   "name": "python3"
  },
  "language_info": {
   "codemirror_mode": {
    "name": "ipython",
    "version": 3
   },
   "file_extension": ".py",
   "mimetype": "text/x-python",
   "name": "python",
   "nbconvert_exporter": "python",
   "pygments_lexer": "ipython3",
   "version": "3.8.8"
  },
  "latex_envs": {
   "LaTeX_envs_menu_present": true,
   "autoclose": false,
   "autocomplete": true,
   "bibliofile": "biblio.bib",
   "cite_by": "apalike",
   "current_citInitial": 1,
   "eqLabelWithNumbers": true,
   "eqNumInitial": 1,
   "hotkeys": {
    "equation": "Ctrl-E",
    "itemize": "Ctrl-I"
   },
   "labels_anchors": false,
   "latex_user_defs": false,
   "report_style_numbering": false,
   "user_envs_cfg": false
  },
  "varInspector": {
   "cols": {
    "lenName": 16,
    "lenType": 16,
    "lenVar": 40
   },
   "kernels_config": {
    "python": {
     "delete_cmd_postfix": "",
     "delete_cmd_prefix": "del ",
     "library": "var_list.py",
     "varRefreshCmd": "print(var_dic_list())"
    },
    "r": {
     "delete_cmd_postfix": ") ",
     "delete_cmd_prefix": "rm(",
     "library": "var_list.r",
     "varRefreshCmd": "cat(var_dic_list()) "
    }
   },
   "types_to_exclude": [
    "module",
    "function",
    "builtin_function_or_method",
    "instance",
    "_Feature"
   ],
   "window_display": false
  }
 },
 "nbformat": 4,
 "nbformat_minor": 5
}
